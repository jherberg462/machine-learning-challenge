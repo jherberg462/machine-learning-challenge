{
 "cells": [
  {
   "cell_type": "code",
   "execution_count": 1,
   "metadata": {},
   "outputs": [],
   "source": [
    "import pandas as pd\n",
    "import numpy as np\n",
    "import joblib\n",
    "from sklearn.model_selection import train_test_split, GridSearchCV\n",
    "from sklearn.preprocessing import StandardScaler, LabelEncoder\n",
    "from sklearn.ensemble import RandomForestClassifier\n",
    "\n",
    "import warnings\n",
    "warnings.simplefilter('ignore')\n",
    "import joblib"
   ]
  },
  {
   "cell_type": "code",
   "execution_count": 2,
   "metadata": {},
   "outputs": [],
   "source": [
    "#read in cleaned csv file\n",
    "df = pd.read_csv('data_clean.csv')"
   ]
  },
  {
   "cell_type": "code",
   "execution_count": 3,
   "metadata": {},
   "outputs": [
    {
     "data": {
      "text/html": [
       "<div>\n",
       "<style scoped>\n",
       "    .dataframe tbody tr th:only-of-type {\n",
       "        vertical-align: middle;\n",
       "    }\n",
       "\n",
       "    .dataframe tbody tr th {\n",
       "        vertical-align: top;\n",
       "    }\n",
       "\n",
       "    .dataframe thead th {\n",
       "        text-align: right;\n",
       "    }\n",
       "</style>\n",
       "<table border=\"1\" class=\"dataframe\">\n",
       "  <thead>\n",
       "    <tr style=\"text-align: right;\">\n",
       "      <th></th>\n",
       "      <th>Unnamed: 0</th>\n",
       "      <th>koi_disposition</th>\n",
       "      <th>koi_fpflag_nt</th>\n",
       "      <th>koi_fpflag_ss</th>\n",
       "      <th>koi_fpflag_co</th>\n",
       "      <th>koi_fpflag_ec</th>\n",
       "      <th>koi_period</th>\n",
       "      <th>koi_period_err1</th>\n",
       "      <th>koi_period_err2</th>\n",
       "      <th>koi_time0bk</th>\n",
       "      <th>...</th>\n",
       "      <th>koi_steff_err2</th>\n",
       "      <th>koi_slogg</th>\n",
       "      <th>koi_slogg_err1</th>\n",
       "      <th>koi_slogg_err2</th>\n",
       "      <th>koi_srad</th>\n",
       "      <th>koi_srad_err1</th>\n",
       "      <th>koi_srad_err2</th>\n",
       "      <th>ra</th>\n",
       "      <th>dec</th>\n",
       "      <th>koi_kepmag</th>\n",
       "    </tr>\n",
       "  </thead>\n",
       "  <tbody>\n",
       "    <tr>\n",
       "      <th>0</th>\n",
       "      <td>0</td>\n",
       "      <td>CONFIRMED</td>\n",
       "      <td>0</td>\n",
       "      <td>0</td>\n",
       "      <td>0</td>\n",
       "      <td>0</td>\n",
       "      <td>54.418383</td>\n",
       "      <td>2.479000e-04</td>\n",
       "      <td>-2.479000e-04</td>\n",
       "      <td>162.513840</td>\n",
       "      <td>...</td>\n",
       "      <td>-81</td>\n",
       "      <td>4.467</td>\n",
       "      <td>0.064</td>\n",
       "      <td>-0.096</td>\n",
       "      <td>0.927</td>\n",
       "      <td>0.105</td>\n",
       "      <td>-0.061</td>\n",
       "      <td>291.93423</td>\n",
       "      <td>48.141651</td>\n",
       "      <td>15.347</td>\n",
       "    </tr>\n",
       "    <tr>\n",
       "      <th>1</th>\n",
       "      <td>1</td>\n",
       "      <td>FALSE POSITIVE</td>\n",
       "      <td>0</td>\n",
       "      <td>1</td>\n",
       "      <td>0</td>\n",
       "      <td>0</td>\n",
       "      <td>19.899140</td>\n",
       "      <td>1.490000e-05</td>\n",
       "      <td>-1.490000e-05</td>\n",
       "      <td>175.850252</td>\n",
       "      <td>...</td>\n",
       "      <td>-176</td>\n",
       "      <td>4.544</td>\n",
       "      <td>0.044</td>\n",
       "      <td>-0.176</td>\n",
       "      <td>0.868</td>\n",
       "      <td>0.233</td>\n",
       "      <td>-0.078</td>\n",
       "      <td>297.00482</td>\n",
       "      <td>48.134129</td>\n",
       "      <td>15.436</td>\n",
       "    </tr>\n",
       "    <tr>\n",
       "      <th>2</th>\n",
       "      <td>2</td>\n",
       "      <td>FALSE POSITIVE</td>\n",
       "      <td>0</td>\n",
       "      <td>1</td>\n",
       "      <td>0</td>\n",
       "      <td>0</td>\n",
       "      <td>1.736952</td>\n",
       "      <td>2.630000e-07</td>\n",
       "      <td>-2.630000e-07</td>\n",
       "      <td>170.307565</td>\n",
       "      <td>...</td>\n",
       "      <td>-174</td>\n",
       "      <td>4.564</td>\n",
       "      <td>0.053</td>\n",
       "      <td>-0.168</td>\n",
       "      <td>0.791</td>\n",
       "      <td>0.201</td>\n",
       "      <td>-0.067</td>\n",
       "      <td>285.53461</td>\n",
       "      <td>48.285210</td>\n",
       "      <td>15.597</td>\n",
       "    </tr>\n",
       "    <tr>\n",
       "      <th>3</th>\n",
       "      <td>3</td>\n",
       "      <td>CONFIRMED</td>\n",
       "      <td>0</td>\n",
       "      <td>0</td>\n",
       "      <td>0</td>\n",
       "      <td>0</td>\n",
       "      <td>2.525592</td>\n",
       "      <td>3.760000e-06</td>\n",
       "      <td>-3.760000e-06</td>\n",
       "      <td>171.595550</td>\n",
       "      <td>...</td>\n",
       "      <td>-211</td>\n",
       "      <td>4.438</td>\n",
       "      <td>0.070</td>\n",
       "      <td>-0.210</td>\n",
       "      <td>1.046</td>\n",
       "      <td>0.334</td>\n",
       "      <td>-0.133</td>\n",
       "      <td>288.75488</td>\n",
       "      <td>48.226200</td>\n",
       "      <td>15.509</td>\n",
       "    </tr>\n",
       "    <tr>\n",
       "      <th>4</th>\n",
       "      <td>4</td>\n",
       "      <td>CONFIRMED</td>\n",
       "      <td>0</td>\n",
       "      <td>0</td>\n",
       "      <td>0</td>\n",
       "      <td>0</td>\n",
       "      <td>4.134435</td>\n",
       "      <td>1.050000e-05</td>\n",
       "      <td>-1.050000e-05</td>\n",
       "      <td>172.979370</td>\n",
       "      <td>...</td>\n",
       "      <td>-232</td>\n",
       "      <td>4.486</td>\n",
       "      <td>0.054</td>\n",
       "      <td>-0.229</td>\n",
       "      <td>0.972</td>\n",
       "      <td>0.315</td>\n",
       "      <td>-0.105</td>\n",
       "      <td>296.28613</td>\n",
       "      <td>48.224670</td>\n",
       "      <td>15.714</td>\n",
       "    </tr>\n",
       "  </tbody>\n",
       "</table>\n",
       "<p>5 rows × 42 columns</p>\n",
       "</div>"
      ],
      "text/plain": [
       "   Unnamed: 0 koi_disposition  koi_fpflag_nt  koi_fpflag_ss  koi_fpflag_co  \\\n",
       "0           0       CONFIRMED              0              0              0   \n",
       "1           1  FALSE POSITIVE              0              1              0   \n",
       "2           2  FALSE POSITIVE              0              1              0   \n",
       "3           3       CONFIRMED              0              0              0   \n",
       "4           4       CONFIRMED              0              0              0   \n",
       "\n",
       "   koi_fpflag_ec  koi_period  koi_period_err1  koi_period_err2  koi_time0bk  \\\n",
       "0              0   54.418383     2.479000e-04    -2.479000e-04   162.513840   \n",
       "1              0   19.899140     1.490000e-05    -1.490000e-05   175.850252   \n",
       "2              0    1.736952     2.630000e-07    -2.630000e-07   170.307565   \n",
       "3              0    2.525592     3.760000e-06    -3.760000e-06   171.595550   \n",
       "4              0    4.134435     1.050000e-05    -1.050000e-05   172.979370   \n",
       "\n",
       "   ...  koi_steff_err2  koi_slogg  koi_slogg_err1  koi_slogg_err2  koi_srad  \\\n",
       "0  ...             -81      4.467           0.064          -0.096     0.927   \n",
       "1  ...            -176      4.544           0.044          -0.176     0.868   \n",
       "2  ...            -174      4.564           0.053          -0.168     0.791   \n",
       "3  ...            -211      4.438           0.070          -0.210     1.046   \n",
       "4  ...            -232      4.486           0.054          -0.229     0.972   \n",
       "\n",
       "   koi_srad_err1  koi_srad_err2         ra        dec  koi_kepmag  \n",
       "0          0.105         -0.061  291.93423  48.141651      15.347  \n",
       "1          0.233         -0.078  297.00482  48.134129      15.436  \n",
       "2          0.201         -0.067  285.53461  48.285210      15.597  \n",
       "3          0.334         -0.133  288.75488  48.226200      15.509  \n",
       "4          0.315         -0.105  296.28613  48.224670      15.714  \n",
       "\n",
       "[5 rows x 42 columns]"
      ]
     },
     "execution_count": 3,
     "metadata": {},
     "output_type": "execute_result"
    }
   ],
   "source": [
    "df.head()"
   ]
  },
  {
   "cell_type": "code",
   "execution_count": 4,
   "metadata": {},
   "outputs": [
    {
     "data": {
      "text/plain": [
       "array(['CONFIRMED', 'FALSE POSITIVE', 'CANDIDATE'], dtype=object)"
      ]
     },
     "execution_count": 4,
     "metadata": {},
     "output_type": "execute_result"
    }
   ],
   "source": [
    "#review possible y values\n",
    "df['koi_disposition'].unique()"
   ]
  },
  {
   "cell_type": "code",
   "execution_count": 5,
   "metadata": {},
   "outputs": [],
   "source": [
    "#get y values into new df\n",
    "dfy_ = df['koi_disposition']\n",
    "#reshape df with only y values\n",
    "dfy_ = dfy_.values.reshape(-1, 1)\n",
    "label = LabelEncoder()\n",
    "#transform y values into format in line with what a ML model can use\n",
    "dfy = label.fit(dfy_).transform(dfy_)\n"
   ]
  },
  {
   "cell_type": "code",
   "execution_count": 6,
   "metadata": {},
   "outputs": [],
   "source": [
    "#get unique values of possible y values into a variable \n",
    "y_labels = label.classes_\n"
   ]
  },
  {
   "cell_type": "code",
   "execution_count": 7,
   "metadata": {},
   "outputs": [
    {
     "data": {
      "text/html": [
       "<div>\n",
       "<style scoped>\n",
       "    .dataframe tbody tr th:only-of-type {\n",
       "        vertical-align: middle;\n",
       "    }\n",
       "\n",
       "    .dataframe tbody tr th {\n",
       "        vertical-align: top;\n",
       "    }\n",
       "\n",
       "    .dataframe thead th {\n",
       "        text-align: right;\n",
       "    }\n",
       "</style>\n",
       "<table border=\"1\" class=\"dataframe\">\n",
       "  <thead>\n",
       "    <tr style=\"text-align: right;\">\n",
       "      <th></th>\n",
       "      <th>label</th>\n",
       "    </tr>\n",
       "  </thead>\n",
       "  <tbody>\n",
       "    <tr>\n",
       "      <th>0</th>\n",
       "      <td>CANDIDATE</td>\n",
       "    </tr>\n",
       "    <tr>\n",
       "      <th>1</th>\n",
       "      <td>CONFIRMED</td>\n",
       "    </tr>\n",
       "    <tr>\n",
       "      <th>2</th>\n",
       "      <td>FALSE POSITIVE</td>\n",
       "    </tr>\n",
       "  </tbody>\n",
       "</table>\n",
       "</div>"
      ],
      "text/plain": [
       "            label\n",
       "0       CANDIDATE\n",
       "1       CONFIRMED\n",
       "2  FALSE POSITIVE"
      ]
     },
     "execution_count": 7,
     "metadata": {},
     "output_type": "execute_result"
    }
   ],
   "source": [
    "#create df with possible y values in each row\n",
    "y_labels_df = pd.DataFrame({'label': y_labels})\n",
    "y_labels_df"
   ]
  },
  {
   "cell_type": "code",
   "execution_count": 8,
   "metadata": {},
   "outputs": [],
   "source": [
    "#drop extra column with index value\n",
    "df = df.drop(columns=['Unnamed: 0'])\n",
    "#todo - don't save the index on the to_csv function in the cleaning notebook\n",
    "#will add a note that this should have been done"
   ]
  },
  {
   "cell_type": "code",
   "execution_count": 9,
   "metadata": {},
   "outputs": [],
   "source": [
    "#drop y values from df containing only x values\n",
    "dfx = df.drop(columns=['koi_disposition'])"
   ]
  },
  {
   "cell_type": "code",
   "execution_count": 10,
   "metadata": {},
   "outputs": [
    {
     "data": {
      "text/html": [
       "<div>\n",
       "<style scoped>\n",
       "    .dataframe tbody tr th:only-of-type {\n",
       "        vertical-align: middle;\n",
       "    }\n",
       "\n",
       "    .dataframe tbody tr th {\n",
       "        vertical-align: top;\n",
       "    }\n",
       "\n",
       "    .dataframe thead th {\n",
       "        text-align: right;\n",
       "    }\n",
       "</style>\n",
       "<table border=\"1\" class=\"dataframe\">\n",
       "  <thead>\n",
       "    <tr style=\"text-align: right;\">\n",
       "      <th></th>\n",
       "      <th>koi_fpflag_nt</th>\n",
       "      <th>koi_fpflag_ss</th>\n",
       "      <th>koi_fpflag_co</th>\n",
       "      <th>koi_fpflag_ec</th>\n",
       "      <th>koi_period</th>\n",
       "      <th>koi_period_err1</th>\n",
       "      <th>koi_period_err2</th>\n",
       "      <th>koi_time0bk</th>\n",
       "      <th>koi_time0bk_err1</th>\n",
       "      <th>koi_time0bk_err2</th>\n",
       "      <th>...</th>\n",
       "      <th>koi_steff_err2</th>\n",
       "      <th>koi_slogg</th>\n",
       "      <th>koi_slogg_err1</th>\n",
       "      <th>koi_slogg_err2</th>\n",
       "      <th>koi_srad</th>\n",
       "      <th>koi_srad_err1</th>\n",
       "      <th>koi_srad_err2</th>\n",
       "      <th>ra</th>\n",
       "      <th>dec</th>\n",
       "      <th>koi_kepmag</th>\n",
       "    </tr>\n",
       "  </thead>\n",
       "  <tbody>\n",
       "    <tr>\n",
       "      <th>0</th>\n",
       "      <td>0</td>\n",
       "      <td>0</td>\n",
       "      <td>0</td>\n",
       "      <td>0</td>\n",
       "      <td>54.418383</td>\n",
       "      <td>2.479000e-04</td>\n",
       "      <td>-2.479000e-04</td>\n",
       "      <td>162.513840</td>\n",
       "      <td>0.003520</td>\n",
       "      <td>-0.003520</td>\n",
       "      <td>...</td>\n",
       "      <td>-81</td>\n",
       "      <td>4.467</td>\n",
       "      <td>0.064</td>\n",
       "      <td>-0.096</td>\n",
       "      <td>0.927</td>\n",
       "      <td>0.105</td>\n",
       "      <td>-0.061</td>\n",
       "      <td>291.93423</td>\n",
       "      <td>48.141651</td>\n",
       "      <td>15.347</td>\n",
       "    </tr>\n",
       "    <tr>\n",
       "      <th>1</th>\n",
       "      <td>0</td>\n",
       "      <td>1</td>\n",
       "      <td>0</td>\n",
       "      <td>0</td>\n",
       "      <td>19.899140</td>\n",
       "      <td>1.490000e-05</td>\n",
       "      <td>-1.490000e-05</td>\n",
       "      <td>175.850252</td>\n",
       "      <td>0.000581</td>\n",
       "      <td>-0.000581</td>\n",
       "      <td>...</td>\n",
       "      <td>-176</td>\n",
       "      <td>4.544</td>\n",
       "      <td>0.044</td>\n",
       "      <td>-0.176</td>\n",
       "      <td>0.868</td>\n",
       "      <td>0.233</td>\n",
       "      <td>-0.078</td>\n",
       "      <td>297.00482</td>\n",
       "      <td>48.134129</td>\n",
       "      <td>15.436</td>\n",
       "    </tr>\n",
       "    <tr>\n",
       "      <th>2</th>\n",
       "      <td>0</td>\n",
       "      <td>1</td>\n",
       "      <td>0</td>\n",
       "      <td>0</td>\n",
       "      <td>1.736952</td>\n",
       "      <td>2.630000e-07</td>\n",
       "      <td>-2.630000e-07</td>\n",
       "      <td>170.307565</td>\n",
       "      <td>0.000115</td>\n",
       "      <td>-0.000115</td>\n",
       "      <td>...</td>\n",
       "      <td>-174</td>\n",
       "      <td>4.564</td>\n",
       "      <td>0.053</td>\n",
       "      <td>-0.168</td>\n",
       "      <td>0.791</td>\n",
       "      <td>0.201</td>\n",
       "      <td>-0.067</td>\n",
       "      <td>285.53461</td>\n",
       "      <td>48.285210</td>\n",
       "      <td>15.597</td>\n",
       "    </tr>\n",
       "    <tr>\n",
       "      <th>3</th>\n",
       "      <td>0</td>\n",
       "      <td>0</td>\n",
       "      <td>0</td>\n",
       "      <td>0</td>\n",
       "      <td>2.525592</td>\n",
       "      <td>3.760000e-06</td>\n",
       "      <td>-3.760000e-06</td>\n",
       "      <td>171.595550</td>\n",
       "      <td>0.001130</td>\n",
       "      <td>-0.001130</td>\n",
       "      <td>...</td>\n",
       "      <td>-211</td>\n",
       "      <td>4.438</td>\n",
       "      <td>0.070</td>\n",
       "      <td>-0.210</td>\n",
       "      <td>1.046</td>\n",
       "      <td>0.334</td>\n",
       "      <td>-0.133</td>\n",
       "      <td>288.75488</td>\n",
       "      <td>48.226200</td>\n",
       "      <td>15.509</td>\n",
       "    </tr>\n",
       "    <tr>\n",
       "      <th>4</th>\n",
       "      <td>0</td>\n",
       "      <td>0</td>\n",
       "      <td>0</td>\n",
       "      <td>0</td>\n",
       "      <td>4.134435</td>\n",
       "      <td>1.050000e-05</td>\n",
       "      <td>-1.050000e-05</td>\n",
       "      <td>172.979370</td>\n",
       "      <td>0.001900</td>\n",
       "      <td>-0.001900</td>\n",
       "      <td>...</td>\n",
       "      <td>-232</td>\n",
       "      <td>4.486</td>\n",
       "      <td>0.054</td>\n",
       "      <td>-0.229</td>\n",
       "      <td>0.972</td>\n",
       "      <td>0.315</td>\n",
       "      <td>-0.105</td>\n",
       "      <td>296.28613</td>\n",
       "      <td>48.224670</td>\n",
       "      <td>15.714</td>\n",
       "    </tr>\n",
       "  </tbody>\n",
       "</table>\n",
       "<p>5 rows × 40 columns</p>\n",
       "</div>"
      ],
      "text/plain": [
       "   koi_fpflag_nt  koi_fpflag_ss  koi_fpflag_co  koi_fpflag_ec  koi_period  \\\n",
       "0              0              0              0              0   54.418383   \n",
       "1              0              1              0              0   19.899140   \n",
       "2              0              1              0              0    1.736952   \n",
       "3              0              0              0              0    2.525592   \n",
       "4              0              0              0              0    4.134435   \n",
       "\n",
       "   koi_period_err1  koi_period_err2  koi_time0bk  koi_time0bk_err1  \\\n",
       "0     2.479000e-04    -2.479000e-04   162.513840          0.003520   \n",
       "1     1.490000e-05    -1.490000e-05   175.850252          0.000581   \n",
       "2     2.630000e-07    -2.630000e-07   170.307565          0.000115   \n",
       "3     3.760000e-06    -3.760000e-06   171.595550          0.001130   \n",
       "4     1.050000e-05    -1.050000e-05   172.979370          0.001900   \n",
       "\n",
       "   koi_time0bk_err2  ...  koi_steff_err2  koi_slogg  koi_slogg_err1  \\\n",
       "0         -0.003520  ...             -81      4.467           0.064   \n",
       "1         -0.000581  ...            -176      4.544           0.044   \n",
       "2         -0.000115  ...            -174      4.564           0.053   \n",
       "3         -0.001130  ...            -211      4.438           0.070   \n",
       "4         -0.001900  ...            -232      4.486           0.054   \n",
       "\n",
       "   koi_slogg_err2  koi_srad  koi_srad_err1  koi_srad_err2         ra  \\\n",
       "0          -0.096     0.927          0.105         -0.061  291.93423   \n",
       "1          -0.176     0.868          0.233         -0.078  297.00482   \n",
       "2          -0.168     0.791          0.201         -0.067  285.53461   \n",
       "3          -0.210     1.046          0.334         -0.133  288.75488   \n",
       "4          -0.229     0.972          0.315         -0.105  296.28613   \n",
       "\n",
       "         dec  koi_kepmag  \n",
       "0  48.141651      15.347  \n",
       "1  48.134129      15.436  \n",
       "2  48.285210      15.597  \n",
       "3  48.226200      15.509  \n",
       "4  48.224670      15.714  \n",
       "\n",
       "[5 rows x 40 columns]"
      ]
     },
     "execution_count": 10,
     "metadata": {},
     "output_type": "execute_result"
    }
   ],
   "source": [
    "dfx.head()"
   ]
  },
  {
   "cell_type": "code",
   "execution_count": 11,
   "metadata": {},
   "outputs": [
    {
     "name": "stdout",
     "output_type": "stream",
     "text": [
      "(6991, 40) (6991,)\n"
     ]
    }
   ],
   "source": [
    "print(dfx.shape, dfy.shape)\n",
    "#if the y shape causes problems, I can put into a DF and reshape"
   ]
  },
  {
   "cell_type": "code",
   "execution_count": 12,
   "metadata": {},
   "outputs": [],
   "source": [
    "#split data into training and testing data\n",
    "x_train, x_test, y_train, y_test = train_test_split(dfx, dfy, random_state=55)\n",
    "#scale x values\n",
    "x_scaler = StandardScaler().fit(x_train)\n",
    "x_train = x_scaler.transform(x_train)\n",
    "x_test = x_scaler.transform(x_test)"
   ]
  },
  {
   "cell_type": "code",
   "execution_count": 13,
   "metadata": {},
   "outputs": [],
   "source": [
    "model = RandomForestClassifier(n_estimators=200)\n"
   ]
  },
  {
   "cell_type": "code",
   "execution_count": 14,
   "metadata": {},
   "outputs": [
    {
     "data": {
      "text/plain": [
       "RandomForestClassifier(bootstrap=True, class_weight=None, criterion='gini',\n",
       "                       max_depth=None, max_features='auto', max_leaf_nodes=None,\n",
       "                       min_impurity_decrease=0.0, min_impurity_split=None,\n",
       "                       min_samples_leaf=1, min_samples_split=2,\n",
       "                       min_weight_fraction_leaf=0.0, n_estimators=200,\n",
       "                       n_jobs=None, oob_score=False, random_state=None,\n",
       "                       verbose=0, warm_start=False)"
      ]
     },
     "execution_count": 14,
     "metadata": {},
     "output_type": "execute_result"
    }
   ],
   "source": [
    "model.fit(x_train, y_train)"
   ]
  },
  {
   "cell_type": "code",
   "execution_count": 15,
   "metadata": {},
   "outputs": [
    {
     "data": {
      "text/plain": [
       "0.8895881006864989"
      ]
     },
     "execution_count": 15,
     "metadata": {},
     "output_type": "execute_result"
    }
   ],
   "source": [
    "#score the model with test data\n",
    "model.score(x_test, y_test)"
   ]
  },
  {
   "cell_type": "code",
   "execution_count": 16,
   "metadata": {},
   "outputs": [
    {
     "data": {
      "text/plain": [
       "1.0"
      ]
     },
     "execution_count": 16,
     "metadata": {},
     "output_type": "execute_result"
    }
   ],
   "source": [
    "#see the score with training data\n",
    "model.score(x_train, y_train)"
   ]
  },
  {
   "cell_type": "code",
   "execution_count": 17,
   "metadata": {},
   "outputs": [
    {
     "data": {
      "text/plain": [
       "'FALSE POSITIVE'"
      ]
     },
     "execution_count": 17,
     "metadata": {},
     "output_type": "execute_result"
    }
   ],
   "source": [
    "#predicts the koi_disposition of the 354 index of the df\n",
    "res = model.predict(dfx.loc[354,].values.reshape(1, -1))[0]\n",
    "#look up the corresponding string classification associated with the numerical classification\n",
    "y_labels_df.loc[res,]['label']"
   ]
  },
  {
   "cell_type": "code",
   "execution_count": 18,
   "metadata": {},
   "outputs": [],
   "source": [
    "#get value of each feature in a list\n",
    "feature_value = list(model.feature_importances_)\n",
    "#list of feature names\n",
    "feature_names = list(dfx.columns)"
   ]
  },
  {
   "cell_type": "code",
   "execution_count": 19,
   "metadata": {},
   "outputs": [
    {
     "data": {
      "text/plain": [
       "[('koi_fpflag_nt', 0.10169284863738372),\n",
       " ('koi_fpflag_ss', 0.06159437691890167),\n",
       " ('koi_fpflag_co', 0.10743682168342482),\n",
       " ('koi_fpflag_ec', 0.03600673430965329),\n",
       " ('koi_period', 0.022491656942975946),\n",
       " ('koi_period_err1', 0.017157148305041683),\n",
       " ('koi_period_err2', 0.01708880117213136),\n",
       " ('koi_time0bk', 0.013208570587122258),\n",
       " ('koi_time0bk_err1', 0.025066513841492746),\n",
       " ('koi_time0bk_err2', 0.026321670128889342),\n",
       " ('koi_impact', 0.017313195910416097),\n",
       " ('koi_impact_err1', 0.010848925878824559),\n",
       " ('koi_impact_err2', 0.010581850521044895),\n",
       " ('koi_duration', 0.023194381372630874),\n",
       " ('koi_duration_err1', 0.03151037857381347),\n",
       " ('koi_duration_err2', 0.033976468008043464),\n",
       " ('koi_depth', 0.022228818394139028),\n",
       " ('koi_depth_err1', 0.013675761590655892),\n",
       " ('koi_depth_err2', 0.014475978052206195),\n",
       " ('koi_prad', 0.048673275334492),\n",
       " ('koi_prad_err1', 0.03558425727326433),\n",
       " ('koi_prad_err2', 0.03540801047183052),\n",
       " ('koi_teq', 0.01575718276870175),\n",
       " ('koi_insol', 0.016929084726568698),\n",
       " ('koi_insol_err1', 0.019060070268834405),\n",
       " ('koi_insol_err2', 0.015003500058902488),\n",
       " ('koi_model_snr', 0.05008000632258233),\n",
       " ('koi_tce_plnt_num', 0.0036143052116450625),\n",
       " ('koi_steff', 0.008974118557560756),\n",
       " ('koi_steff_err1', 0.025733156686602),\n",
       " ('koi_steff_err2', 0.026786539846080103),\n",
       " ('koi_slogg', 0.009686171469084534),\n",
       " ('koi_slogg_err1', 0.008861853722315047),\n",
       " ('koi_slogg_err2', 0.010476747131998726),\n",
       " ('koi_srad', 0.009543878051124355),\n",
       " ('koi_srad_err1', 0.010922763760786504),\n",
       " ('koi_srad_err2', 0.008805802396272475),\n",
       " ('ra', 0.0123639806260716),\n",
       " ('dec', 0.011146033001993287),\n",
       " ('koi_kepmag', 0.010718361484497776)]"
      ]
     },
     "execution_count": 19,
     "metadata": {},
     "output_type": "execute_result"
    }
   ],
   "source": [
    "#loop to zip the feature name and its value together\n",
    "features_and_values = [(feature, importance) for feature, importance in zip(feature_names, feature_value)]\n",
    "features_and_values"
   ]
  },
  {
   "cell_type": "code",
   "execution_count": 20,
   "metadata": {},
   "outputs": [
    {
     "data": {
      "text/plain": [
       "[('koi_fpflag_co', 0.10743682168342482),\n",
       " ('koi_fpflag_nt', 0.10169284863738372),\n",
       " ('koi_fpflag_ss', 0.06159437691890167),\n",
       " ('koi_model_snr', 0.05008000632258233),\n",
       " ('koi_prad', 0.048673275334492),\n",
       " ('koi_fpflag_ec', 0.03600673430965329),\n",
       " ('koi_prad_err1', 0.03558425727326433),\n",
       " ('koi_prad_err2', 0.03540801047183052),\n",
       " ('koi_duration_err2', 0.033976468008043464),\n",
       " ('koi_duration_err1', 0.03151037857381347),\n",
       " ('koi_steff_err2', 0.026786539846080103),\n",
       " ('koi_time0bk_err2', 0.026321670128889342),\n",
       " ('koi_steff_err1', 0.025733156686602),\n",
       " ('koi_time0bk_err1', 0.025066513841492746),\n",
       " ('koi_duration', 0.023194381372630874),\n",
       " ('koi_period', 0.022491656942975946),\n",
       " ('koi_depth', 0.022228818394139028),\n",
       " ('koi_insol_err1', 0.019060070268834405),\n",
       " ('koi_impact', 0.017313195910416097),\n",
       " ('koi_period_err1', 0.017157148305041683),\n",
       " ('koi_period_err2', 0.01708880117213136),\n",
       " ('koi_insol', 0.016929084726568698),\n",
       " ('koi_teq', 0.01575718276870175),\n",
       " ('koi_insol_err2', 0.015003500058902488),\n",
       " ('koi_depth_err2', 0.014475978052206195),\n",
       " ('koi_depth_err1', 0.013675761590655892),\n",
       " ('koi_time0bk', 0.013208570587122258),\n",
       " ('ra', 0.0123639806260716),\n",
       " ('dec', 0.011146033001993287),\n",
       " ('koi_srad_err1', 0.010922763760786504),\n",
       " ('koi_impact_err1', 0.010848925878824559),\n",
       " ('koi_kepmag', 0.010718361484497776),\n",
       " ('koi_impact_err2', 0.010581850521044895),\n",
       " ('koi_slogg_err2', 0.010476747131998726),\n",
       " ('koi_slogg', 0.009686171469084534),\n",
       " ('koi_srad', 0.009543878051124355),\n",
       " ('koi_steff', 0.008974118557560756),\n",
       " ('koi_slogg_err1', 0.008861853722315047),\n",
       " ('koi_srad_err2', 0.008805802396272475),\n",
       " ('koi_tce_plnt_num', 0.0036143052116450625)]"
      ]
     },
     "execution_count": 20,
     "metadata": {},
     "output_type": "execute_result"
    }
   ],
   "source": [
    "sorted(features_and_values, key = lambda x: x[1], reverse = True) "
   ]
  },
  {
   "cell_type": "code",
   "execution_count": 21,
   "metadata": {},
   "outputs": [],
   "source": [
    "#create a copy of dfx\n",
    "dfx_important_features = dfx.copy()\n",
    "#drop columns of features with importance value of less than 1%\n",
    "dfx_important_features = dfx_important_features.drop(columns=['koi_slogg', 'koi_srad', 'koi_steff', 'koi_slogg_err1',\n",
    "                                                             'koi_srad_err2', 'koi_tce_plnt_num'])\n",
    "#the total significience of dropped columns is just under 5%"
   ]
  },
  {
   "cell_type": "code",
   "execution_count": 22,
   "metadata": {},
   "outputs": [],
   "source": [
    "#split data into testing and training data\n",
    "#the random state remained at 55\n",
    "\n",
    "x_train, x_test, y_train, y_test = train_test_split(dfx_important_features, dfy, random_state=55)\n",
    "#scale x values\n",
    "x_scaler = StandardScaler().fit(x_train)\n",
    "x_train = x_scaler.transform(x_train)\n",
    "x_test = x_scaler.transform(x_test)"
   ]
  },
  {
   "cell_type": "code",
   "execution_count": 23,
   "metadata": {},
   "outputs": [],
   "source": [
    "#create new model\n",
    "model_important_features = RandomForestClassifier(n_estimators=200)\n"
   ]
  },
  {
   "cell_type": "code",
   "execution_count": 24,
   "metadata": {},
   "outputs": [
    {
     "data": {
      "text/plain": [
       "RandomForestClassifier(bootstrap=True, class_weight=None, criterion='gini',\n",
       "                       max_depth=None, max_features='auto', max_leaf_nodes=None,\n",
       "                       min_impurity_decrease=0.0, min_impurity_split=None,\n",
       "                       min_samples_leaf=1, min_samples_split=2,\n",
       "                       min_weight_fraction_leaf=0.0, n_estimators=200,\n",
       "                       n_jobs=None, oob_score=False, random_state=None,\n",
       "                       verbose=0, warm_start=False)"
      ]
     },
     "execution_count": 24,
     "metadata": {},
     "output_type": "execute_result"
    }
   ],
   "source": [
    "#train new model\n",
    "model_important_features.fit(x_train, y_train)"
   ]
  },
  {
   "cell_type": "code",
   "execution_count": 25,
   "metadata": {},
   "outputs": [
    {
     "data": {
      "text/plain": [
       "0.8913043478260869"
      ]
     },
     "execution_count": 25,
     "metadata": {},
     "output_type": "execute_result"
    }
   ],
   "source": [
    "#score new model with testing data\n",
    "model_important_features.score(x_test, y_test)\n",
    "#didn't help very much, the r^2 only went up by about 0.003"
   ]
  },
  {
   "cell_type": "code",
   "execution_count": 26,
   "metadata": {},
   "outputs": [
    {
     "data": {
      "text/plain": [
       "1.0"
      ]
     },
     "execution_count": 26,
     "metadata": {},
     "output_type": "execute_result"
    }
   ],
   "source": [
    "model_important_features.score(x_train, y_train)"
   ]
  },
  {
   "cell_type": "code",
   "execution_count": 27,
   "metadata": {},
   "outputs": [],
   "source": [
    "max_depth = list(np.arange(20, 71, 10))\n",
    "max_features = list(np.arange(5, 26, 5))\n",
    "max_features.append('auto')\n",
    "max_features.append('log2')\n",
    "max_depth.append(None)\n",
    "param_grid = {\n",
    "    'bootstrap': [True, False], \n",
    "    'n_estimators': [250],\n",
    "    'max_features': max_features,\n",
    "    'max_depth': max_depth,\n",
    "    'n_jobs': [-1]\n",
    "}\n",
    "grid = GridSearchCV(model_important_features, param_grid, verbose=3)"
   ]
  },
  {
   "cell_type": "code",
   "execution_count": 28,
   "metadata": {},
   "outputs": [
    {
     "name": "stdout",
     "output_type": "stream",
     "text": [
      "Fitting 3 folds for each of 98 candidates, totalling 294 fits\n",
      "[CV] bootstrap=True, max_depth=20, max_features=5, n_estimators=250, n_jobs=-1 \n"
     ]
    },
    {
     "name": "stderr",
     "output_type": "stream",
     "text": [
      "[Parallel(n_jobs=1)]: Using backend SequentialBackend with 1 concurrent workers.\n"
     ]
    },
    {
     "name": "stdout",
     "output_type": "stream",
     "text": [
      "[CV]  bootstrap=True, max_depth=20, max_features=5, n_estimators=250, n_jobs=-1, score=0.890, total=   2.4s\n",
      "[CV] bootstrap=True, max_depth=20, max_features=5, n_estimators=250, n_jobs=-1 \n"
     ]
    },
    {
     "name": "stderr",
     "output_type": "stream",
     "text": [
      "[Parallel(n_jobs=1)]: Done   1 out of   1 | elapsed:    2.4s remaining:    0.0s\n"
     ]
    },
    {
     "name": "stdout",
     "output_type": "stream",
     "text": [
      "[CV]  bootstrap=True, max_depth=20, max_features=5, n_estimators=250, n_jobs=-1, score=0.890, total=   0.7s\n",
      "[CV] bootstrap=True, max_depth=20, max_features=5, n_estimators=250, n_jobs=-1 \n"
     ]
    },
    {
     "name": "stderr",
     "output_type": "stream",
     "text": [
      "[Parallel(n_jobs=1)]: Done   2 out of   2 | elapsed:    3.1s remaining:    0.0s\n"
     ]
    },
    {
     "name": "stdout",
     "output_type": "stream",
     "text": [
      "[CV]  bootstrap=True, max_depth=20, max_features=5, n_estimators=250, n_jobs=-1, score=0.890, total=   0.7s\n",
      "[CV] bootstrap=True, max_depth=20, max_features=10, n_estimators=250, n_jobs=-1 \n",
      "[CV]  bootstrap=True, max_depth=20, max_features=10, n_estimators=250, n_jobs=-1, score=0.898, total=   1.0s\n",
      "[CV] bootstrap=True, max_depth=20, max_features=10, n_estimators=250, n_jobs=-1 \n",
      "[CV]  bootstrap=True, max_depth=20, max_features=10, n_estimators=250, n_jobs=-1, score=0.896, total=   1.0s\n",
      "[CV] bootstrap=True, max_depth=20, max_features=10, n_estimators=250, n_jobs=-1 \n",
      "[CV]  bootstrap=True, max_depth=20, max_features=10, n_estimators=250, n_jobs=-1, score=0.887, total=   1.0s\n",
      "[CV] bootstrap=True, max_depth=20, max_features=15, n_estimators=250, n_jobs=-1 \n",
      "[CV]  bootstrap=True, max_depth=20, max_features=15, n_estimators=250, n_jobs=-1, score=0.900, total=   1.3s\n",
      "[CV] bootstrap=True, max_depth=20, max_features=15, n_estimators=250, n_jobs=-1 \n",
      "[CV]  bootstrap=True, max_depth=20, max_features=15, n_estimators=250, n_jobs=-1, score=0.898, total=   1.2s\n",
      "[CV] bootstrap=True, max_depth=20, max_features=15, n_estimators=250, n_jobs=-1 \n",
      "[CV]  bootstrap=True, max_depth=20, max_features=15, n_estimators=250, n_jobs=-1, score=0.891, total=   1.4s\n",
      "[CV] bootstrap=True, max_depth=20, max_features=20, n_estimators=250, n_jobs=-1 \n",
      "[CV]  bootstrap=True, max_depth=20, max_features=20, n_estimators=250, n_jobs=-1, score=0.901, total=   1.6s\n",
      "[CV] bootstrap=True, max_depth=20, max_features=20, n_estimators=250, n_jobs=-1 \n",
      "[CV]  bootstrap=True, max_depth=20, max_features=20, n_estimators=250, n_jobs=-1, score=0.894, total=   1.5s\n",
      "[CV] bootstrap=True, max_depth=20, max_features=20, n_estimators=250, n_jobs=-1 \n",
      "[CV]  bootstrap=True, max_depth=20, max_features=20, n_estimators=250, n_jobs=-1, score=0.889, total=   1.8s\n",
      "[CV] bootstrap=True, max_depth=20, max_features=25, n_estimators=250, n_jobs=-1 \n",
      "[CV]  bootstrap=True, max_depth=20, max_features=25, n_estimators=250, n_jobs=-1, score=0.900, total=   2.1s\n",
      "[CV] bootstrap=True, max_depth=20, max_features=25, n_estimators=250, n_jobs=-1 \n",
      "[CV]  bootstrap=True, max_depth=20, max_features=25, n_estimators=250, n_jobs=-1, score=0.892, total=   2.0s\n",
      "[CV] bootstrap=True, max_depth=20, max_features=25, n_estimators=250, n_jobs=-1 \n",
      "[CV]  bootstrap=True, max_depth=20, max_features=25, n_estimators=250, n_jobs=-1, score=0.889, total=   2.0s\n",
      "[CV] bootstrap=True, max_depth=20, max_features=auto, n_estimators=250, n_jobs=-1 \n",
      "[CV]  bootstrap=True, max_depth=20, max_features=auto, n_estimators=250, n_jobs=-1, score=0.890, total=   0.7s\n",
      "[CV] bootstrap=True, max_depth=20, max_features=auto, n_estimators=250, n_jobs=-1 \n",
      "[CV]  bootstrap=True, max_depth=20, max_features=auto, n_estimators=250, n_jobs=-1, score=0.888, total=   0.8s\n",
      "[CV] bootstrap=True, max_depth=20, max_features=auto, n_estimators=250, n_jobs=-1 \n",
      "[CV]  bootstrap=True, max_depth=20, max_features=auto, n_estimators=250, n_jobs=-1, score=0.889, total=   0.7s\n",
      "[CV] bootstrap=True, max_depth=20, max_features=log2, n_estimators=250, n_jobs=-1 \n",
      "[CV]  bootstrap=True, max_depth=20, max_features=log2, n_estimators=250, n_jobs=-1, score=0.894, total=   0.7s\n",
      "[CV] bootstrap=True, max_depth=20, max_features=log2, n_estimators=250, n_jobs=-1 \n",
      "[CV]  bootstrap=True, max_depth=20, max_features=log2, n_estimators=250, n_jobs=-1, score=0.887, total=   0.7s\n",
      "[CV] bootstrap=True, max_depth=20, max_features=log2, n_estimators=250, n_jobs=-1 \n",
      "[CV]  bootstrap=True, max_depth=20, max_features=log2, n_estimators=250, n_jobs=-1, score=0.885, total=   0.7s\n",
      "[CV] bootstrap=True, max_depth=30, max_features=5, n_estimators=250, n_jobs=-1 \n",
      "[CV]  bootstrap=True, max_depth=30, max_features=5, n_estimators=250, n_jobs=-1, score=0.895, total=   0.8s\n",
      "[CV] bootstrap=True, max_depth=30, max_features=5, n_estimators=250, n_jobs=-1 \n",
      "[CV]  bootstrap=True, max_depth=30, max_features=5, n_estimators=250, n_jobs=-1, score=0.887, total=   0.7s\n",
      "[CV] bootstrap=True, max_depth=30, max_features=5, n_estimators=250, n_jobs=-1 \n",
      "[CV]  bootstrap=True, max_depth=30, max_features=5, n_estimators=250, n_jobs=-1, score=0.888, total=   0.8s\n",
      "[CV] bootstrap=True, max_depth=30, max_features=10, n_estimators=250, n_jobs=-1 \n",
      "[CV]  bootstrap=True, max_depth=30, max_features=10, n_estimators=250, n_jobs=-1, score=0.898, total=   1.0s\n",
      "[CV] bootstrap=True, max_depth=30, max_features=10, n_estimators=250, n_jobs=-1 \n",
      "[CV]  bootstrap=True, max_depth=30, max_features=10, n_estimators=250, n_jobs=-1, score=0.899, total=   1.0s\n",
      "[CV] bootstrap=True, max_depth=30, max_features=10, n_estimators=250, n_jobs=-1 \n",
      "[CV]  bootstrap=True, max_depth=30, max_features=10, n_estimators=250, n_jobs=-1, score=0.893, total=   1.0s\n",
      "[CV] bootstrap=True, max_depth=30, max_features=15, n_estimators=250, n_jobs=-1 \n",
      "[CV]  bootstrap=True, max_depth=30, max_features=15, n_estimators=250, n_jobs=-1, score=0.899, total=   1.4s\n",
      "[CV] bootstrap=True, max_depth=30, max_features=15, n_estimators=250, n_jobs=-1 \n",
      "[CV]  bootstrap=True, max_depth=30, max_features=15, n_estimators=250, n_jobs=-1, score=0.894, total=   1.4s\n",
      "[CV] bootstrap=True, max_depth=30, max_features=15, n_estimators=250, n_jobs=-1 \n",
      "[CV]  bootstrap=True, max_depth=30, max_features=15, n_estimators=250, n_jobs=-1, score=0.891, total=   1.4s\n",
      "[CV] bootstrap=True, max_depth=30, max_features=20, n_estimators=250, n_jobs=-1 \n",
      "[CV]  bootstrap=True, max_depth=30, max_features=20, n_estimators=250, n_jobs=-1, score=0.901, total=   1.8s\n",
      "[CV] bootstrap=True, max_depth=30, max_features=20, n_estimators=250, n_jobs=-1 \n",
      "[CV]  bootstrap=True, max_depth=30, max_features=20, n_estimators=250, n_jobs=-1, score=0.898, total=   1.7s\n",
      "[CV] bootstrap=True, max_depth=30, max_features=20, n_estimators=250, n_jobs=-1 \n",
      "[CV]  bootstrap=True, max_depth=30, max_features=20, n_estimators=250, n_jobs=-1, score=0.889, total=   1.7s\n",
      "[CV] bootstrap=True, max_depth=30, max_features=25, n_estimators=250, n_jobs=-1 \n",
      "[CV]  bootstrap=True, max_depth=30, max_features=25, n_estimators=250, n_jobs=-1, score=0.903, total=   2.1s\n",
      "[CV] bootstrap=True, max_depth=30, max_features=25, n_estimators=250, n_jobs=-1 \n",
      "[CV]  bootstrap=True, max_depth=30, max_features=25, n_estimators=250, n_jobs=-1, score=0.898, total=   2.1s\n",
      "[CV] bootstrap=True, max_depth=30, max_features=25, n_estimators=250, n_jobs=-1 \n",
      "[CV]  bootstrap=True, max_depth=30, max_features=25, n_estimators=250, n_jobs=-1, score=0.891, total=   2.2s\n",
      "[CV] bootstrap=True, max_depth=30, max_features=auto, n_estimators=250, n_jobs=-1 \n",
      "[CV]  bootstrap=True, max_depth=30, max_features=auto, n_estimators=250, n_jobs=-1, score=0.895, total=   0.8s\n",
      "[CV] bootstrap=True, max_depth=30, max_features=auto, n_estimators=250, n_jobs=-1 \n",
      "[CV]  bootstrap=True, max_depth=30, max_features=auto, n_estimators=250, n_jobs=-1, score=0.888, total=   0.8s\n",
      "[CV] bootstrap=True, max_depth=30, max_features=auto, n_estimators=250, n_jobs=-1 \n",
      "[CV]  bootstrap=True, max_depth=30, max_features=auto, n_estimators=250, n_jobs=-1, score=0.885, total=   0.8s\n",
      "[CV] bootstrap=True, max_depth=30, max_features=log2, n_estimators=250, n_jobs=-1 \n",
      "[CV]  bootstrap=True, max_depth=30, max_features=log2, n_estimators=250, n_jobs=-1, score=0.893, total=   0.7s\n",
      "[CV] bootstrap=True, max_depth=30, max_features=log2, n_estimators=250, n_jobs=-1 \n",
      "[CV]  bootstrap=True, max_depth=30, max_features=log2, n_estimators=250, n_jobs=-1, score=0.889, total=   0.7s\n",
      "[CV] bootstrap=True, max_depth=30, max_features=log2, n_estimators=250, n_jobs=-1 \n",
      "[CV]  bootstrap=True, max_depth=30, max_features=log2, n_estimators=250, n_jobs=-1, score=0.887, total=   0.8s\n",
      "[CV] bootstrap=True, max_depth=40, max_features=5, n_estimators=250, n_jobs=-1 \n",
      "[CV]  bootstrap=True, max_depth=40, max_features=5, n_estimators=250, n_jobs=-1, score=0.895, total=   0.8s\n",
      "[CV] bootstrap=True, max_depth=40, max_features=5, n_estimators=250, n_jobs=-1 \n",
      "[CV]  bootstrap=True, max_depth=40, max_features=5, n_estimators=250, n_jobs=-1, score=0.892, total=   0.8s\n",
      "[CV] bootstrap=True, max_depth=40, max_features=5, n_estimators=250, n_jobs=-1 \n",
      "[CV]  bootstrap=True, max_depth=40, max_features=5, n_estimators=250, n_jobs=-1, score=0.884, total=   0.7s\n",
      "[CV] bootstrap=True, max_depth=40, max_features=10, n_estimators=250, n_jobs=-1 \n"
     ]
    },
    {
     "name": "stdout",
     "output_type": "stream",
     "text": [
      "[CV]  bootstrap=True, max_depth=40, max_features=10, n_estimators=250, n_jobs=-1, score=0.900, total=   1.1s\n",
      "[CV] bootstrap=True, max_depth=40, max_features=10, n_estimators=250, n_jobs=-1 \n",
      "[CV]  bootstrap=True, max_depth=40, max_features=10, n_estimators=250, n_jobs=-1, score=0.896, total=   1.1s\n",
      "[CV] bootstrap=True, max_depth=40, max_features=10, n_estimators=250, n_jobs=-1 \n",
      "[CV]  bootstrap=True, max_depth=40, max_features=10, n_estimators=250, n_jobs=-1, score=0.893, total=   1.1s\n",
      "[CV] bootstrap=True, max_depth=40, max_features=15, n_estimators=250, n_jobs=-1 \n",
      "[CV]  bootstrap=True, max_depth=40, max_features=15, n_estimators=250, n_jobs=-1, score=0.905, total=   1.4s\n",
      "[CV] bootstrap=True, max_depth=40, max_features=15, n_estimators=250, n_jobs=-1 \n",
      "[CV]  bootstrap=True, max_depth=40, max_features=15, n_estimators=250, n_jobs=-1, score=0.895, total=   1.7s\n",
      "[CV] bootstrap=True, max_depth=40, max_features=15, n_estimators=250, n_jobs=-1 \n",
      "[CV]  bootstrap=True, max_depth=40, max_features=15, n_estimators=250, n_jobs=-1, score=0.894, total=   1.7s\n",
      "[CV] bootstrap=True, max_depth=40, max_features=20, n_estimators=250, n_jobs=-1 \n",
      "[CV]  bootstrap=True, max_depth=40, max_features=20, n_estimators=250, n_jobs=-1, score=0.900, total=   2.0s\n",
      "[CV] bootstrap=True, max_depth=40, max_features=20, n_estimators=250, n_jobs=-1 \n",
      "[CV]  bootstrap=True, max_depth=40, max_features=20, n_estimators=250, n_jobs=-1, score=0.891, total=   1.7s\n",
      "[CV] bootstrap=True, max_depth=40, max_features=20, n_estimators=250, n_jobs=-1 \n",
      "[CV]  bootstrap=True, max_depth=40, max_features=20, n_estimators=250, n_jobs=-1, score=0.889, total=   1.7s\n",
      "[CV] bootstrap=True, max_depth=40, max_features=25, n_estimators=250, n_jobs=-1 \n",
      "[CV]  bootstrap=True, max_depth=40, max_features=25, n_estimators=250, n_jobs=-1, score=0.899, total=   2.1s\n",
      "[CV] bootstrap=True, max_depth=40, max_features=25, n_estimators=250, n_jobs=-1 \n",
      "[CV]  bootstrap=True, max_depth=40, max_features=25, n_estimators=250, n_jobs=-1, score=0.898, total=   2.1s\n",
      "[CV] bootstrap=True, max_depth=40, max_features=25, n_estimators=250, n_jobs=-1 \n",
      "[CV]  bootstrap=True, max_depth=40, max_features=25, n_estimators=250, n_jobs=-1, score=0.891, total=   2.1s\n",
      "[CV] bootstrap=True, max_depth=40, max_features=auto, n_estimators=250, n_jobs=-1 \n",
      "[CV]  bootstrap=True, max_depth=40, max_features=auto, n_estimators=250, n_jobs=-1, score=0.891, total=   0.8s\n",
      "[CV] bootstrap=True, max_depth=40, max_features=auto, n_estimators=250, n_jobs=-1 \n",
      "[CV]  bootstrap=True, max_depth=40, max_features=auto, n_estimators=250, n_jobs=-1, score=0.888, total=   0.7s\n",
      "[CV] bootstrap=True, max_depth=40, max_features=auto, n_estimators=250, n_jobs=-1 \n",
      "[CV]  bootstrap=True, max_depth=40, max_features=auto, n_estimators=250, n_jobs=-1, score=0.885, total=   0.7s\n",
      "[CV] bootstrap=True, max_depth=40, max_features=log2, n_estimators=250, n_jobs=-1 \n",
      "[CV]  bootstrap=True, max_depth=40, max_features=log2, n_estimators=250, n_jobs=-1, score=0.891, total=   0.8s\n",
      "[CV] bootstrap=True, max_depth=40, max_features=log2, n_estimators=250, n_jobs=-1 \n",
      "[CV]  bootstrap=True, max_depth=40, max_features=log2, n_estimators=250, n_jobs=-1, score=0.886, total=   0.7s\n",
      "[CV] bootstrap=True, max_depth=40, max_features=log2, n_estimators=250, n_jobs=-1 \n",
      "[CV]  bootstrap=True, max_depth=40, max_features=log2, n_estimators=250, n_jobs=-1, score=0.886, total=   0.7s\n",
      "[CV] bootstrap=True, max_depth=50, max_features=5, n_estimators=250, n_jobs=-1 \n",
      "[CV]  bootstrap=True, max_depth=50, max_features=5, n_estimators=250, n_jobs=-1, score=0.888, total=   0.7s\n",
      "[CV] bootstrap=True, max_depth=50, max_features=5, n_estimators=250, n_jobs=-1 \n",
      "[CV]  bootstrap=True, max_depth=50, max_features=5, n_estimators=250, n_jobs=-1, score=0.889, total=   0.7s\n",
      "[CV] bootstrap=True, max_depth=50, max_features=5, n_estimators=250, n_jobs=-1 \n",
      "[CV]  bootstrap=True, max_depth=50, max_features=5, n_estimators=250, n_jobs=-1, score=0.885, total=   0.7s\n",
      "[CV] bootstrap=True, max_depth=50, max_features=10, n_estimators=250, n_jobs=-1 \n",
      "[CV]  bootstrap=True, max_depth=50, max_features=10, n_estimators=250, n_jobs=-1, score=0.897, total=   1.0s\n",
      "[CV] bootstrap=True, max_depth=50, max_features=10, n_estimators=250, n_jobs=-1 \n",
      "[CV]  bootstrap=True, max_depth=50, max_features=10, n_estimators=250, n_jobs=-1, score=0.896, total=   1.1s\n",
      "[CV] bootstrap=True, max_depth=50, max_features=10, n_estimators=250, n_jobs=-1 \n",
      "[CV]  bootstrap=True, max_depth=50, max_features=10, n_estimators=250, n_jobs=-1, score=0.894, total=   1.1s\n",
      "[CV] bootstrap=True, max_depth=50, max_features=15, n_estimators=250, n_jobs=-1 \n",
      "[CV]  bootstrap=True, max_depth=50, max_features=15, n_estimators=250, n_jobs=-1, score=0.897, total=   1.6s\n",
      "[CV] bootstrap=True, max_depth=50, max_features=15, n_estimators=250, n_jobs=-1 \n",
      "[CV]  bootstrap=True, max_depth=50, max_features=15, n_estimators=250, n_jobs=-1, score=0.900, total=   1.4s\n",
      "[CV] bootstrap=True, max_depth=50, max_features=15, n_estimators=250, n_jobs=-1 \n",
      "[CV]  bootstrap=True, max_depth=50, max_features=15, n_estimators=250, n_jobs=-1, score=0.893, total=   1.5s\n",
      "[CV] bootstrap=True, max_depth=50, max_features=20, n_estimators=250, n_jobs=-1 \n",
      "[CV]  bootstrap=True, max_depth=50, max_features=20, n_estimators=250, n_jobs=-1, score=0.902, total=   1.8s\n",
      "[CV] bootstrap=True, max_depth=50, max_features=20, n_estimators=250, n_jobs=-1 \n",
      "[CV]  bootstrap=True, max_depth=50, max_features=20, n_estimators=250, n_jobs=-1, score=0.897, total=   1.7s\n",
      "[CV] bootstrap=True, max_depth=50, max_features=20, n_estimators=250, n_jobs=-1 \n",
      "[CV]  bootstrap=True, max_depth=50, max_features=20, n_estimators=250, n_jobs=-1, score=0.891, total=   2.0s\n",
      "[CV] bootstrap=True, max_depth=50, max_features=25, n_estimators=250, n_jobs=-1 \n",
      "[CV]  bootstrap=True, max_depth=50, max_features=25, n_estimators=250, n_jobs=-1, score=0.899, total=   2.3s\n",
      "[CV] bootstrap=True, max_depth=50, max_features=25, n_estimators=250, n_jobs=-1 \n",
      "[CV]  bootstrap=True, max_depth=50, max_features=25, n_estimators=250, n_jobs=-1, score=0.897, total=   2.4s\n",
      "[CV] bootstrap=True, max_depth=50, max_features=25, n_estimators=250, n_jobs=-1 \n",
      "[CV]  bootstrap=True, max_depth=50, max_features=25, n_estimators=250, n_jobs=-1, score=0.888, total=   2.3s\n",
      "[CV] bootstrap=True, max_depth=50, max_features=auto, n_estimators=250, n_jobs=-1 \n",
      "[CV]  bootstrap=True, max_depth=50, max_features=auto, n_estimators=250, n_jobs=-1, score=0.892, total=   0.7s\n",
      "[CV] bootstrap=True, max_depth=50, max_features=auto, n_estimators=250, n_jobs=-1 \n",
      "[CV]  bootstrap=True, max_depth=50, max_features=auto, n_estimators=250, n_jobs=-1, score=0.887, total=   0.8s\n",
      "[CV] bootstrap=True, max_depth=50, max_features=auto, n_estimators=250, n_jobs=-1 \n",
      "[CV]  bootstrap=True, max_depth=50, max_features=auto, n_estimators=250, n_jobs=-1, score=0.886, total=   0.8s\n",
      "[CV] bootstrap=True, max_depth=50, max_features=log2, n_estimators=250, n_jobs=-1 \n",
      "[CV]  bootstrap=True, max_depth=50, max_features=log2, n_estimators=250, n_jobs=-1, score=0.893, total=   0.7s\n",
      "[CV] bootstrap=True, max_depth=50, max_features=log2, n_estimators=250, n_jobs=-1 \n",
      "[CV]  bootstrap=True, max_depth=50, max_features=log2, n_estimators=250, n_jobs=-1, score=0.887, total=   0.7s\n",
      "[CV] bootstrap=True, max_depth=50, max_features=log2, n_estimators=250, n_jobs=-1 \n",
      "[CV]  bootstrap=True, max_depth=50, max_features=log2, n_estimators=250, n_jobs=-1, score=0.884, total=   0.7s\n",
      "[CV] bootstrap=True, max_depth=60, max_features=5, n_estimators=250, n_jobs=-1 \n",
      "[CV]  bootstrap=True, max_depth=60, max_features=5, n_estimators=250, n_jobs=-1, score=0.896, total=   0.7s\n",
      "[CV] bootstrap=True, max_depth=60, max_features=5, n_estimators=250, n_jobs=-1 \n",
      "[CV]  bootstrap=True, max_depth=60, max_features=5, n_estimators=250, n_jobs=-1, score=0.886, total=   0.7s\n",
      "[CV] bootstrap=True, max_depth=60, max_features=5, n_estimators=250, n_jobs=-1 \n",
      "[CV]  bootstrap=True, max_depth=60, max_features=5, n_estimators=250, n_jobs=-1, score=0.887, total=   0.7s\n",
      "[CV] bootstrap=True, max_depth=60, max_features=10, n_estimators=250, n_jobs=-1 \n",
      "[CV]  bootstrap=True, max_depth=60, max_features=10, n_estimators=250, n_jobs=-1, score=0.897, total=   1.0s\n",
      "[CV] bootstrap=True, max_depth=60, max_features=10, n_estimators=250, n_jobs=-1 \n"
     ]
    },
    {
     "name": "stdout",
     "output_type": "stream",
     "text": [
      "[CV]  bootstrap=True, max_depth=60, max_features=10, n_estimators=250, n_jobs=-1, score=0.898, total=   1.1s\n",
      "[CV] bootstrap=True, max_depth=60, max_features=10, n_estimators=250, n_jobs=-1 \n",
      "[CV]  bootstrap=True, max_depth=60, max_features=10, n_estimators=250, n_jobs=-1, score=0.891, total=   1.1s\n",
      "[CV] bootstrap=True, max_depth=60, max_features=15, n_estimators=250, n_jobs=-1 \n",
      "[CV]  bootstrap=True, max_depth=60, max_features=15, n_estimators=250, n_jobs=-1, score=0.899, total=   1.4s\n",
      "[CV] bootstrap=True, max_depth=60, max_features=15, n_estimators=250, n_jobs=-1 \n",
      "[CV]  bootstrap=True, max_depth=60, max_features=15, n_estimators=250, n_jobs=-1, score=0.896, total=   1.5s\n",
      "[CV] bootstrap=True, max_depth=60, max_features=15, n_estimators=250, n_jobs=-1 \n",
      "[CV]  bootstrap=True, max_depth=60, max_features=15, n_estimators=250, n_jobs=-1, score=0.892, total=   1.5s\n",
      "[CV] bootstrap=True, max_depth=60, max_features=20, n_estimators=250, n_jobs=-1 \n",
      "[CV]  bootstrap=True, max_depth=60, max_features=20, n_estimators=250, n_jobs=-1, score=0.898, total=   1.7s\n",
      "[CV] bootstrap=True, max_depth=60, max_features=20, n_estimators=250, n_jobs=-1 \n",
      "[CV]  bootstrap=True, max_depth=60, max_features=20, n_estimators=250, n_jobs=-1, score=0.895, total=   1.8s\n",
      "[CV] bootstrap=True, max_depth=60, max_features=20, n_estimators=250, n_jobs=-1 \n",
      "[CV]  bootstrap=True, max_depth=60, max_features=20, n_estimators=250, n_jobs=-1, score=0.892, total=   1.8s\n",
      "[CV] bootstrap=True, max_depth=60, max_features=25, n_estimators=250, n_jobs=-1 \n",
      "[CV]  bootstrap=True, max_depth=60, max_features=25, n_estimators=250, n_jobs=-1, score=0.902, total=   2.1s\n",
      "[CV] bootstrap=True, max_depth=60, max_features=25, n_estimators=250, n_jobs=-1 \n",
      "[CV]  bootstrap=True, max_depth=60, max_features=25, n_estimators=250, n_jobs=-1, score=0.898, total=   2.2s\n",
      "[CV] bootstrap=True, max_depth=60, max_features=25, n_estimators=250, n_jobs=-1 \n",
      "[CV]  bootstrap=True, max_depth=60, max_features=25, n_estimators=250, n_jobs=-1, score=0.894, total=   2.2s\n",
      "[CV] bootstrap=True, max_depth=60, max_features=auto, n_estimators=250, n_jobs=-1 \n",
      "[CV]  bootstrap=True, max_depth=60, max_features=auto, n_estimators=250, n_jobs=-1, score=0.898, total=   0.8s\n",
      "[CV] bootstrap=True, max_depth=60, max_features=auto, n_estimators=250, n_jobs=-1 \n",
      "[CV]  bootstrap=True, max_depth=60, max_features=auto, n_estimators=250, n_jobs=-1, score=0.888, total=   0.8s\n",
      "[CV] bootstrap=True, max_depth=60, max_features=auto, n_estimators=250, n_jobs=-1 \n",
      "[CV]  bootstrap=True, max_depth=60, max_features=auto, n_estimators=250, n_jobs=-1, score=0.888, total=   0.7s\n",
      "[CV] bootstrap=True, max_depth=60, max_features=log2, n_estimators=250, n_jobs=-1 \n",
      "[CV]  bootstrap=True, max_depth=60, max_features=log2, n_estimators=250, n_jobs=-1, score=0.894, total=   0.7s\n",
      "[CV] bootstrap=True, max_depth=60, max_features=log2, n_estimators=250, n_jobs=-1 \n",
      "[CV]  bootstrap=True, max_depth=60, max_features=log2, n_estimators=250, n_jobs=-1, score=0.887, total=   0.7s\n",
      "[CV] bootstrap=True, max_depth=60, max_features=log2, n_estimators=250, n_jobs=-1 \n",
      "[CV]  bootstrap=True, max_depth=60, max_features=log2, n_estimators=250, n_jobs=-1, score=0.885, total=   0.7s\n",
      "[CV] bootstrap=True, max_depth=70, max_features=5, n_estimators=250, n_jobs=-1 \n",
      "[CV]  bootstrap=True, max_depth=70, max_features=5, n_estimators=250, n_jobs=-1, score=0.896, total=   0.7s\n",
      "[CV] bootstrap=True, max_depth=70, max_features=5, n_estimators=250, n_jobs=-1 \n",
      "[CV]  bootstrap=True, max_depth=70, max_features=5, n_estimators=250, n_jobs=-1, score=0.890, total=   0.8s\n",
      "[CV] bootstrap=True, max_depth=70, max_features=5, n_estimators=250, n_jobs=-1 \n",
      "[CV]  bootstrap=True, max_depth=70, max_features=5, n_estimators=250, n_jobs=-1, score=0.887, total=   0.8s\n",
      "[CV] bootstrap=True, max_depth=70, max_features=10, n_estimators=250, n_jobs=-1 \n",
      "[CV]  bootstrap=True, max_depth=70, max_features=10, n_estimators=250, n_jobs=-1, score=0.895, total=   1.0s\n",
      "[CV] bootstrap=True, max_depth=70, max_features=10, n_estimators=250, n_jobs=-1 \n",
      "[CV]  bootstrap=True, max_depth=70, max_features=10, n_estimators=250, n_jobs=-1, score=0.900, total=   1.1s\n",
      "[CV] bootstrap=True, max_depth=70, max_features=10, n_estimators=250, n_jobs=-1 \n",
      "[CV]  bootstrap=True, max_depth=70, max_features=10, n_estimators=250, n_jobs=-1, score=0.887, total=   1.1s\n",
      "[CV] bootstrap=True, max_depth=70, max_features=15, n_estimators=250, n_jobs=-1 \n",
      "[CV]  bootstrap=True, max_depth=70, max_features=15, n_estimators=250, n_jobs=-1, score=0.903, total=   1.4s\n",
      "[CV] bootstrap=True, max_depth=70, max_features=15, n_estimators=250, n_jobs=-1 \n",
      "[CV]  bootstrap=True, max_depth=70, max_features=15, n_estimators=250, n_jobs=-1, score=0.895, total=   1.5s\n",
      "[CV] bootstrap=True, max_depth=70, max_features=15, n_estimators=250, n_jobs=-1 \n",
      "[CV]  bootstrap=True, max_depth=70, max_features=15, n_estimators=250, n_jobs=-1, score=0.891, total=   1.5s\n",
      "[CV] bootstrap=True, max_depth=70, max_features=20, n_estimators=250, n_jobs=-1 \n",
      "[CV]  bootstrap=True, max_depth=70, max_features=20, n_estimators=250, n_jobs=-1, score=0.901, total=   1.7s\n",
      "[CV] bootstrap=True, max_depth=70, max_features=20, n_estimators=250, n_jobs=-1 \n",
      "[CV]  bootstrap=True, max_depth=70, max_features=20, n_estimators=250, n_jobs=-1, score=0.897, total=   1.8s\n",
      "[CV] bootstrap=True, max_depth=70, max_features=20, n_estimators=250, n_jobs=-1 \n",
      "[CV]  bootstrap=True, max_depth=70, max_features=20, n_estimators=250, n_jobs=-1, score=0.888, total=   1.9s\n",
      "[CV] bootstrap=True, max_depth=70, max_features=25, n_estimators=250, n_jobs=-1 \n",
      "[CV]  bootstrap=True, max_depth=70, max_features=25, n_estimators=250, n_jobs=-1, score=0.901, total=   2.2s\n",
      "[CV] bootstrap=True, max_depth=70, max_features=25, n_estimators=250, n_jobs=-1 \n",
      "[CV]  bootstrap=True, max_depth=70, max_features=25, n_estimators=250, n_jobs=-1, score=0.896, total=   2.2s\n",
      "[CV] bootstrap=True, max_depth=70, max_features=25, n_estimators=250, n_jobs=-1 \n",
      "[CV]  bootstrap=True, max_depth=70, max_features=25, n_estimators=250, n_jobs=-1, score=0.891, total=   2.2s\n",
      "[CV] bootstrap=True, max_depth=70, max_features=auto, n_estimators=250, n_jobs=-1 \n",
      "[CV]  bootstrap=True, max_depth=70, max_features=auto, n_estimators=250, n_jobs=-1, score=0.892, total=   0.9s\n",
      "[CV] bootstrap=True, max_depth=70, max_features=auto, n_estimators=250, n_jobs=-1 \n",
      "[CV]  bootstrap=True, max_depth=70, max_features=auto, n_estimators=250, n_jobs=-1, score=0.889, total=   0.8s\n",
      "[CV] bootstrap=True, max_depth=70, max_features=auto, n_estimators=250, n_jobs=-1 \n",
      "[CV]  bootstrap=True, max_depth=70, max_features=auto, n_estimators=250, n_jobs=-1, score=0.888, total=   0.8s\n",
      "[CV] bootstrap=True, max_depth=70, max_features=log2, n_estimators=250, n_jobs=-1 \n",
      "[CV]  bootstrap=True, max_depth=70, max_features=log2, n_estimators=250, n_jobs=-1, score=0.895, total=   0.7s\n",
      "[CV] bootstrap=True, max_depth=70, max_features=log2, n_estimators=250, n_jobs=-1 \n",
      "[CV]  bootstrap=True, max_depth=70, max_features=log2, n_estimators=250, n_jobs=-1, score=0.888, total=   0.8s\n",
      "[CV] bootstrap=True, max_depth=70, max_features=log2, n_estimators=250, n_jobs=-1 \n",
      "[CV]  bootstrap=True, max_depth=70, max_features=log2, n_estimators=250, n_jobs=-1, score=0.887, total=   0.8s\n",
      "[CV] bootstrap=True, max_depth=None, max_features=5, n_estimators=250, n_jobs=-1 \n",
      "[CV]  bootstrap=True, max_depth=None, max_features=5, n_estimators=250, n_jobs=-1, score=0.893, total=   0.9s\n",
      "[CV] bootstrap=True, max_depth=None, max_features=5, n_estimators=250, n_jobs=-1 \n",
      "[CV]  bootstrap=True, max_depth=None, max_features=5, n_estimators=250, n_jobs=-1, score=0.886, total=   0.8s\n",
      "[CV] bootstrap=True, max_depth=None, max_features=5, n_estimators=250, n_jobs=-1 \n",
      "[CV]  bootstrap=True, max_depth=None, max_features=5, n_estimators=250, n_jobs=-1, score=0.887, total=   0.8s\n",
      "[CV] bootstrap=True, max_depth=None, max_features=10, n_estimators=250, n_jobs=-1 \n",
      "[CV]  bootstrap=True, max_depth=None, max_features=10, n_estimators=250, n_jobs=-1, score=0.901, total=   1.1s\n",
      "[CV] bootstrap=True, max_depth=None, max_features=10, n_estimators=250, n_jobs=-1 \n",
      "[CV]  bootstrap=True, max_depth=None, max_features=10, n_estimators=250, n_jobs=-1, score=0.897, total=   1.1s\n",
      "[CV] bootstrap=True, max_depth=None, max_features=10, n_estimators=250, n_jobs=-1 \n"
     ]
    },
    {
     "name": "stdout",
     "output_type": "stream",
     "text": [
      "[CV]  bootstrap=True, max_depth=None, max_features=10, n_estimators=250, n_jobs=-1, score=0.891, total=   1.1s\n",
      "[CV] bootstrap=True, max_depth=None, max_features=15, n_estimators=250, n_jobs=-1 \n",
      "[CV]  bootstrap=True, max_depth=None, max_features=15, n_estimators=250, n_jobs=-1, score=0.905, total=   1.4s\n",
      "[CV] bootstrap=True, max_depth=None, max_features=15, n_estimators=250, n_jobs=-1 \n",
      "[CV]  bootstrap=True, max_depth=None, max_features=15, n_estimators=250, n_jobs=-1, score=0.899, total=   1.5s\n",
      "[CV] bootstrap=True, max_depth=None, max_features=15, n_estimators=250, n_jobs=-1 \n",
      "[CV]  bootstrap=True, max_depth=None, max_features=15, n_estimators=250, n_jobs=-1, score=0.888, total=   1.5s\n",
      "[CV] bootstrap=True, max_depth=None, max_features=20, n_estimators=250, n_jobs=-1 \n",
      "[CV]  bootstrap=True, max_depth=None, max_features=20, n_estimators=250, n_jobs=-1, score=0.902, total=   1.7s\n",
      "[CV] bootstrap=True, max_depth=None, max_features=20, n_estimators=250, n_jobs=-1 \n",
      "[CV]  bootstrap=True, max_depth=None, max_features=20, n_estimators=250, n_jobs=-1, score=0.893, total=   1.8s\n",
      "[CV] bootstrap=True, max_depth=None, max_features=20, n_estimators=250, n_jobs=-1 \n",
      "[CV]  bootstrap=True, max_depth=None, max_features=20, n_estimators=250, n_jobs=-1, score=0.895, total=   1.8s\n",
      "[CV] bootstrap=True, max_depth=None, max_features=25, n_estimators=250, n_jobs=-1 \n",
      "[CV]  bootstrap=True, max_depth=None, max_features=25, n_estimators=250, n_jobs=-1, score=0.902, total=   2.1s\n",
      "[CV] bootstrap=True, max_depth=None, max_features=25, n_estimators=250, n_jobs=-1 \n",
      "[CV]  bootstrap=True, max_depth=None, max_features=25, n_estimators=250, n_jobs=-1, score=0.897, total=   2.2s\n",
      "[CV] bootstrap=True, max_depth=None, max_features=25, n_estimators=250, n_jobs=-1 \n",
      "[CV]  bootstrap=True, max_depth=None, max_features=25, n_estimators=250, n_jobs=-1, score=0.891, total=   2.3s\n",
      "[CV] bootstrap=True, max_depth=None, max_features=auto, n_estimators=250, n_jobs=-1 \n",
      "[CV]  bootstrap=True, max_depth=None, max_features=auto, n_estimators=250, n_jobs=-1, score=0.890, total=   0.8s\n",
      "[CV] bootstrap=True, max_depth=None, max_features=auto, n_estimators=250, n_jobs=-1 \n",
      "[CV]  bootstrap=True, max_depth=None, max_features=auto, n_estimators=250, n_jobs=-1, score=0.890, total=   0.7s\n",
      "[CV] bootstrap=True, max_depth=None, max_features=auto, n_estimators=250, n_jobs=-1 \n",
      "[CV]  bootstrap=True, max_depth=None, max_features=auto, n_estimators=250, n_jobs=-1, score=0.892, total=   0.8s\n",
      "[CV] bootstrap=True, max_depth=None, max_features=log2, n_estimators=250, n_jobs=-1 \n",
      "[CV]  bootstrap=True, max_depth=None, max_features=log2, n_estimators=250, n_jobs=-1, score=0.894, total=   0.8s\n",
      "[CV] bootstrap=True, max_depth=None, max_features=log2, n_estimators=250, n_jobs=-1 \n",
      "[CV]  bootstrap=True, max_depth=None, max_features=log2, n_estimators=250, n_jobs=-1, score=0.888, total=   0.7s\n",
      "[CV] bootstrap=True, max_depth=None, max_features=log2, n_estimators=250, n_jobs=-1 \n",
      "[CV]  bootstrap=True, max_depth=None, max_features=log2, n_estimators=250, n_jobs=-1, score=0.887, total=   0.7s\n",
      "[CV] bootstrap=False, max_depth=20, max_features=5, n_estimators=250, n_jobs=-1 \n",
      "[CV]  bootstrap=False, max_depth=20, max_features=5, n_estimators=250, n_jobs=-1, score=0.891, total=   1.0s\n",
      "[CV] bootstrap=False, max_depth=20, max_features=5, n_estimators=250, n_jobs=-1 \n",
      "[CV]  bootstrap=False, max_depth=20, max_features=5, n_estimators=250, n_jobs=-1, score=0.887, total=   1.1s\n",
      "[CV] bootstrap=False, max_depth=20, max_features=5, n_estimators=250, n_jobs=-1 \n",
      "[CV]  bootstrap=False, max_depth=20, max_features=5, n_estimators=250, n_jobs=-1, score=0.883, total=   1.0s\n",
      "[CV] bootstrap=False, max_depth=20, max_features=10, n_estimators=250, n_jobs=-1 \n",
      "[CV]  bootstrap=False, max_depth=20, max_features=10, n_estimators=250, n_jobs=-1, score=0.895, total=   1.8s\n",
      "[CV] bootstrap=False, max_depth=20, max_features=10, n_estimators=250, n_jobs=-1 \n",
      "[CV]  bootstrap=False, max_depth=20, max_features=10, n_estimators=250, n_jobs=-1, score=0.896, total=   1.8s\n",
      "[CV] bootstrap=False, max_depth=20, max_features=10, n_estimators=250, n_jobs=-1 \n",
      "[CV]  bootstrap=False, max_depth=20, max_features=10, n_estimators=250, n_jobs=-1, score=0.890, total=   1.6s\n",
      "[CV] bootstrap=False, max_depth=20, max_features=15, n_estimators=250, n_jobs=-1 \n",
      "[CV]  bootstrap=False, max_depth=20, max_features=15, n_estimators=250, n_jobs=-1, score=0.893, total=   2.1s\n",
      "[CV] bootstrap=False, max_depth=20, max_features=15, n_estimators=250, n_jobs=-1 \n",
      "[CV]  bootstrap=False, max_depth=20, max_features=15, n_estimators=250, n_jobs=-1, score=0.894, total=   2.1s\n",
      "[CV] bootstrap=False, max_depth=20, max_features=15, n_estimators=250, n_jobs=-1 \n",
      "[CV]  bootstrap=False, max_depth=20, max_features=15, n_estimators=250, n_jobs=-1, score=0.887, total=   2.1s\n",
      "[CV] bootstrap=False, max_depth=20, max_features=20, n_estimators=250, n_jobs=-1 \n",
      "[CV]  bootstrap=False, max_depth=20, max_features=20, n_estimators=250, n_jobs=-1, score=0.898, total=   2.6s\n",
      "[CV] bootstrap=False, max_depth=20, max_features=20, n_estimators=250, n_jobs=-1 \n",
      "[CV]  bootstrap=False, max_depth=20, max_features=20, n_estimators=250, n_jobs=-1, score=0.892, total=   2.9s\n",
      "[CV] bootstrap=False, max_depth=20, max_features=20, n_estimators=250, n_jobs=-1 \n",
      "[CV]  bootstrap=False, max_depth=20, max_features=20, n_estimators=250, n_jobs=-1, score=0.884, total=   2.9s\n",
      "[CV] bootstrap=False, max_depth=20, max_features=25, n_estimators=250, n_jobs=-1 \n",
      "[CV]  bootstrap=False, max_depth=20, max_features=25, n_estimators=250, n_jobs=-1, score=0.893, total=   3.3s\n",
      "[CV] bootstrap=False, max_depth=20, max_features=25, n_estimators=250, n_jobs=-1 \n",
      "[CV]  bootstrap=False, max_depth=20, max_features=25, n_estimators=250, n_jobs=-1, score=0.885, total=   3.5s\n",
      "[CV] bootstrap=False, max_depth=20, max_features=25, n_estimators=250, n_jobs=-1 \n",
      "[CV]  bootstrap=False, max_depth=20, max_features=25, n_estimators=250, n_jobs=-1, score=0.881, total=   4.6s\n",
      "[CV] bootstrap=False, max_depth=20, max_features=auto, n_estimators=250, n_jobs=-1 \n",
      "[CV]  bootstrap=False, max_depth=20, max_features=auto, n_estimators=250, n_jobs=-1, score=0.895, total=   1.0s\n",
      "[CV] bootstrap=False, max_depth=20, max_features=auto, n_estimators=250, n_jobs=-1 \n",
      "[CV]  bootstrap=False, max_depth=20, max_features=auto, n_estimators=250, n_jobs=-1, score=0.886, total=   1.0s\n",
      "[CV] bootstrap=False, max_depth=20, max_features=auto, n_estimators=250, n_jobs=-1 \n",
      "[CV]  bootstrap=False, max_depth=20, max_features=auto, n_estimators=250, n_jobs=-1, score=0.884, total=   1.0s\n",
      "[CV] bootstrap=False, max_depth=20, max_features=log2, n_estimators=250, n_jobs=-1 \n",
      "[CV]  bootstrap=False, max_depth=20, max_features=log2, n_estimators=250, n_jobs=-1, score=0.890, total=   1.0s\n",
      "[CV] bootstrap=False, max_depth=20, max_features=log2, n_estimators=250, n_jobs=-1 \n",
      "[CV]  bootstrap=False, max_depth=20, max_features=log2, n_estimators=250, n_jobs=-1, score=0.890, total=   1.1s\n",
      "[CV] bootstrap=False, max_depth=20, max_features=log2, n_estimators=250, n_jobs=-1 \n",
      "[CV]  bootstrap=False, max_depth=20, max_features=log2, n_estimators=250, n_jobs=-1, score=0.887, total=   1.1s\n",
      "[CV] bootstrap=False, max_depth=30, max_features=5, n_estimators=250, n_jobs=-1 \n",
      "[CV]  bootstrap=False, max_depth=30, max_features=5, n_estimators=250, n_jobs=-1, score=0.890, total=   1.0s\n",
      "[CV] bootstrap=False, max_depth=30, max_features=5, n_estimators=250, n_jobs=-1 \n",
      "[CV]  bootstrap=False, max_depth=30, max_features=5, n_estimators=250, n_jobs=-1, score=0.889, total=   1.0s\n",
      "[CV] bootstrap=False, max_depth=30, max_features=5, n_estimators=250, n_jobs=-1 \n",
      "[CV]  bootstrap=False, max_depth=30, max_features=5, n_estimators=250, n_jobs=-1, score=0.887, total=   1.0s\n",
      "[CV] bootstrap=False, max_depth=30, max_features=10, n_estimators=250, n_jobs=-1 \n",
      "[CV]  bootstrap=False, max_depth=30, max_features=10, n_estimators=250, n_jobs=-1, score=0.897, total=   1.5s\n",
      "[CV] bootstrap=False, max_depth=30, max_features=10, n_estimators=250, n_jobs=-1 \n",
      "[CV]  bootstrap=False, max_depth=30, max_features=10, n_estimators=250, n_jobs=-1, score=0.894, total=   1.7s\n",
      "[CV] bootstrap=False, max_depth=30, max_features=10, n_estimators=250, n_jobs=-1 \n",
      "[CV]  bootstrap=False, max_depth=30, max_features=10, n_estimators=250, n_jobs=-1, score=0.889, total=   1.8s\n",
      "[CV] bootstrap=False, max_depth=30, max_features=15, n_estimators=250, n_jobs=-1 \n"
     ]
    },
    {
     "name": "stdout",
     "output_type": "stream",
     "text": [
      "[CV]  bootstrap=False, max_depth=30, max_features=15, n_estimators=250, n_jobs=-1, score=0.895, total=   2.2s\n",
      "[CV] bootstrap=False, max_depth=30, max_features=15, n_estimators=250, n_jobs=-1 \n",
      "[CV]  bootstrap=False, max_depth=30, max_features=15, n_estimators=250, n_jobs=-1, score=0.896, total=   2.4s\n",
      "[CV] bootstrap=False, max_depth=30, max_features=15, n_estimators=250, n_jobs=-1 \n",
      "[CV]  bootstrap=False, max_depth=30, max_features=15, n_estimators=250, n_jobs=-1, score=0.887, total=   2.2s\n",
      "[CV] bootstrap=False, max_depth=30, max_features=20, n_estimators=250, n_jobs=-1 \n",
      "[CV]  bootstrap=False, max_depth=30, max_features=20, n_estimators=250, n_jobs=-1, score=0.899, total=   2.8s\n",
      "[CV] bootstrap=False, max_depth=30, max_features=20, n_estimators=250, n_jobs=-1 \n",
      "[CV]  bootstrap=False, max_depth=30, max_features=20, n_estimators=250, n_jobs=-1, score=0.892, total=   3.0s\n",
      "[CV] bootstrap=False, max_depth=30, max_features=20, n_estimators=250, n_jobs=-1 \n",
      "[CV]  bootstrap=False, max_depth=30, max_features=20, n_estimators=250, n_jobs=-1, score=0.883, total=   2.9s\n",
      "[CV] bootstrap=False, max_depth=30, max_features=25, n_estimators=250, n_jobs=-1 \n",
      "[CV]  bootstrap=False, max_depth=30, max_features=25, n_estimators=250, n_jobs=-1, score=0.891, total=   3.5s\n",
      "[CV] bootstrap=False, max_depth=30, max_features=25, n_estimators=250, n_jobs=-1 \n",
      "[CV]  bootstrap=False, max_depth=30, max_features=25, n_estimators=250, n_jobs=-1, score=0.885, total=   3.5s\n",
      "[CV] bootstrap=False, max_depth=30, max_features=25, n_estimators=250, n_jobs=-1 \n",
      "[CV]  bootstrap=False, max_depth=30, max_features=25, n_estimators=250, n_jobs=-1, score=0.880, total=   3.7s\n",
      "[CV] bootstrap=False, max_depth=30, max_features=auto, n_estimators=250, n_jobs=-1 \n",
      "[CV]  bootstrap=False, max_depth=30, max_features=auto, n_estimators=250, n_jobs=-1, score=0.887, total=   1.0s\n",
      "[CV] bootstrap=False, max_depth=30, max_features=auto, n_estimators=250, n_jobs=-1 \n",
      "[CV]  bootstrap=False, max_depth=30, max_features=auto, n_estimators=250, n_jobs=-1, score=0.886, total=   1.0s\n",
      "[CV] bootstrap=False, max_depth=30, max_features=auto, n_estimators=250, n_jobs=-1 \n",
      "[CV]  bootstrap=False, max_depth=30, max_features=auto, n_estimators=250, n_jobs=-1, score=0.887, total=   1.0s\n",
      "[CV] bootstrap=False, max_depth=30, max_features=log2, n_estimators=250, n_jobs=-1 \n",
      "[CV]  bootstrap=False, max_depth=30, max_features=log2, n_estimators=250, n_jobs=-1, score=0.893, total=   1.1s\n",
      "[CV] bootstrap=False, max_depth=30, max_features=log2, n_estimators=250, n_jobs=-1 \n",
      "[CV]  bootstrap=False, max_depth=30, max_features=log2, n_estimators=250, n_jobs=-1, score=0.888, total=   1.0s\n",
      "[CV] bootstrap=False, max_depth=30, max_features=log2, n_estimators=250, n_jobs=-1 \n",
      "[CV]  bootstrap=False, max_depth=30, max_features=log2, n_estimators=250, n_jobs=-1, score=0.889, total=   1.1s\n",
      "[CV] bootstrap=False, max_depth=40, max_features=5, n_estimators=250, n_jobs=-1 \n",
      "[CV]  bootstrap=False, max_depth=40, max_features=5, n_estimators=250, n_jobs=-1, score=0.891, total=   1.1s\n",
      "[CV] bootstrap=False, max_depth=40, max_features=5, n_estimators=250, n_jobs=-1 \n",
      "[CV]  bootstrap=False, max_depth=40, max_features=5, n_estimators=250, n_jobs=-1, score=0.889, total=   1.1s\n",
      "[CV] bootstrap=False, max_depth=40, max_features=5, n_estimators=250, n_jobs=-1 \n",
      "[CV]  bootstrap=False, max_depth=40, max_features=5, n_estimators=250, n_jobs=-1, score=0.887, total=   1.1s\n",
      "[CV] bootstrap=False, max_depth=40, max_features=10, n_estimators=250, n_jobs=-1 \n",
      "[CV]  bootstrap=False, max_depth=40, max_features=10, n_estimators=250, n_jobs=-1, score=0.895, total=   1.5s\n",
      "[CV] bootstrap=False, max_depth=40, max_features=10, n_estimators=250, n_jobs=-1 \n",
      "[CV]  bootstrap=False, max_depth=40, max_features=10, n_estimators=250, n_jobs=-1, score=0.891, total=   1.7s\n",
      "[CV] bootstrap=False, max_depth=40, max_features=10, n_estimators=250, n_jobs=-1 \n",
      "[CV]  bootstrap=False, max_depth=40, max_features=10, n_estimators=250, n_jobs=-1, score=0.887, total=   1.5s\n",
      "[CV] bootstrap=False, max_depth=40, max_features=15, n_estimators=250, n_jobs=-1 \n",
      "[CV]  bootstrap=False, max_depth=40, max_features=15, n_estimators=250, n_jobs=-1, score=0.898, total=   2.3s\n",
      "[CV] bootstrap=False, max_depth=40, max_features=15, n_estimators=250, n_jobs=-1 \n",
      "[CV]  bootstrap=False, max_depth=40, max_features=15, n_estimators=250, n_jobs=-1, score=0.893, total=   2.3s\n",
      "[CV] bootstrap=False, max_depth=40, max_features=15, n_estimators=250, n_jobs=-1 \n",
      "[CV]  bootstrap=False, max_depth=40, max_features=15, n_estimators=250, n_jobs=-1, score=0.888, total=   2.2s\n",
      "[CV] bootstrap=False, max_depth=40, max_features=20, n_estimators=250, n_jobs=-1 \n",
      "[CV]  bootstrap=False, max_depth=40, max_features=20, n_estimators=250, n_jobs=-1, score=0.898, total=   2.8s\n",
      "[CV] bootstrap=False, max_depth=40, max_features=20, n_estimators=250, n_jobs=-1 \n",
      "[CV]  bootstrap=False, max_depth=40, max_features=20, n_estimators=250, n_jobs=-1, score=0.893, total=   2.8s\n",
      "[CV] bootstrap=False, max_depth=40, max_features=20, n_estimators=250, n_jobs=-1 \n",
      "[CV]  bootstrap=False, max_depth=40, max_features=20, n_estimators=250, n_jobs=-1, score=0.884, total=   3.1s\n",
      "[CV] bootstrap=False, max_depth=40, max_features=25, n_estimators=250, n_jobs=-1 \n",
      "[CV]  bootstrap=False, max_depth=40, max_features=25, n_estimators=250, n_jobs=-1, score=0.890, total=   3.7s\n",
      "[CV] bootstrap=False, max_depth=40, max_features=25, n_estimators=250, n_jobs=-1 \n",
      "[CV]  bootstrap=False, max_depth=40, max_features=25, n_estimators=250, n_jobs=-1, score=0.883, total=   3.9s\n",
      "[CV] bootstrap=False, max_depth=40, max_features=25, n_estimators=250, n_jobs=-1 \n",
      "[CV]  bootstrap=False, max_depth=40, max_features=25, n_estimators=250, n_jobs=-1, score=0.883, total=   3.7s\n",
      "[CV] bootstrap=False, max_depth=40, max_features=auto, n_estimators=250, n_jobs=-1 \n",
      "[CV]  bootstrap=False, max_depth=40, max_features=auto, n_estimators=250, n_jobs=-1, score=0.892, total=   1.1s\n",
      "[CV] bootstrap=False, max_depth=40, max_features=auto, n_estimators=250, n_jobs=-1 \n",
      "[CV]  bootstrap=False, max_depth=40, max_features=auto, n_estimators=250, n_jobs=-1, score=0.888, total=   1.0s\n",
      "[CV] bootstrap=False, max_depth=40, max_features=auto, n_estimators=250, n_jobs=-1 \n",
      "[CV]  bootstrap=False, max_depth=40, max_features=auto, n_estimators=250, n_jobs=-1, score=0.887, total=   1.0s\n",
      "[CV] bootstrap=False, max_depth=40, max_features=log2, n_estimators=250, n_jobs=-1 \n",
      "[CV]  bootstrap=False, max_depth=40, max_features=log2, n_estimators=250, n_jobs=-1, score=0.890, total=   1.0s\n",
      "[CV] bootstrap=False, max_depth=40, max_features=log2, n_estimators=250, n_jobs=-1 \n",
      "[CV]  bootstrap=False, max_depth=40, max_features=log2, n_estimators=250, n_jobs=-1, score=0.888, total=   1.0s\n",
      "[CV] bootstrap=False, max_depth=40, max_features=log2, n_estimators=250, n_jobs=-1 \n",
      "[CV]  bootstrap=False, max_depth=40, max_features=log2, n_estimators=250, n_jobs=-1, score=0.885, total=   1.0s\n",
      "[CV] bootstrap=False, max_depth=50, max_features=5, n_estimators=250, n_jobs=-1 \n",
      "[CV]  bootstrap=False, max_depth=50, max_features=5, n_estimators=250, n_jobs=-1, score=0.892, total=   1.1s\n",
      "[CV] bootstrap=False, max_depth=50, max_features=5, n_estimators=250, n_jobs=-1 \n",
      "[CV]  bootstrap=False, max_depth=50, max_features=5, n_estimators=250, n_jobs=-1, score=0.886, total=   1.0s\n",
      "[CV] bootstrap=False, max_depth=50, max_features=5, n_estimators=250, n_jobs=-1 \n",
      "[CV]  bootstrap=False, max_depth=50, max_features=5, n_estimators=250, n_jobs=-1, score=0.887, total=   1.0s\n",
      "[CV] bootstrap=False, max_depth=50, max_features=10, n_estimators=250, n_jobs=-1 \n",
      "[CV]  bootstrap=False, max_depth=50, max_features=10, n_estimators=250, n_jobs=-1, score=0.897, total=   1.5s\n",
      "[CV] bootstrap=False, max_depth=50, max_features=10, n_estimators=250, n_jobs=-1 \n",
      "[CV]  bootstrap=False, max_depth=50, max_features=10, n_estimators=250, n_jobs=-1, score=0.895, total=   1.5s\n",
      "[CV] bootstrap=False, max_depth=50, max_features=10, n_estimators=250, n_jobs=-1 \n",
      "[CV]  bootstrap=False, max_depth=50, max_features=10, n_estimators=250, n_jobs=-1, score=0.887, total=   1.6s\n",
      "[CV] bootstrap=False, max_depth=50, max_features=15, n_estimators=250, n_jobs=-1 \n",
      "[CV]  bootstrap=False, max_depth=50, max_features=15, n_estimators=250, n_jobs=-1, score=0.899, total=   2.1s\n",
      "[CV] bootstrap=False, max_depth=50, max_features=15, n_estimators=250, n_jobs=-1 \n"
     ]
    },
    {
     "name": "stdout",
     "output_type": "stream",
     "text": [
      "[CV]  bootstrap=False, max_depth=50, max_features=15, n_estimators=250, n_jobs=-1, score=0.893, total=   2.2s\n",
      "[CV] bootstrap=False, max_depth=50, max_features=15, n_estimators=250, n_jobs=-1 \n",
      "[CV]  bootstrap=False, max_depth=50, max_features=15, n_estimators=250, n_jobs=-1, score=0.886, total=   2.4s\n",
      "[CV] bootstrap=False, max_depth=50, max_features=20, n_estimators=250, n_jobs=-1 \n",
      "[CV]  bootstrap=False, max_depth=50, max_features=20, n_estimators=250, n_jobs=-1, score=0.897, total=   3.0s\n",
      "[CV] bootstrap=False, max_depth=50, max_features=20, n_estimators=250, n_jobs=-1 \n",
      "[CV]  bootstrap=False, max_depth=50, max_features=20, n_estimators=250, n_jobs=-1, score=0.892, total=   3.4s\n",
      "[CV] bootstrap=False, max_depth=50, max_features=20, n_estimators=250, n_jobs=-1 \n",
      "[CV]  bootstrap=False, max_depth=50, max_features=20, n_estimators=250, n_jobs=-1, score=0.886, total=   3.3s\n",
      "[CV] bootstrap=False, max_depth=50, max_features=25, n_estimators=250, n_jobs=-1 \n",
      "[CV]  bootstrap=False, max_depth=50, max_features=25, n_estimators=250, n_jobs=-1, score=0.890, total=   3.8s\n",
      "[CV] bootstrap=False, max_depth=50, max_features=25, n_estimators=250, n_jobs=-1 \n",
      "[CV]  bootstrap=False, max_depth=50, max_features=25, n_estimators=250, n_jobs=-1, score=0.883, total=   4.1s\n",
      "[CV] bootstrap=False, max_depth=50, max_features=25, n_estimators=250, n_jobs=-1 \n",
      "[CV]  bootstrap=False, max_depth=50, max_features=25, n_estimators=250, n_jobs=-1, score=0.876, total=   4.3s\n",
      "[CV] bootstrap=False, max_depth=50, max_features=auto, n_estimators=250, n_jobs=-1 \n",
      "[CV]  bootstrap=False, max_depth=50, max_features=auto, n_estimators=250, n_jobs=-1, score=0.892, total=   1.3s\n",
      "[CV] bootstrap=False, max_depth=50, max_features=auto, n_estimators=250, n_jobs=-1 \n",
      "[CV]  bootstrap=False, max_depth=50, max_features=auto, n_estimators=250, n_jobs=-1, score=0.889, total=   1.1s\n",
      "[CV] bootstrap=False, max_depth=50, max_features=auto, n_estimators=250, n_jobs=-1 \n",
      "[CV]  bootstrap=False, max_depth=50, max_features=auto, n_estimators=250, n_jobs=-1, score=0.886, total=   1.1s\n",
      "[CV] bootstrap=False, max_depth=50, max_features=log2, n_estimators=250, n_jobs=-1 \n",
      "[CV]  bootstrap=False, max_depth=50, max_features=log2, n_estimators=250, n_jobs=-1, score=0.891, total=   1.1s\n",
      "[CV] bootstrap=False, max_depth=50, max_features=log2, n_estimators=250, n_jobs=-1 \n",
      "[CV]  bootstrap=False, max_depth=50, max_features=log2, n_estimators=250, n_jobs=-1, score=0.891, total=   1.1s\n",
      "[CV] bootstrap=False, max_depth=50, max_features=log2, n_estimators=250, n_jobs=-1 \n",
      "[CV]  bootstrap=False, max_depth=50, max_features=log2, n_estimators=250, n_jobs=-1, score=0.883, total=   1.1s\n",
      "[CV] bootstrap=False, max_depth=60, max_features=5, n_estimators=250, n_jobs=-1 \n",
      "[CV]  bootstrap=False, max_depth=60, max_features=5, n_estimators=250, n_jobs=-1, score=0.889, total=   1.1s\n",
      "[CV] bootstrap=False, max_depth=60, max_features=5, n_estimators=250, n_jobs=-1 \n",
      "[CV]  bootstrap=False, max_depth=60, max_features=5, n_estimators=250, n_jobs=-1, score=0.892, total=   1.0s\n",
      "[CV] bootstrap=False, max_depth=60, max_features=5, n_estimators=250, n_jobs=-1 \n",
      "[CV]  bootstrap=False, max_depth=60, max_features=5, n_estimators=250, n_jobs=-1, score=0.886, total=   1.1s\n",
      "[CV] bootstrap=False, max_depth=60, max_features=10, n_estimators=250, n_jobs=-1 \n",
      "[CV]  bootstrap=False, max_depth=60, max_features=10, n_estimators=250, n_jobs=-1, score=0.898, total=   1.6s\n",
      "[CV] bootstrap=False, max_depth=60, max_features=10, n_estimators=250, n_jobs=-1 \n",
      "[CV]  bootstrap=False, max_depth=60, max_features=10, n_estimators=250, n_jobs=-1, score=0.895, total=   1.6s\n",
      "[CV] bootstrap=False, max_depth=60, max_features=10, n_estimators=250, n_jobs=-1 \n",
      "[CV]  bootstrap=False, max_depth=60, max_features=10, n_estimators=250, n_jobs=-1, score=0.887, total=   1.8s\n",
      "[CV] bootstrap=False, max_depth=60, max_features=15, n_estimators=250, n_jobs=-1 \n",
      "[CV]  bootstrap=False, max_depth=60, max_features=15, n_estimators=250, n_jobs=-1, score=0.900, total=   2.1s\n",
      "[CV] bootstrap=False, max_depth=60, max_features=15, n_estimators=250, n_jobs=-1 \n",
      "[CV]  bootstrap=False, max_depth=60, max_features=15, n_estimators=250, n_jobs=-1, score=0.894, total=   2.3s\n",
      "[CV] bootstrap=False, max_depth=60, max_features=15, n_estimators=250, n_jobs=-1 \n",
      "[CV]  bootstrap=False, max_depth=60, max_features=15, n_estimators=250, n_jobs=-1, score=0.889, total=   2.3s\n",
      "[CV] bootstrap=False, max_depth=60, max_features=20, n_estimators=250, n_jobs=-1 \n",
      "[CV]  bootstrap=False, max_depth=60, max_features=20, n_estimators=250, n_jobs=-1, score=0.898, total=   2.9s\n",
      "[CV] bootstrap=False, max_depth=60, max_features=20, n_estimators=250, n_jobs=-1 \n",
      "[CV]  bootstrap=False, max_depth=60, max_features=20, n_estimators=250, n_jobs=-1, score=0.888, total=   2.8s\n",
      "[CV] bootstrap=False, max_depth=60, max_features=20, n_estimators=250, n_jobs=-1 \n",
      "[CV]  bootstrap=False, max_depth=60, max_features=20, n_estimators=250, n_jobs=-1, score=0.888, total=   2.9s\n",
      "[CV] bootstrap=False, max_depth=60, max_features=25, n_estimators=250, n_jobs=-1 \n",
      "[CV]  bootstrap=False, max_depth=60, max_features=25, n_estimators=250, n_jobs=-1, score=0.891, total=   3.5s\n",
      "[CV] bootstrap=False, max_depth=60, max_features=25, n_estimators=250, n_jobs=-1 \n",
      "[CV]  bootstrap=False, max_depth=60, max_features=25, n_estimators=250, n_jobs=-1, score=0.887, total=   3.6s\n",
      "[CV] bootstrap=False, max_depth=60, max_features=25, n_estimators=250, n_jobs=-1 \n",
      "[CV]  bootstrap=False, max_depth=60, max_features=25, n_estimators=250, n_jobs=-1, score=0.880, total=   3.8s\n",
      "[CV] bootstrap=False, max_depth=60, max_features=auto, n_estimators=250, n_jobs=-1 \n",
      "[CV]  bootstrap=False, max_depth=60, max_features=auto, n_estimators=250, n_jobs=-1, score=0.891, total=   1.0s\n",
      "[CV] bootstrap=False, max_depth=60, max_features=auto, n_estimators=250, n_jobs=-1 \n",
      "[CV]  bootstrap=False, max_depth=60, max_features=auto, n_estimators=250, n_jobs=-1, score=0.890, total=   1.0s\n",
      "[CV] bootstrap=False, max_depth=60, max_features=auto, n_estimators=250, n_jobs=-1 \n",
      "[CV]  bootstrap=False, max_depth=60, max_features=auto, n_estimators=250, n_jobs=-1, score=0.885, total=   1.1s\n",
      "[CV] bootstrap=False, max_depth=60, max_features=log2, n_estimators=250, n_jobs=-1 \n",
      "[CV]  bootstrap=False, max_depth=60, max_features=log2, n_estimators=250, n_jobs=-1, score=0.892, total=   1.0s\n",
      "[CV] bootstrap=False, max_depth=60, max_features=log2, n_estimators=250, n_jobs=-1 \n",
      "[CV]  bootstrap=False, max_depth=60, max_features=log2, n_estimators=250, n_jobs=-1, score=0.888, total=   0.9s\n",
      "[CV] bootstrap=False, max_depth=60, max_features=log2, n_estimators=250, n_jobs=-1 \n",
      "[CV]  bootstrap=False, max_depth=60, max_features=log2, n_estimators=250, n_jobs=-1, score=0.883, total=   1.1s\n",
      "[CV] bootstrap=False, max_depth=70, max_features=5, n_estimators=250, n_jobs=-1 \n",
      "[CV]  bootstrap=False, max_depth=70, max_features=5, n_estimators=250, n_jobs=-1, score=0.893, total=   1.1s\n",
      "[CV] bootstrap=False, max_depth=70, max_features=5, n_estimators=250, n_jobs=-1 \n",
      "[CV]  bootstrap=False, max_depth=70, max_features=5, n_estimators=250, n_jobs=-1, score=0.888, total=   1.0s\n",
      "[CV] bootstrap=False, max_depth=70, max_features=5, n_estimators=250, n_jobs=-1 \n",
      "[CV]  bootstrap=False, max_depth=70, max_features=5, n_estimators=250, n_jobs=-1, score=0.886, total=   1.0s\n",
      "[CV] bootstrap=False, max_depth=70, max_features=10, n_estimators=250, n_jobs=-1 \n",
      "[CV]  bootstrap=False, max_depth=70, max_features=10, n_estimators=250, n_jobs=-1, score=0.895, total=   1.6s\n",
      "[CV] bootstrap=False, max_depth=70, max_features=10, n_estimators=250, n_jobs=-1 \n",
      "[CV]  bootstrap=False, max_depth=70, max_features=10, n_estimators=250, n_jobs=-1, score=0.893, total=   1.6s\n",
      "[CV] bootstrap=False, max_depth=70, max_features=10, n_estimators=250, n_jobs=-1 \n",
      "[CV]  bootstrap=False, max_depth=70, max_features=10, n_estimators=250, n_jobs=-1, score=0.888, total=   1.7s\n",
      "[CV] bootstrap=False, max_depth=70, max_features=15, n_estimators=250, n_jobs=-1 \n",
      "[CV]  bootstrap=False, max_depth=70, max_features=15, n_estimators=250, n_jobs=-1, score=0.895, total=   2.2s\n",
      "[CV] bootstrap=False, max_depth=70, max_features=15, n_estimators=250, n_jobs=-1 \n",
      "[CV]  bootstrap=False, max_depth=70, max_features=15, n_estimators=250, n_jobs=-1, score=0.896, total=   2.1s\n",
      "[CV] bootstrap=False, max_depth=70, max_features=15, n_estimators=250, n_jobs=-1 \n"
     ]
    },
    {
     "name": "stdout",
     "output_type": "stream",
     "text": [
      "[CV]  bootstrap=False, max_depth=70, max_features=15, n_estimators=250, n_jobs=-1, score=0.888, total=   2.2s\n",
      "[CV] bootstrap=False, max_depth=70, max_features=20, n_estimators=250, n_jobs=-1 \n",
      "[CV]  bootstrap=False, max_depth=70, max_features=20, n_estimators=250, n_jobs=-1, score=0.899, total=   2.7s\n",
      "[CV] bootstrap=False, max_depth=70, max_features=20, n_estimators=250, n_jobs=-1 \n",
      "[CV]  bootstrap=False, max_depth=70, max_features=20, n_estimators=250, n_jobs=-1, score=0.892, total=   2.9s\n",
      "[CV] bootstrap=False, max_depth=70, max_features=20, n_estimators=250, n_jobs=-1 \n",
      "[CV]  bootstrap=False, max_depth=70, max_features=20, n_estimators=250, n_jobs=-1, score=0.883, total=   2.9s\n",
      "[CV] bootstrap=False, max_depth=70, max_features=25, n_estimators=250, n_jobs=-1 \n",
      "[CV]  bootstrap=False, max_depth=70, max_features=25, n_estimators=250, n_jobs=-1, score=0.889, total=   3.6s\n",
      "[CV] bootstrap=False, max_depth=70, max_features=25, n_estimators=250, n_jobs=-1 \n",
      "[CV]  bootstrap=False, max_depth=70, max_features=25, n_estimators=250, n_jobs=-1, score=0.883, total=   3.8s\n",
      "[CV] bootstrap=False, max_depth=70, max_features=25, n_estimators=250, n_jobs=-1 \n",
      "[CV]  bootstrap=False, max_depth=70, max_features=25, n_estimators=250, n_jobs=-1, score=0.880, total=   4.2s\n",
      "[CV] bootstrap=False, max_depth=70, max_features=auto, n_estimators=250, n_jobs=-1 \n",
      "[CV]  bootstrap=False, max_depth=70, max_features=auto, n_estimators=250, n_jobs=-1, score=0.896, total=   1.1s\n",
      "[CV] bootstrap=False, max_depth=70, max_features=auto, n_estimators=250, n_jobs=-1 \n",
      "[CV]  bootstrap=False, max_depth=70, max_features=auto, n_estimators=250, n_jobs=-1, score=0.890, total=   1.1s\n",
      "[CV] bootstrap=False, max_depth=70, max_features=auto, n_estimators=250, n_jobs=-1 \n",
      "[CV]  bootstrap=False, max_depth=70, max_features=auto, n_estimators=250, n_jobs=-1, score=0.883, total=   1.1s\n",
      "[CV] bootstrap=False, max_depth=70, max_features=log2, n_estimators=250, n_jobs=-1 \n",
      "[CV]  bootstrap=False, max_depth=70, max_features=log2, n_estimators=250, n_jobs=-1, score=0.892, total=   1.1s\n",
      "[CV] bootstrap=False, max_depth=70, max_features=log2, n_estimators=250, n_jobs=-1 \n",
      "[CV]  bootstrap=False, max_depth=70, max_features=log2, n_estimators=250, n_jobs=-1, score=0.892, total=   1.0s\n",
      "[CV] bootstrap=False, max_depth=70, max_features=log2, n_estimators=250, n_jobs=-1 \n",
      "[CV]  bootstrap=False, max_depth=70, max_features=log2, n_estimators=250, n_jobs=-1, score=0.885, total=   1.1s\n",
      "[CV] bootstrap=False, max_depth=None, max_features=5, n_estimators=250, n_jobs=-1 \n",
      "[CV]  bootstrap=False, max_depth=None, max_features=5, n_estimators=250, n_jobs=-1, score=0.890, total=   1.1s\n",
      "[CV] bootstrap=False, max_depth=None, max_features=5, n_estimators=250, n_jobs=-1 \n",
      "[CV]  bootstrap=False, max_depth=None, max_features=5, n_estimators=250, n_jobs=-1, score=0.888, total=   1.1s\n",
      "[CV] bootstrap=False, max_depth=None, max_features=5, n_estimators=250, n_jobs=-1 \n",
      "[CV]  bootstrap=False, max_depth=None, max_features=5, n_estimators=250, n_jobs=-1, score=0.885, total=   1.1s\n",
      "[CV] bootstrap=False, max_depth=None, max_features=10, n_estimators=250, n_jobs=-1 \n",
      "[CV]  bootstrap=False, max_depth=None, max_features=10, n_estimators=250, n_jobs=-1, score=0.893, total=   1.5s\n",
      "[CV] bootstrap=False, max_depth=None, max_features=10, n_estimators=250, n_jobs=-1 \n",
      "[CV]  bootstrap=False, max_depth=None, max_features=10, n_estimators=250, n_jobs=-1, score=0.893, total=   1.6s\n",
      "[CV] bootstrap=False, max_depth=None, max_features=10, n_estimators=250, n_jobs=-1 \n",
      "[CV]  bootstrap=False, max_depth=None, max_features=10, n_estimators=250, n_jobs=-1, score=0.891, total=   1.6s\n",
      "[CV] bootstrap=False, max_depth=None, max_features=15, n_estimators=250, n_jobs=-1 \n",
      "[CV]  bootstrap=False, max_depth=None, max_features=15, n_estimators=250, n_jobs=-1, score=0.897, total=   2.1s\n",
      "[CV] bootstrap=False, max_depth=None, max_features=15, n_estimators=250, n_jobs=-1 \n",
      "[CV]  bootstrap=False, max_depth=None, max_features=15, n_estimators=250, n_jobs=-1, score=0.893, total=   2.2s\n",
      "[CV] bootstrap=False, max_depth=None, max_features=15, n_estimators=250, n_jobs=-1 \n",
      "[CV]  bootstrap=False, max_depth=None, max_features=15, n_estimators=250, n_jobs=-1, score=0.890, total=   2.2s\n",
      "[CV] bootstrap=False, max_depth=None, max_features=20, n_estimators=250, n_jobs=-1 \n",
      "[CV]  bootstrap=False, max_depth=None, max_features=20, n_estimators=250, n_jobs=-1, score=0.898, total=   2.9s\n",
      "[CV] bootstrap=False, max_depth=None, max_features=20, n_estimators=250, n_jobs=-1 \n",
      "[CV]  bootstrap=False, max_depth=None, max_features=20, n_estimators=250, n_jobs=-1, score=0.891, total=   2.9s\n",
      "[CV] bootstrap=False, max_depth=None, max_features=20, n_estimators=250, n_jobs=-1 \n",
      "[CV]  bootstrap=False, max_depth=None, max_features=20, n_estimators=250, n_jobs=-1, score=0.886, total=   3.1s\n",
      "[CV] bootstrap=False, max_depth=None, max_features=25, n_estimators=250, n_jobs=-1 \n",
      "[CV]  bootstrap=False, max_depth=None, max_features=25, n_estimators=250, n_jobs=-1, score=0.890, total=   3.6s\n",
      "[CV] bootstrap=False, max_depth=None, max_features=25, n_estimators=250, n_jobs=-1 \n",
      "[CV]  bootstrap=False, max_depth=None, max_features=25, n_estimators=250, n_jobs=-1, score=0.882, total=   3.7s\n",
      "[CV] bootstrap=False, max_depth=None, max_features=25, n_estimators=250, n_jobs=-1 \n",
      "[CV]  bootstrap=False, max_depth=None, max_features=25, n_estimators=250, n_jobs=-1, score=0.881, total=   3.8s\n",
      "[CV] bootstrap=False, max_depth=None, max_features=auto, n_estimators=250, n_jobs=-1 \n",
      "[CV]  bootstrap=False, max_depth=None, max_features=auto, n_estimators=250, n_jobs=-1, score=0.893, total=   1.0s\n",
      "[CV] bootstrap=False, max_depth=None, max_features=auto, n_estimators=250, n_jobs=-1 \n",
      "[CV]  bootstrap=False, max_depth=None, max_features=auto, n_estimators=250, n_jobs=-1, score=0.887, total=   1.1s\n",
      "[CV] bootstrap=False, max_depth=None, max_features=auto, n_estimators=250, n_jobs=-1 \n",
      "[CV]  bootstrap=False, max_depth=None, max_features=auto, n_estimators=250, n_jobs=-1, score=0.884, total=   1.1s\n",
      "[CV] bootstrap=False, max_depth=None, max_features=log2, n_estimators=250, n_jobs=-1 \n",
      "[CV]  bootstrap=False, max_depth=None, max_features=log2, n_estimators=250, n_jobs=-1, score=0.893, total=   1.0s\n",
      "[CV] bootstrap=False, max_depth=None, max_features=log2, n_estimators=250, n_jobs=-1 \n",
      "[CV]  bootstrap=False, max_depth=None, max_features=log2, n_estimators=250, n_jobs=-1, score=0.890, total=   1.1s\n",
      "[CV] bootstrap=False, max_depth=None, max_features=log2, n_estimators=250, n_jobs=-1 \n",
      "[CV]  bootstrap=False, max_depth=None, max_features=log2, n_estimators=250, n_jobs=-1, score=0.885, total=   1.0s\n"
     ]
    },
    {
     "name": "stderr",
     "output_type": "stream",
     "text": [
      "[Parallel(n_jobs=1)]: Done 294 out of 294 | elapsed:  7.9min finished\n"
     ]
    },
    {
     "data": {
      "text/plain": [
       "GridSearchCV(cv='warn', error_score='raise-deprecating',\n",
       "             estimator=RandomForestClassifier(bootstrap=True, class_weight=None,\n",
       "                                              criterion='gini', max_depth=None,\n",
       "                                              max_features='auto',\n",
       "                                              max_leaf_nodes=None,\n",
       "                                              min_impurity_decrease=0.0,\n",
       "                                              min_impurity_split=None,\n",
       "                                              min_samples_leaf=1,\n",
       "                                              min_samples_split=2,\n",
       "                                              min_weight_fraction_leaf=0.0,\n",
       "                                              n_estimators=200, n_jobs=None,\n",
       "                                              oob_score=False,\n",
       "                                              random_state=None, verbose=0,\n",
       "                                              warm_start=False),\n",
       "             iid='warn', n_jobs=None,\n",
       "             param_grid={'bootstrap': [True, False],\n",
       "                         'max_depth': [20, 30, 40, 50, 60, 70, None],\n",
       "                         'max_features': [5, 10, 15, 20, 25, 'auto', 'log2'],\n",
       "                         'n_estimators': [250], 'n_jobs': [-1]},\n",
       "             pre_dispatch='2*n_jobs', refit=True, return_train_score=False,\n",
       "             scoring=None, verbose=3)"
      ]
     },
     "execution_count": 28,
     "metadata": {},
     "output_type": "execute_result"
    }
   ],
   "source": [
    "grid.fit(x_train, y_train)"
   ]
  },
  {
   "cell_type": "code",
   "execution_count": 29,
   "metadata": {},
   "outputs": [
    {
     "data": {
      "text/plain": [
       "{'bootstrap': True,\n",
       " 'max_depth': 60,\n",
       " 'max_features': 25,\n",
       " 'n_estimators': 250,\n",
       " 'n_jobs': -1}"
      ]
     },
     "execution_count": 29,
     "metadata": {},
     "output_type": "execute_result"
    }
   ],
   "source": [
    "best_parameters = grid.best_params_\n",
    "best_parameters"
   ]
  },
  {
   "cell_type": "code",
   "execution_count": 30,
   "metadata": {},
   "outputs": [],
   "source": [
    "#create 'best' model after hypertuning\n",
    "#also experiment with some of the 'high scoring' grid models, and with the n_estimators\n",
    "model_best = RandomForestClassifier(bootstrap=True, max_depth=60, max_features=25, n_estimators=250)"
   ]
  },
  {
   "cell_type": "code",
   "execution_count": 31,
   "metadata": {},
   "outputs": [
    {
     "data": {
      "text/plain": [
       "RandomForestClassifier(bootstrap=True, class_weight=None, criterion='gini',\n",
       "                       max_depth=60, max_features=25, max_leaf_nodes=None,\n",
       "                       min_impurity_decrease=0.0, min_impurity_split=None,\n",
       "                       min_samples_leaf=1, min_samples_split=2,\n",
       "                       min_weight_fraction_leaf=0.0, n_estimators=250,\n",
       "                       n_jobs=None, oob_score=False, random_state=None,\n",
       "                       verbose=0, warm_start=False)"
      ]
     },
     "execution_count": 31,
     "metadata": {},
     "output_type": "execute_result"
    }
   ],
   "source": [
    "#fit model\n",
    "model_best.fit(x_train, y_train)"
   ]
  },
  {
   "cell_type": "code",
   "execution_count": 32,
   "metadata": {},
   "outputs": [
    {
     "data": {
      "text/plain": [
       "0.8913043478260869"
      ]
     },
     "execution_count": 32,
     "metadata": {},
     "output_type": "execute_result"
    }
   ],
   "source": [
    "#score model\n",
    "model_best.score(x_test, y_test)\n",
    "#score did not change much"
   ]
  },
  {
   "cell_type": "code",
   "execution_count": 33,
   "metadata": {},
   "outputs": [
    {
     "data": {
      "text/plain": [
       "1.0"
      ]
     },
     "execution_count": 33,
     "metadata": {},
     "output_type": "execute_result"
    }
   ],
   "source": [
    "#score with training data\n",
    "model_best.score(x_train, y_train)"
   ]
  },
  {
   "cell_type": "code",
   "execution_count": 34,
   "metadata": {},
   "outputs": [],
   "source": [
    "#try second grid search to tune the number of estimators \n",
    "param_grid = {'n_estimators': list(np.arange(200,451,5)),\n",
    "              'bootstrap': [True], \n",
    "              'max_depth': [60],\n",
    "              'max_features': [25],\n",
    "              'n_jobs': [-1]  #use all cores to speed up the grid search\n",
    "             }\n",
    "grid = GridSearchCV(model_important_features, param_grid, verbose=3)"
   ]
  },
  {
   "cell_type": "code",
   "execution_count": 35,
   "metadata": {},
   "outputs": [
    {
     "name": "stdout",
     "output_type": "stream",
     "text": [
      "Fitting 3 folds for each of 51 candidates, totalling 153 fits\n",
      "[CV] bootstrap=True, max_depth=60, max_features=25, n_estimators=200, n_jobs=-1 \n"
     ]
    },
    {
     "name": "stderr",
     "output_type": "stream",
     "text": [
      "[Parallel(n_jobs=1)]: Using backend SequentialBackend with 1 concurrent workers.\n"
     ]
    },
    {
     "name": "stdout",
     "output_type": "stream",
     "text": [
      "[CV]  bootstrap=True, max_depth=60, max_features=25, n_estimators=200, n_jobs=-1, score=0.902, total=   1.7s\n",
      "[CV] bootstrap=True, max_depth=60, max_features=25, n_estimators=200, n_jobs=-1 \n"
     ]
    },
    {
     "name": "stderr",
     "output_type": "stream",
     "text": [
      "[Parallel(n_jobs=1)]: Done   1 out of   1 | elapsed:    1.7s remaining:    0.0s\n"
     ]
    },
    {
     "name": "stdout",
     "output_type": "stream",
     "text": [
      "[CV]  bootstrap=True, max_depth=60, max_features=25, n_estimators=200, n_jobs=-1, score=0.894, total=   1.6s\n",
      "[CV] bootstrap=True, max_depth=60, max_features=25, n_estimators=200, n_jobs=-1 \n"
     ]
    },
    {
     "name": "stderr",
     "output_type": "stream",
     "text": [
      "[Parallel(n_jobs=1)]: Done   2 out of   2 | elapsed:    3.3s remaining:    0.0s\n"
     ]
    },
    {
     "name": "stdout",
     "output_type": "stream",
     "text": [
      "[CV]  bootstrap=True, max_depth=60, max_features=25, n_estimators=200, n_jobs=-1, score=0.886, total=   1.6s\n",
      "[CV] bootstrap=True, max_depth=60, max_features=25, n_estimators=205, n_jobs=-1 \n",
      "[CV]  bootstrap=True, max_depth=60, max_features=25, n_estimators=205, n_jobs=-1, score=0.903, total=   1.7s\n",
      "[CV] bootstrap=True, max_depth=60, max_features=25, n_estimators=205, n_jobs=-1 \n",
      "[CV]  bootstrap=True, max_depth=60, max_features=25, n_estimators=205, n_jobs=-1, score=0.898, total=   1.6s\n",
      "[CV] bootstrap=True, max_depth=60, max_features=25, n_estimators=205, n_jobs=-1 \n",
      "[CV]  bootstrap=True, max_depth=60, max_features=25, n_estimators=205, n_jobs=-1, score=0.888, total=   1.7s\n",
      "[CV] bootstrap=True, max_depth=60, max_features=25, n_estimators=210, n_jobs=-1 \n",
      "[CV]  bootstrap=True, max_depth=60, max_features=25, n_estimators=210, n_jobs=-1, score=0.901, total=   1.7s\n",
      "[CV] bootstrap=True, max_depth=60, max_features=25, n_estimators=210, n_jobs=-1 \n",
      "[CV]  bootstrap=True, max_depth=60, max_features=25, n_estimators=210, n_jobs=-1, score=0.897, total=   1.8s\n",
      "[CV] bootstrap=True, max_depth=60, max_features=25, n_estimators=210, n_jobs=-1 \n",
      "[CV]  bootstrap=True, max_depth=60, max_features=25, n_estimators=210, n_jobs=-1, score=0.891, total=   1.8s\n",
      "[CV] bootstrap=True, max_depth=60, max_features=25, n_estimators=215, n_jobs=-1 \n",
      "[CV]  bootstrap=True, max_depth=60, max_features=25, n_estimators=215, n_jobs=-1, score=0.899, total=   1.9s\n",
      "[CV] bootstrap=True, max_depth=60, max_features=25, n_estimators=215, n_jobs=-1 \n",
      "[CV]  bootstrap=True, max_depth=60, max_features=25, n_estimators=215, n_jobs=-1, score=0.893, total=   2.0s\n",
      "[CV] bootstrap=True, max_depth=60, max_features=25, n_estimators=215, n_jobs=-1 \n",
      "[CV]  bootstrap=True, max_depth=60, max_features=25, n_estimators=215, n_jobs=-1, score=0.887, total=   2.0s\n",
      "[CV] bootstrap=True, max_depth=60, max_features=25, n_estimators=220, n_jobs=-1 \n",
      "[CV]  bootstrap=True, max_depth=60, max_features=25, n_estimators=220, n_jobs=-1, score=0.899, total=   1.9s\n",
      "[CV] bootstrap=True, max_depth=60, max_features=25, n_estimators=220, n_jobs=-1 \n",
      "[CV]  bootstrap=True, max_depth=60, max_features=25, n_estimators=220, n_jobs=-1, score=0.895, total=   2.0s\n",
      "[CV] bootstrap=True, max_depth=60, max_features=25, n_estimators=220, n_jobs=-1 \n",
      "[CV]  bootstrap=True, max_depth=60, max_features=25, n_estimators=220, n_jobs=-1, score=0.890, total=   2.2s\n",
      "[CV] bootstrap=True, max_depth=60, max_features=25, n_estimators=225, n_jobs=-1 \n",
      "[CV]  bootstrap=True, max_depth=60, max_features=25, n_estimators=225, n_jobs=-1, score=0.899, total=   2.1s\n",
      "[CV] bootstrap=True, max_depth=60, max_features=25, n_estimators=225, n_jobs=-1 \n",
      "[CV]  bootstrap=True, max_depth=60, max_features=25, n_estimators=225, n_jobs=-1, score=0.895, total=   2.1s\n",
      "[CV] bootstrap=True, max_depth=60, max_features=25, n_estimators=225, n_jobs=-1 \n",
      "[CV]  bootstrap=True, max_depth=60, max_features=25, n_estimators=225, n_jobs=-1, score=0.890, total=   2.1s\n",
      "[CV] bootstrap=True, max_depth=60, max_features=25, n_estimators=230, n_jobs=-1 \n",
      "[CV]  bootstrap=True, max_depth=60, max_features=25, n_estimators=230, n_jobs=-1, score=0.899, total=   2.0s\n",
      "[CV] bootstrap=True, max_depth=60, max_features=25, n_estimators=230, n_jobs=-1 \n",
      "[CV]  bootstrap=True, max_depth=60, max_features=25, n_estimators=230, n_jobs=-1, score=0.897, total=   2.1s\n",
      "[CV] bootstrap=True, max_depth=60, max_features=25, n_estimators=230, n_jobs=-1 \n",
      "[CV]  bootstrap=True, max_depth=60, max_features=25, n_estimators=230, n_jobs=-1, score=0.891, total=   2.1s\n",
      "[CV] bootstrap=True, max_depth=60, max_features=25, n_estimators=235, n_jobs=-1 \n",
      "[CV]  bootstrap=True, max_depth=60, max_features=25, n_estimators=235, n_jobs=-1, score=0.898, total=   2.0s\n",
      "[CV] bootstrap=True, max_depth=60, max_features=25, n_estimators=235, n_jobs=-1 \n",
      "[CV]  bootstrap=True, max_depth=60, max_features=25, n_estimators=235, n_jobs=-1, score=0.900, total=   2.2s\n",
      "[CV] bootstrap=True, max_depth=60, max_features=25, n_estimators=235, n_jobs=-1 \n",
      "[CV]  bootstrap=True, max_depth=60, max_features=25, n_estimators=235, n_jobs=-1, score=0.889, total=   2.3s\n",
      "[CV] bootstrap=True, max_depth=60, max_features=25, n_estimators=240, n_jobs=-1 \n",
      "[CV]  bootstrap=True, max_depth=60, max_features=25, n_estimators=240, n_jobs=-1, score=0.903, total=   2.1s\n",
      "[CV] bootstrap=True, max_depth=60, max_features=25, n_estimators=240, n_jobs=-1 \n",
      "[CV]  bootstrap=True, max_depth=60, max_features=25, n_estimators=240, n_jobs=-1, score=0.893, total=   2.1s\n",
      "[CV] bootstrap=True, max_depth=60, max_features=25, n_estimators=240, n_jobs=-1 \n",
      "[CV]  bootstrap=True, max_depth=60, max_features=25, n_estimators=240, n_jobs=-1, score=0.891, total=   2.3s\n",
      "[CV] bootstrap=True, max_depth=60, max_features=25, n_estimators=245, n_jobs=-1 \n",
      "[CV]  bootstrap=True, max_depth=60, max_features=25, n_estimators=245, n_jobs=-1, score=0.903, total=   2.2s\n",
      "[CV] bootstrap=True, max_depth=60, max_features=25, n_estimators=245, n_jobs=-1 \n",
      "[CV]  bootstrap=True, max_depth=60, max_features=25, n_estimators=245, n_jobs=-1, score=0.893, total=   2.2s\n",
      "[CV] bootstrap=True, max_depth=60, max_features=25, n_estimators=245, n_jobs=-1 \n",
      "[CV]  bootstrap=True, max_depth=60, max_features=25, n_estimators=245, n_jobs=-1, score=0.889, total=   2.3s\n",
      "[CV] bootstrap=True, max_depth=60, max_features=25, n_estimators=250, n_jobs=-1 \n",
      "[CV]  bootstrap=True, max_depth=60, max_features=25, n_estimators=250, n_jobs=-1, score=0.897, total=   2.3s\n",
      "[CV] bootstrap=True, max_depth=60, max_features=25, n_estimators=250, n_jobs=-1 \n",
      "[CV]  bootstrap=True, max_depth=60, max_features=25, n_estimators=250, n_jobs=-1, score=0.897, total=   2.2s\n",
      "[CV] bootstrap=True, max_depth=60, max_features=25, n_estimators=250, n_jobs=-1 \n",
      "[CV]  bootstrap=True, max_depth=60, max_features=25, n_estimators=250, n_jobs=-1, score=0.892, total=   2.2s\n",
      "[CV] bootstrap=True, max_depth=60, max_features=25, n_estimators=255, n_jobs=-1 \n",
      "[CV]  bootstrap=True, max_depth=60, max_features=25, n_estimators=255, n_jobs=-1, score=0.902, total=   2.2s\n",
      "[CV] bootstrap=True, max_depth=60, max_features=25, n_estimators=255, n_jobs=-1 \n",
      "[CV]  bootstrap=True, max_depth=60, max_features=25, n_estimators=255, n_jobs=-1, score=0.898, total=   2.4s\n",
      "[CV] bootstrap=True, max_depth=60, max_features=25, n_estimators=255, n_jobs=-1 \n",
      "[CV]  bootstrap=True, max_depth=60, max_features=25, n_estimators=255, n_jobs=-1, score=0.894, total=   2.4s\n",
      "[CV] bootstrap=True, max_depth=60, max_features=25, n_estimators=260, n_jobs=-1 \n",
      "[CV]  bootstrap=True, max_depth=60, max_features=25, n_estimators=260, n_jobs=-1, score=0.903, total=   2.4s\n",
      "[CV] bootstrap=True, max_depth=60, max_features=25, n_estimators=260, n_jobs=-1 \n",
      "[CV]  bootstrap=True, max_depth=60, max_features=25, n_estimators=260, n_jobs=-1, score=0.896, total=   2.5s\n",
      "[CV] bootstrap=True, max_depth=60, max_features=25, n_estimators=260, n_jobs=-1 \n",
      "[CV]  bootstrap=True, max_depth=60, max_features=25, n_estimators=260, n_jobs=-1, score=0.885, total=   2.5s\n",
      "[CV] bootstrap=True, max_depth=60, max_features=25, n_estimators=265, n_jobs=-1 \n",
      "[CV]  bootstrap=True, max_depth=60, max_features=25, n_estimators=265, n_jobs=-1, score=0.901, total=   2.5s\n",
      "[CV] bootstrap=True, max_depth=60, max_features=25, n_estimators=265, n_jobs=-1 \n",
      "[CV]  bootstrap=True, max_depth=60, max_features=25, n_estimators=265, n_jobs=-1, score=0.900, total=   2.5s\n",
      "[CV] bootstrap=True, max_depth=60, max_features=25, n_estimators=265, n_jobs=-1 \n",
      "[CV]  bootstrap=True, max_depth=60, max_features=25, n_estimators=265, n_jobs=-1, score=0.888, total=   2.4s\n",
      "[CV] bootstrap=True, max_depth=60, max_features=25, n_estimators=270, n_jobs=-1 \n",
      "[CV]  bootstrap=True, max_depth=60, max_features=25, n_estimators=270, n_jobs=-1, score=0.903, total=   2.3s\n",
      "[CV] bootstrap=True, max_depth=60, max_features=25, n_estimators=270, n_jobs=-1 \n",
      "[CV]  bootstrap=True, max_depth=60, max_features=25, n_estimators=270, n_jobs=-1, score=0.897, total=   2.4s\n",
      "[CV] bootstrap=True, max_depth=60, max_features=25, n_estimators=270, n_jobs=-1 \n",
      "[CV]  bootstrap=True, max_depth=60, max_features=25, n_estimators=270, n_jobs=-1, score=0.889, total=   2.8s\n",
      "[CV] bootstrap=True, max_depth=60, max_features=25, n_estimators=275, n_jobs=-1 \n",
      "[CV]  bootstrap=True, max_depth=60, max_features=25, n_estimators=275, n_jobs=-1, score=0.902, total=   3.0s\n",
      "[CV] bootstrap=True, max_depth=60, max_features=25, n_estimators=275, n_jobs=-1 \n"
     ]
    },
    {
     "name": "stdout",
     "output_type": "stream",
     "text": [
      "[CV]  bootstrap=True, max_depth=60, max_features=25, n_estimators=275, n_jobs=-1, score=0.898, total=   2.8s\n",
      "[CV] bootstrap=True, max_depth=60, max_features=25, n_estimators=275, n_jobs=-1 \n",
      "[CV]  bootstrap=True, max_depth=60, max_features=25, n_estimators=275, n_jobs=-1, score=0.887, total=   2.5s\n",
      "[CV] bootstrap=True, max_depth=60, max_features=25, n_estimators=280, n_jobs=-1 \n",
      "[CV]  bootstrap=True, max_depth=60, max_features=25, n_estimators=280, n_jobs=-1, score=0.901, total=   2.7s\n",
      "[CV] bootstrap=True, max_depth=60, max_features=25, n_estimators=280, n_jobs=-1 \n",
      "[CV]  bootstrap=True, max_depth=60, max_features=25, n_estimators=280, n_jobs=-1, score=0.892, total=   2.6s\n",
      "[CV] bootstrap=True, max_depth=60, max_features=25, n_estimators=280, n_jobs=-1 \n",
      "[CV]  bootstrap=True, max_depth=60, max_features=25, n_estimators=280, n_jobs=-1, score=0.887, total=   2.7s\n",
      "[CV] bootstrap=True, max_depth=60, max_features=25, n_estimators=285, n_jobs=-1 \n",
      "[CV]  bootstrap=True, max_depth=60, max_features=25, n_estimators=285, n_jobs=-1, score=0.899, total=   2.5s\n",
      "[CV] bootstrap=True, max_depth=60, max_features=25, n_estimators=285, n_jobs=-1 \n",
      "[CV]  bootstrap=True, max_depth=60, max_features=25, n_estimators=285, n_jobs=-1, score=0.895, total=   2.6s\n",
      "[CV] bootstrap=True, max_depth=60, max_features=25, n_estimators=285, n_jobs=-1 \n",
      "[CV]  bootstrap=True, max_depth=60, max_features=25, n_estimators=285, n_jobs=-1, score=0.891, total=   2.7s\n",
      "[CV] bootstrap=True, max_depth=60, max_features=25, n_estimators=290, n_jobs=-1 \n",
      "[CV]  bootstrap=True, max_depth=60, max_features=25, n_estimators=290, n_jobs=-1, score=0.902, total=   2.7s\n",
      "[CV] bootstrap=True, max_depth=60, max_features=25, n_estimators=290, n_jobs=-1 \n",
      "[CV]  bootstrap=True, max_depth=60, max_features=25, n_estimators=290, n_jobs=-1, score=0.896, total=   2.6s\n",
      "[CV] bootstrap=True, max_depth=60, max_features=25, n_estimators=290, n_jobs=-1 \n",
      "[CV]  bootstrap=True, max_depth=60, max_features=25, n_estimators=290, n_jobs=-1, score=0.892, total=   2.8s\n",
      "[CV] bootstrap=True, max_depth=60, max_features=25, n_estimators=295, n_jobs=-1 \n",
      "[CV]  bootstrap=True, max_depth=60, max_features=25, n_estimators=295, n_jobs=-1, score=0.901, total=   3.0s\n",
      "[CV] bootstrap=True, max_depth=60, max_features=25, n_estimators=295, n_jobs=-1 \n",
      "[CV]  bootstrap=True, max_depth=60, max_features=25, n_estimators=295, n_jobs=-1, score=0.893, total=   2.8s\n",
      "[CV] bootstrap=True, max_depth=60, max_features=25, n_estimators=295, n_jobs=-1 \n",
      "[CV]  bootstrap=True, max_depth=60, max_features=25, n_estimators=295, n_jobs=-1, score=0.890, total=   2.6s\n",
      "[CV] bootstrap=True, max_depth=60, max_features=25, n_estimators=300, n_jobs=-1 \n",
      "[CV]  bootstrap=True, max_depth=60, max_features=25, n_estimators=300, n_jobs=-1, score=0.899, total=   2.6s\n",
      "[CV] bootstrap=True, max_depth=60, max_features=25, n_estimators=300, n_jobs=-1 \n",
      "[CV]  bootstrap=True, max_depth=60, max_features=25, n_estimators=300, n_jobs=-1, score=0.895, total=   2.7s\n",
      "[CV] bootstrap=True, max_depth=60, max_features=25, n_estimators=300, n_jobs=-1 \n",
      "[CV]  bootstrap=True, max_depth=60, max_features=25, n_estimators=300, n_jobs=-1, score=0.887, total=   2.7s\n",
      "[CV] bootstrap=True, max_depth=60, max_features=25, n_estimators=305, n_jobs=-1 \n",
      "[CV]  bootstrap=True, max_depth=60, max_features=25, n_estimators=305, n_jobs=-1, score=0.902, total=   2.6s\n",
      "[CV] bootstrap=True, max_depth=60, max_features=25, n_estimators=305, n_jobs=-1 \n",
      "[CV]  bootstrap=True, max_depth=60, max_features=25, n_estimators=305, n_jobs=-1, score=0.898, total=   2.7s\n",
      "[CV] bootstrap=True, max_depth=60, max_features=25, n_estimators=305, n_jobs=-1 \n",
      "[CV]  bootstrap=True, max_depth=60, max_features=25, n_estimators=305, n_jobs=-1, score=0.891, total=   2.8s\n",
      "[CV] bootstrap=True, max_depth=60, max_features=25, n_estimators=310, n_jobs=-1 \n",
      "[CV]  bootstrap=True, max_depth=60, max_features=25, n_estimators=310, n_jobs=-1, score=0.902, total=   2.9s\n",
      "[CV] bootstrap=True, max_depth=60, max_features=25, n_estimators=310, n_jobs=-1 \n",
      "[CV]  bootstrap=True, max_depth=60, max_features=25, n_estimators=310, n_jobs=-1, score=0.892, total=   2.7s\n",
      "[CV] bootstrap=True, max_depth=60, max_features=25, n_estimators=310, n_jobs=-1 \n",
      "[CV]  bootstrap=True, max_depth=60, max_features=25, n_estimators=310, n_jobs=-1, score=0.889, total=   2.9s\n",
      "[CV] bootstrap=True, max_depth=60, max_features=25, n_estimators=315, n_jobs=-1 \n",
      "[CV]  bootstrap=True, max_depth=60, max_features=25, n_estimators=315, n_jobs=-1, score=0.901, total=   2.7s\n",
      "[CV] bootstrap=True, max_depth=60, max_features=25, n_estimators=315, n_jobs=-1 \n",
      "[CV]  bootstrap=True, max_depth=60, max_features=25, n_estimators=315, n_jobs=-1, score=0.895, total=   2.8s\n",
      "[CV] bootstrap=True, max_depth=60, max_features=25, n_estimators=315, n_jobs=-1 \n",
      "[CV]  bootstrap=True, max_depth=60, max_features=25, n_estimators=315, n_jobs=-1, score=0.889, total=   2.8s\n",
      "[CV] bootstrap=True, max_depth=60, max_features=25, n_estimators=320, n_jobs=-1 \n",
      "[CV]  bootstrap=True, max_depth=60, max_features=25, n_estimators=320, n_jobs=-1, score=0.903, total=   2.9s\n",
      "[CV] bootstrap=True, max_depth=60, max_features=25, n_estimators=320, n_jobs=-1 \n",
      "[CV]  bootstrap=True, max_depth=60, max_features=25, n_estimators=320, n_jobs=-1, score=0.900, total=   2.9s\n",
      "[CV] bootstrap=True, max_depth=60, max_features=25, n_estimators=320, n_jobs=-1 \n",
      "[CV]  bootstrap=True, max_depth=60, max_features=25, n_estimators=320, n_jobs=-1, score=0.891, total=   2.9s\n",
      "[CV] bootstrap=True, max_depth=60, max_features=25, n_estimators=325, n_jobs=-1 \n",
      "[CV]  bootstrap=True, max_depth=60, max_features=25, n_estimators=325, n_jobs=-1, score=0.901, total=   2.8s\n",
      "[CV] bootstrap=True, max_depth=60, max_features=25, n_estimators=325, n_jobs=-1 \n",
      "[CV]  bootstrap=True, max_depth=60, max_features=25, n_estimators=325, n_jobs=-1, score=0.895, total=   2.8s\n",
      "[CV] bootstrap=True, max_depth=60, max_features=25, n_estimators=325, n_jobs=-1 \n",
      "[CV]  bootstrap=True, max_depth=60, max_features=25, n_estimators=325, n_jobs=-1, score=0.888, total=   2.9s\n",
      "[CV] bootstrap=True, max_depth=60, max_features=25, n_estimators=330, n_jobs=-1 \n",
      "[CV]  bootstrap=True, max_depth=60, max_features=25, n_estimators=330, n_jobs=-1, score=0.903, total=   3.0s\n",
      "[CV] bootstrap=True, max_depth=60, max_features=25, n_estimators=330, n_jobs=-1 \n",
      "[CV]  bootstrap=True, max_depth=60, max_features=25, n_estimators=330, n_jobs=-1, score=0.896, total=   2.8s\n",
      "[CV] bootstrap=True, max_depth=60, max_features=25, n_estimators=330, n_jobs=-1 \n",
      "[CV]  bootstrap=True, max_depth=60, max_features=25, n_estimators=330, n_jobs=-1, score=0.891, total=   3.0s\n",
      "[CV] bootstrap=True, max_depth=60, max_features=25, n_estimators=335, n_jobs=-1 \n",
      "[CV]  bootstrap=True, max_depth=60, max_features=25, n_estimators=335, n_jobs=-1, score=0.901, total=   2.8s\n",
      "[CV] bootstrap=True, max_depth=60, max_features=25, n_estimators=335, n_jobs=-1 \n",
      "[CV]  bootstrap=True, max_depth=60, max_features=25, n_estimators=335, n_jobs=-1, score=0.899, total=   3.1s\n",
      "[CV] bootstrap=True, max_depth=60, max_features=25, n_estimators=335, n_jobs=-1 \n",
      "[CV]  bootstrap=True, max_depth=60, max_features=25, n_estimators=335, n_jobs=-1, score=0.891, total=   3.2s\n",
      "[CV] bootstrap=True, max_depth=60, max_features=25, n_estimators=340, n_jobs=-1 \n",
      "[CV]  bootstrap=True, max_depth=60, max_features=25, n_estimators=340, n_jobs=-1, score=0.899, total=   3.1s\n",
      "[CV] bootstrap=True, max_depth=60, max_features=25, n_estimators=340, n_jobs=-1 \n",
      "[CV]  bootstrap=True, max_depth=60, max_features=25, n_estimators=340, n_jobs=-1, score=0.896, total=   3.0s\n",
      "[CV] bootstrap=True, max_depth=60, max_features=25, n_estimators=340, n_jobs=-1 \n",
      "[CV]  bootstrap=True, max_depth=60, max_features=25, n_estimators=340, n_jobs=-1, score=0.888, total=   3.3s\n",
      "[CV] bootstrap=True, max_depth=60, max_features=25, n_estimators=345, n_jobs=-1 \n",
      "[CV]  bootstrap=True, max_depth=60, max_features=25, n_estimators=345, n_jobs=-1, score=0.901, total=   3.3s\n",
      "[CV] bootstrap=True, max_depth=60, max_features=25, n_estimators=345, n_jobs=-1 \n",
      "[CV]  bootstrap=True, max_depth=60, max_features=25, n_estimators=345, n_jobs=-1, score=0.896, total=   3.4s\n",
      "[CV] bootstrap=True, max_depth=60, max_features=25, n_estimators=345, n_jobs=-1 \n",
      "[CV]  bootstrap=True, max_depth=60, max_features=25, n_estimators=345, n_jobs=-1, score=0.889, total=   3.2s\n",
      "[CV] bootstrap=True, max_depth=60, max_features=25, n_estimators=350, n_jobs=-1 \n"
     ]
    },
    {
     "name": "stdout",
     "output_type": "stream",
     "text": [
      "[CV]  bootstrap=True, max_depth=60, max_features=25, n_estimators=350, n_jobs=-1, score=0.903, total=   2.9s\n",
      "[CV] bootstrap=True, max_depth=60, max_features=25, n_estimators=350, n_jobs=-1 \n",
      "[CV]  bootstrap=True, max_depth=60, max_features=25, n_estimators=350, n_jobs=-1, score=0.894, total=   3.1s\n",
      "[CV] bootstrap=True, max_depth=60, max_features=25, n_estimators=350, n_jobs=-1 \n",
      "[CV]  bootstrap=True, max_depth=60, max_features=25, n_estimators=350, n_jobs=-1, score=0.892, total=   3.2s\n",
      "[CV] bootstrap=True, max_depth=60, max_features=25, n_estimators=355, n_jobs=-1 \n",
      "[CV]  bootstrap=True, max_depth=60, max_features=25, n_estimators=355, n_jobs=-1, score=0.902, total=   3.3s\n",
      "[CV] bootstrap=True, max_depth=60, max_features=25, n_estimators=355, n_jobs=-1 \n",
      "[CV]  bootstrap=True, max_depth=60, max_features=25, n_estimators=355, n_jobs=-1, score=0.895, total=   3.8s\n",
      "[CV] bootstrap=True, max_depth=60, max_features=25, n_estimators=355, n_jobs=-1 \n",
      "[CV]  bootstrap=True, max_depth=60, max_features=25, n_estimators=355, n_jobs=-1, score=0.889, total=   3.5s\n",
      "[CV] bootstrap=True, max_depth=60, max_features=25, n_estimators=360, n_jobs=-1 \n",
      "[CV]  bootstrap=True, max_depth=60, max_features=25, n_estimators=360, n_jobs=-1, score=0.899, total=   3.9s\n",
      "[CV] bootstrap=True, max_depth=60, max_features=25, n_estimators=360, n_jobs=-1 \n",
      "[CV]  bootstrap=True, max_depth=60, max_features=25, n_estimators=360, n_jobs=-1, score=0.897, total=   3.7s\n",
      "[CV] bootstrap=True, max_depth=60, max_features=25, n_estimators=360, n_jobs=-1 \n",
      "[CV]  bootstrap=True, max_depth=60, max_features=25, n_estimators=360, n_jobs=-1, score=0.891, total=   3.4s\n",
      "[CV] bootstrap=True, max_depth=60, max_features=25, n_estimators=365, n_jobs=-1 \n",
      "[CV]  bootstrap=True, max_depth=60, max_features=25, n_estimators=365, n_jobs=-1, score=0.901, total=   3.4s\n",
      "[CV] bootstrap=True, max_depth=60, max_features=25, n_estimators=365, n_jobs=-1 \n",
      "[CV]  bootstrap=True, max_depth=60, max_features=25, n_estimators=365, n_jobs=-1, score=0.896, total=   3.4s\n",
      "[CV] bootstrap=True, max_depth=60, max_features=25, n_estimators=365, n_jobs=-1 \n",
      "[CV]  bootstrap=True, max_depth=60, max_features=25, n_estimators=365, n_jobs=-1, score=0.891, total=   3.3s\n",
      "[CV] bootstrap=True, max_depth=60, max_features=25, n_estimators=370, n_jobs=-1 \n",
      "[CV]  bootstrap=True, max_depth=60, max_features=25, n_estimators=370, n_jobs=-1, score=0.905, total=   3.4s\n",
      "[CV] bootstrap=True, max_depth=60, max_features=25, n_estimators=370, n_jobs=-1 \n",
      "[CV]  bootstrap=True, max_depth=60, max_features=25, n_estimators=370, n_jobs=-1, score=0.895, total=   3.5s\n",
      "[CV] bootstrap=True, max_depth=60, max_features=25, n_estimators=370, n_jobs=-1 \n",
      "[CV]  bootstrap=True, max_depth=60, max_features=25, n_estimators=370, n_jobs=-1, score=0.890, total=   3.4s\n",
      "[CV] bootstrap=True, max_depth=60, max_features=25, n_estimators=375, n_jobs=-1 \n",
      "[CV]  bootstrap=True, max_depth=60, max_features=25, n_estimators=375, n_jobs=-1, score=0.901, total=   3.2s\n",
      "[CV] bootstrap=True, max_depth=60, max_features=25, n_estimators=375, n_jobs=-1 \n",
      "[CV]  bootstrap=True, max_depth=60, max_features=25, n_estimators=375, n_jobs=-1, score=0.899, total=   3.4s\n",
      "[CV] bootstrap=True, max_depth=60, max_features=25, n_estimators=375, n_jobs=-1 \n",
      "[CV]  bootstrap=True, max_depth=60, max_features=25, n_estimators=375, n_jobs=-1, score=0.896, total=   3.3s\n",
      "[CV] bootstrap=True, max_depth=60, max_features=25, n_estimators=380, n_jobs=-1 \n",
      "[CV]  bootstrap=True, max_depth=60, max_features=25, n_estimators=380, n_jobs=-1, score=0.901, total=   3.3s\n",
      "[CV] bootstrap=True, max_depth=60, max_features=25, n_estimators=380, n_jobs=-1 \n",
      "[CV]  bootstrap=True, max_depth=60, max_features=25, n_estimators=380, n_jobs=-1, score=0.892, total=   3.3s\n",
      "[CV] bootstrap=True, max_depth=60, max_features=25, n_estimators=380, n_jobs=-1 \n",
      "[CV]  bootstrap=True, max_depth=60, max_features=25, n_estimators=380, n_jobs=-1, score=0.888, total=   3.4s\n",
      "[CV] bootstrap=True, max_depth=60, max_features=25, n_estimators=385, n_jobs=-1 \n",
      "[CV]  bootstrap=True, max_depth=60, max_features=25, n_estimators=385, n_jobs=-1, score=0.899, total=   3.3s\n",
      "[CV] bootstrap=True, max_depth=60, max_features=25, n_estimators=385, n_jobs=-1 \n",
      "[CV]  bootstrap=True, max_depth=60, max_features=25, n_estimators=385, n_jobs=-1, score=0.897, total=   3.5s\n",
      "[CV] bootstrap=True, max_depth=60, max_features=25, n_estimators=385, n_jobs=-1 \n",
      "[CV]  bootstrap=True, max_depth=60, max_features=25, n_estimators=385, n_jobs=-1, score=0.892, total=   3.5s\n",
      "[CV] bootstrap=True, max_depth=60, max_features=25, n_estimators=390, n_jobs=-1 \n",
      "[CV]  bootstrap=True, max_depth=60, max_features=25, n_estimators=390, n_jobs=-1, score=0.903, total=   3.4s\n",
      "[CV] bootstrap=True, max_depth=60, max_features=25, n_estimators=390, n_jobs=-1 \n",
      "[CV]  bootstrap=True, max_depth=60, max_features=25, n_estimators=390, n_jobs=-1, score=0.896, total=   3.5s\n",
      "[CV] bootstrap=True, max_depth=60, max_features=25, n_estimators=390, n_jobs=-1 \n",
      "[CV]  bootstrap=True, max_depth=60, max_features=25, n_estimators=390, n_jobs=-1, score=0.891, total=   3.6s\n",
      "[CV] bootstrap=True, max_depth=60, max_features=25, n_estimators=395, n_jobs=-1 \n",
      "[CV]  bootstrap=True, max_depth=60, max_features=25, n_estimators=395, n_jobs=-1, score=0.901, total=   3.5s\n",
      "[CV] bootstrap=True, max_depth=60, max_features=25, n_estimators=395, n_jobs=-1 \n",
      "[CV]  bootstrap=True, max_depth=60, max_features=25, n_estimators=395, n_jobs=-1, score=0.895, total=   3.5s\n",
      "[CV] bootstrap=True, max_depth=60, max_features=25, n_estimators=395, n_jobs=-1 \n",
      "[CV]  bootstrap=True, max_depth=60, max_features=25, n_estimators=395, n_jobs=-1, score=0.888, total=   3.7s\n",
      "[CV] bootstrap=True, max_depth=60, max_features=25, n_estimators=400, n_jobs=-1 \n",
      "[CV]  bootstrap=True, max_depth=60, max_features=25, n_estimators=400, n_jobs=-1, score=0.902, total=   3.5s\n",
      "[CV] bootstrap=True, max_depth=60, max_features=25, n_estimators=400, n_jobs=-1 \n",
      "[CV]  bootstrap=True, max_depth=60, max_features=25, n_estimators=400, n_jobs=-1, score=0.896, total=   3.8s\n",
      "[CV] bootstrap=True, max_depth=60, max_features=25, n_estimators=400, n_jobs=-1 \n",
      "[CV]  bootstrap=True, max_depth=60, max_features=25, n_estimators=400, n_jobs=-1, score=0.889, total=   4.0s\n",
      "[CV] bootstrap=True, max_depth=60, max_features=25, n_estimators=405, n_jobs=-1 \n",
      "[CV]  bootstrap=True, max_depth=60, max_features=25, n_estimators=405, n_jobs=-1, score=0.902, total=   4.0s\n",
      "[CV] bootstrap=True, max_depth=60, max_features=25, n_estimators=405, n_jobs=-1 \n",
      "[CV]  bootstrap=True, max_depth=60, max_features=25, n_estimators=405, n_jobs=-1, score=0.899, total=   4.4s\n",
      "[CV] bootstrap=True, max_depth=60, max_features=25, n_estimators=405, n_jobs=-1 \n",
      "[CV]  bootstrap=True, max_depth=60, max_features=25, n_estimators=405, n_jobs=-1, score=0.888, total=   4.0s\n",
      "[CV] bootstrap=True, max_depth=60, max_features=25, n_estimators=410, n_jobs=-1 \n",
      "[CV]  bootstrap=True, max_depth=60, max_features=25, n_estimators=410, n_jobs=-1, score=0.905, total=   3.8s\n",
      "[CV] bootstrap=True, max_depth=60, max_features=25, n_estimators=410, n_jobs=-1 \n",
      "[CV]  bootstrap=True, max_depth=60, max_features=25, n_estimators=410, n_jobs=-1, score=0.897, total=   3.6s\n",
      "[CV] bootstrap=True, max_depth=60, max_features=25, n_estimators=410, n_jobs=-1 \n",
      "[CV]  bootstrap=True, max_depth=60, max_features=25, n_estimators=410, n_jobs=-1, score=0.886, total=   3.8s\n",
      "[CV] bootstrap=True, max_depth=60, max_features=25, n_estimators=415, n_jobs=-1 \n",
      "[CV]  bootstrap=True, max_depth=60, max_features=25, n_estimators=415, n_jobs=-1, score=0.900, total=   3.7s\n",
      "[CV] bootstrap=True, max_depth=60, max_features=25, n_estimators=415, n_jobs=-1 \n",
      "[CV]  bootstrap=True, max_depth=60, max_features=25, n_estimators=415, n_jobs=-1, score=0.899, total=   4.0s\n",
      "[CV] bootstrap=True, max_depth=60, max_features=25, n_estimators=415, n_jobs=-1 \n",
      "[CV]  bootstrap=True, max_depth=60, max_features=25, n_estimators=415, n_jobs=-1, score=0.891, total=   3.8s\n",
      "[CV] bootstrap=True, max_depth=60, max_features=25, n_estimators=420, n_jobs=-1 \n",
      "[CV]  bootstrap=True, max_depth=60, max_features=25, n_estimators=420, n_jobs=-1, score=0.901, total=   3.8s\n",
      "[CV] bootstrap=True, max_depth=60, max_features=25, n_estimators=420, n_jobs=-1 \n",
      "[CV]  bootstrap=True, max_depth=60, max_features=25, n_estimators=420, n_jobs=-1, score=0.898, total=   4.2s\n",
      "[CV] bootstrap=True, max_depth=60, max_features=25, n_estimators=420, n_jobs=-1 \n"
     ]
    },
    {
     "name": "stdout",
     "output_type": "stream",
     "text": [
      "[CV]  bootstrap=True, max_depth=60, max_features=25, n_estimators=420, n_jobs=-1, score=0.891, total=   3.9s\n",
      "[CV] bootstrap=True, max_depth=60, max_features=25, n_estimators=425, n_jobs=-1 \n",
      "[CV]  bootstrap=True, max_depth=60, max_features=25, n_estimators=425, n_jobs=-1, score=0.902, total=   3.6s\n",
      "[CV] bootstrap=True, max_depth=60, max_features=25, n_estimators=425, n_jobs=-1 \n",
      "[CV]  bootstrap=True, max_depth=60, max_features=25, n_estimators=425, n_jobs=-1, score=0.897, total=   3.6s\n",
      "[CV] bootstrap=True, max_depth=60, max_features=25, n_estimators=425, n_jobs=-1 \n",
      "[CV]  bootstrap=True, max_depth=60, max_features=25, n_estimators=425, n_jobs=-1, score=0.890, total=   3.8s\n",
      "[CV] bootstrap=True, max_depth=60, max_features=25, n_estimators=430, n_jobs=-1 \n",
      "[CV]  bootstrap=True, max_depth=60, max_features=25, n_estimators=430, n_jobs=-1, score=0.901, total=   3.7s\n",
      "[CV] bootstrap=True, max_depth=60, max_features=25, n_estimators=430, n_jobs=-1 \n",
      "[CV]  bootstrap=True, max_depth=60, max_features=25, n_estimators=430, n_jobs=-1, score=0.899, total=   4.2s\n",
      "[CV] bootstrap=True, max_depth=60, max_features=25, n_estimators=430, n_jobs=-1 \n",
      "[CV]  bootstrap=True, max_depth=60, max_features=25, n_estimators=430, n_jobs=-1, score=0.890, total=   4.6s\n",
      "[CV] bootstrap=True, max_depth=60, max_features=25, n_estimators=435, n_jobs=-1 \n",
      "[CV]  bootstrap=True, max_depth=60, max_features=25, n_estimators=435, n_jobs=-1, score=0.901, total=   4.1s\n",
      "[CV] bootstrap=True, max_depth=60, max_features=25, n_estimators=435, n_jobs=-1 \n",
      "[CV]  bootstrap=True, max_depth=60, max_features=25, n_estimators=435, n_jobs=-1, score=0.898, total=   3.8s\n",
      "[CV] bootstrap=True, max_depth=60, max_features=25, n_estimators=435, n_jobs=-1 \n",
      "[CV]  bootstrap=True, max_depth=60, max_features=25, n_estimators=435, n_jobs=-1, score=0.887, total=   4.3s\n",
      "[CV] bootstrap=True, max_depth=60, max_features=25, n_estimators=440, n_jobs=-1 \n",
      "[CV]  bootstrap=True, max_depth=60, max_features=25, n_estimators=440, n_jobs=-1, score=0.901, total=   4.4s\n",
      "[CV] bootstrap=True, max_depth=60, max_features=25, n_estimators=440, n_jobs=-1 \n",
      "[CV]  bootstrap=True, max_depth=60, max_features=25, n_estimators=440, n_jobs=-1, score=0.895, total=   4.4s\n",
      "[CV] bootstrap=True, max_depth=60, max_features=25, n_estimators=440, n_jobs=-1 \n",
      "[CV]  bootstrap=True, max_depth=60, max_features=25, n_estimators=440, n_jobs=-1, score=0.890, total=   4.2s\n",
      "[CV] bootstrap=True, max_depth=60, max_features=25, n_estimators=445, n_jobs=-1 \n",
      "[CV]  bootstrap=True, max_depth=60, max_features=25, n_estimators=445, n_jobs=-1, score=0.901, total=   4.0s\n",
      "[CV] bootstrap=True, max_depth=60, max_features=25, n_estimators=445, n_jobs=-1 \n",
      "[CV]  bootstrap=True, max_depth=60, max_features=25, n_estimators=445, n_jobs=-1, score=0.898, total=   3.8s\n",
      "[CV] bootstrap=True, max_depth=60, max_features=25, n_estimators=445, n_jobs=-1 \n",
      "[CV]  bootstrap=True, max_depth=60, max_features=25, n_estimators=445, n_jobs=-1, score=0.892, total=   4.4s\n",
      "[CV] bootstrap=True, max_depth=60, max_features=25, n_estimators=450, n_jobs=-1 \n",
      "[CV]  bootstrap=True, max_depth=60, max_features=25, n_estimators=450, n_jobs=-1, score=0.899, total=   4.1s\n",
      "[CV] bootstrap=True, max_depth=60, max_features=25, n_estimators=450, n_jobs=-1 \n",
      "[CV]  bootstrap=True, max_depth=60, max_features=25, n_estimators=450, n_jobs=-1, score=0.898, total=   4.4s\n",
      "[CV] bootstrap=True, max_depth=60, max_features=25, n_estimators=450, n_jobs=-1 \n",
      "[CV]  bootstrap=True, max_depth=60, max_features=25, n_estimators=450, n_jobs=-1, score=0.890, total=   4.4s\n"
     ]
    },
    {
     "name": "stderr",
     "output_type": "stream",
     "text": [
      "[Parallel(n_jobs=1)]: Done 153 out of 153 | elapsed:  7.6min finished\n"
     ]
    },
    {
     "data": {
      "text/plain": [
       "GridSearchCV(cv='warn', error_score='raise-deprecating',\n",
       "             estimator=RandomForestClassifier(bootstrap=True, class_weight=None,\n",
       "                                              criterion='gini', max_depth=None,\n",
       "                                              max_features='auto',\n",
       "                                              max_leaf_nodes=None,\n",
       "                                              min_impurity_decrease=0.0,\n",
       "                                              min_impurity_split=None,\n",
       "                                              min_samples_leaf=1,\n",
       "                                              min_samples_split=2,\n",
       "                                              min_weight_fraction_leaf=0.0,\n",
       "                                              n_estimators=200, n_jobs=None,\n",
       "                                              oob_score=...\n",
       "                                              random_state=None, verbose=0,\n",
       "                                              warm_start=False),\n",
       "             iid='warn', n_jobs=None,\n",
       "             param_grid={'bootstrap': [True], 'max_depth': [60],\n",
       "                         'max_features': [25],\n",
       "                         'n_estimators': [200, 205, 210, 215, 220, 225, 230,\n",
       "                                          235, 240, 245, 250, 255, 260, 265,\n",
       "                                          270, 275, 280, 285, 290, 295, 300,\n",
       "                                          305, 310, 315, 320, 325, 330, 335,\n",
       "                                          340, 345, ...],\n",
       "                         'n_jobs': [-1]},\n",
       "             pre_dispatch='2*n_jobs', refit=True, return_train_score=False,\n",
       "             scoring=None, verbose=3)"
      ]
     },
     "execution_count": 35,
     "metadata": {},
     "output_type": "execute_result"
    }
   ],
   "source": [
    "grid.fit(x_train, y_train)"
   ]
  },
  {
   "cell_type": "code",
   "execution_count": 36,
   "metadata": {},
   "outputs": [
    {
     "data": {
      "text/plain": [
       "{'bootstrap': True,\n",
       " 'max_depth': 60,\n",
       " 'max_features': 25,\n",
       " 'n_estimators': 375,\n",
       " 'n_jobs': -1}"
      ]
     },
     "execution_count": 36,
     "metadata": {},
     "output_type": "execute_result"
    }
   ],
   "source": [
    "best_parameters1 = grid.best_params_\n",
    "best_parameters1"
   ]
  },
  {
   "cell_type": "code",
   "execution_count": 37,
   "metadata": {},
   "outputs": [],
   "source": [
    "#experiment with some of the top N-estimators from above grid search (top result did not yield improvement)\n",
    "model_best1 = RandomForestClassifier(bootstrap=True, max_depth=60, max_features=25, n_estimators=375)"
   ]
  },
  {
   "cell_type": "code",
   "execution_count": 38,
   "metadata": {},
   "outputs": [
    {
     "data": {
      "text/plain": [
       "RandomForestClassifier(bootstrap=True, class_weight=None, criterion='gini',\n",
       "                       max_depth=60, max_features=25, max_leaf_nodes=None,\n",
       "                       min_impurity_decrease=0.0, min_impurity_split=None,\n",
       "                       min_samples_leaf=1, min_samples_split=2,\n",
       "                       min_weight_fraction_leaf=0.0, n_estimators=375,\n",
       "                       n_jobs=None, oob_score=False, random_state=None,\n",
       "                       verbose=0, warm_start=False)"
      ]
     },
     "execution_count": 38,
     "metadata": {},
     "output_type": "execute_result"
    }
   ],
   "source": [
    "#fit model\n",
    "model_best1.fit(x_train, y_train)"
   ]
  },
  {
   "cell_type": "code",
   "execution_count": 39,
   "metadata": {},
   "outputs": [
    {
     "data": {
      "text/plain": [
       "0.8930205949656751"
      ]
     },
     "execution_count": 39,
     "metadata": {},
     "output_type": "execute_result"
    }
   ],
   "source": [
    "#score model\n",
    "model_best1.score(x_test, y_test)"
   ]
  },
  {
   "cell_type": "code",
   "execution_count": 40,
   "metadata": {},
   "outputs": [
    {
     "data": {
      "text/plain": [
       "1.0"
      ]
     },
     "execution_count": 40,
     "metadata": {},
     "output_type": "execute_result"
    }
   ],
   "source": [
    "#score with training data\n",
    "model_best1.score(x_train, y_train)"
   ]
  },
  {
   "cell_type": "code",
   "execution_count": 41,
   "metadata": {},
   "outputs": [],
   "source": [
    "#removing 1-4% of unimportant values to further refine what the model looks at\n",
    "#get value of each feature in a list\n",
    "feature_value2 = list(model_best1.feature_importances_)\n",
    "#list of feature names (from most recent model)\n",
    "feature_names2 = list(dfx_important_features.columns)"
   ]
  },
  {
   "cell_type": "code",
   "execution_count": 42,
   "metadata": {},
   "outputs": [
    {
     "data": {
      "text/plain": [
       "[('koi_fpflag_nt', 0.1944278724588487),\n",
       " ('koi_fpflag_ss', 0.15332383613745862),\n",
       " ('koi_fpflag_co', 0.16990271768848692),\n",
       " ('koi_fpflag_ec', 0.038037298989236794),\n",
       " ('koi_period', 0.011500573879916594),\n",
       " ('koi_period_err1', 0.0060245886560102),\n",
       " ('koi_period_err2', 0.006148360591268294),\n",
       " ('koi_time0bk', 0.012516951964590102),\n",
       " ('koi_time0bk_err1', 0.008263757749428616),\n",
       " ('koi_time0bk_err2', 0.008402811703359315),\n",
       " ('koi_impact', 0.017331343464750387),\n",
       " ('koi_impact_err1', 0.008325531047207688),\n",
       " ('koi_impact_err2', 0.008775394725799426),\n",
       " ('koi_duration', 0.020348805604299632),\n",
       " ('koi_duration_err1', 0.02265339823941591),\n",
       " ('koi_duration_err2', 0.020170288658895214),\n",
       " ('koi_depth', 0.008125982507724205),\n",
       " ('koi_depth_err1', 0.007924008253270708),\n",
       " ('koi_depth_err2', 0.00785384254385342),\n",
       " ('koi_prad', 0.035252804830769244),\n",
       " ('koi_prad_err1', 0.009034673029845708),\n",
       " ('koi_prad_err2', 0.016008810965106368),\n",
       " ('koi_teq', 0.004460961279339532),\n",
       " ('koi_insol', 0.004530137523258569),\n",
       " ('koi_insol_err1', 0.006297458275430998),\n",
       " ('koi_insol_err2', 0.005459210729298649),\n",
       " ('koi_model_snr', 0.1088328079950184),\n",
       " ('koi_steff_err1', 0.011794267754934274),\n",
       " ('koi_steff_err2', 0.010537165069315417),\n",
       " ('koi_slogg_err2', 0.007842113499770997),\n",
       " ('koi_srad_err1', 0.008979033040829988),\n",
       " ('ra', 0.015249961589793994),\n",
       " ('dec', 0.012456959384930934),\n",
       " ('koi_kepmag', 0.013206270168536241)]"
      ]
     },
     "execution_count": 42,
     "metadata": {},
     "output_type": "execute_result"
    }
   ],
   "source": [
    "features_and_values2 = [(feature, importance) for feature, importance in zip(feature_names2, feature_value2)]\n",
    "features_and_values2"
   ]
  },
  {
   "cell_type": "code",
   "execution_count": 43,
   "metadata": {},
   "outputs": [
    {
     "data": {
      "text/plain": [
       "[('koi_fpflag_nt', 0.1944278724588487),\n",
       " ('koi_fpflag_co', 0.16990271768848692),\n",
       " ('koi_fpflag_ss', 0.15332383613745862),\n",
       " ('koi_model_snr', 0.1088328079950184),\n",
       " ('koi_fpflag_ec', 0.038037298989236794),\n",
       " ('koi_prad', 0.035252804830769244),\n",
       " ('koi_duration_err1', 0.02265339823941591),\n",
       " ('koi_duration', 0.020348805604299632),\n",
       " ('koi_duration_err2', 0.020170288658895214),\n",
       " ('koi_impact', 0.017331343464750387),\n",
       " ('koi_prad_err2', 0.016008810965106368),\n",
       " ('ra', 0.015249961589793994),\n",
       " ('koi_kepmag', 0.013206270168536241),\n",
       " ('koi_time0bk', 0.012516951964590102),\n",
       " ('dec', 0.012456959384930934),\n",
       " ('koi_steff_err1', 0.011794267754934274),\n",
       " ('koi_period', 0.011500573879916594),\n",
       " ('koi_steff_err2', 0.010537165069315417),\n",
       " ('koi_prad_err1', 0.009034673029845708),\n",
       " ('koi_srad_err1', 0.008979033040829988),\n",
       " ('koi_impact_err2', 0.008775394725799426),\n",
       " ('koi_time0bk_err2', 0.008402811703359315),\n",
       " ('koi_impact_err1', 0.008325531047207688),\n",
       " ('koi_time0bk_err1', 0.008263757749428616),\n",
       " ('koi_depth', 0.008125982507724205),\n",
       " ('koi_depth_err1', 0.007924008253270708),\n",
       " ('koi_depth_err2', 0.00785384254385342),\n",
       " ('koi_slogg_err2', 0.007842113499770997),\n",
       " ('koi_insol_err1', 0.006297458275430998),\n",
       " ('koi_period_err2', 0.006148360591268294),\n",
       " ('koi_period_err1', 0.0060245886560102),\n",
       " ('koi_insol_err2', 0.005459210729298649),\n",
       " ('koi_insol', 0.004530137523258569),\n",
       " ('koi_teq', 0.004460961279339532)]"
      ]
     },
     "execution_count": 43,
     "metadata": {},
     "output_type": "execute_result"
    }
   ],
   "source": [
    "sorted(features_and_values2, key = lambda x: x[1], reverse = True) "
   ]
  },
  {
   "cell_type": "code",
   "execution_count": 44,
   "metadata": {},
   "outputs": [],
   "source": [
    "#create a copy of dfx_important_features (most recent x values)\n",
    "dfx_important_features1 = dfx_important_features.copy()\n",
    "#drop columns of features with importance value of less than 1%\n",
    "dfx_important_features1 = dfx_important_features1.drop(columns=['koi_teq', 'koi_insol_err2', 'koi_insol',\n",
    "                                                               'koi_period_err1'])"
   ]
  },
  {
   "cell_type": "code",
   "execution_count": 45,
   "metadata": {},
   "outputs": [],
   "source": [
    "#split data into testing and training data\n",
    "#the random state remained at 55\n",
    "\n",
    "x_train, x_test, y_train, y_test = train_test_split(dfx_important_features1, dfy, random_state=55)\n",
    "#scale x values\n",
    "x_scaler = StandardScaler().fit(x_train)\n",
    "x_train = x_scaler.transform(x_train)\n",
    "x_test = x_scaler.transform(x_test)"
   ]
  },
  {
   "cell_type": "code",
   "execution_count": 49,
   "metadata": {},
   "outputs": [],
   "source": [
    "#use same parameters as most recent best per grid searches for model\n",
    "model2 = RandomForestClassifier(bootstrap=True, max_depth=60, max_features=25, n_estimators=375)"
   ]
  },
  {
   "cell_type": "code",
   "execution_count": 50,
   "metadata": {},
   "outputs": [
    {
     "data": {
      "text/plain": [
       "RandomForestClassifier(bootstrap=True, class_weight=None, criterion='gini',\n",
       "                       max_depth=60, max_features=25, max_leaf_nodes=None,\n",
       "                       min_impurity_decrease=0.0, min_impurity_split=None,\n",
       "                       min_samples_leaf=1, min_samples_split=2,\n",
       "                       min_weight_fraction_leaf=0.0, n_estimators=375,\n",
       "                       n_jobs=None, oob_score=False, random_state=None,\n",
       "                       verbose=0, warm_start=False)"
      ]
     },
     "execution_count": 50,
     "metadata": {},
     "output_type": "execute_result"
    }
   ],
   "source": [
    "#fit model\n",
    "model2.fit(x_train, y_train)"
   ]
  },
  {
   "cell_type": "code",
   "execution_count": 51,
   "metadata": {},
   "outputs": [
    {
     "data": {
      "text/plain": [
       "0.8924485125858124"
      ]
     },
     "execution_count": 51,
     "metadata": {},
     "output_type": "execute_result"
    }
   ],
   "source": [
    "model2.score(x_test, y_test)"
   ]
  },
  {
   "cell_type": "code",
   "execution_count": 52,
   "metadata": {},
   "outputs": [],
   "source": [
    "#try to increase training data\n",
    "#the random state remained at 55\n",
    "\n",
    "x_train, x_test, y_train, y_test = train_test_split(dfx_important_features1, dfy, random_state=55, train_size=0.90)\n",
    "#per documentation, setting train_size also automatically effectively sets the test size\n",
    "\n",
    "\n",
    "#scale x values\n",
    "x_scaler = StandardScaler().fit(x_train)\n",
    "x_train = x_scaler.transform(x_train)\n",
    "x_test = x_scaler.transform(x_test)"
   ]
  },
  {
   "cell_type": "code",
   "execution_count": 53,
   "metadata": {},
   "outputs": [],
   "source": [
    "#create model using best paramers, per most recent grid\n",
    "model3 = RandomForestClassifier(bootstrap=True, max_depth=60, max_features=25, n_estimators=375)"
   ]
  },
  {
   "cell_type": "code",
   "execution_count": 54,
   "metadata": {},
   "outputs": [
    {
     "data": {
      "text/plain": [
       "RandomForestClassifier(bootstrap=True, class_weight=None, criterion='gini',\n",
       "                       max_depth=60, max_features=25, max_leaf_nodes=None,\n",
       "                       min_impurity_decrease=0.0, min_impurity_split=None,\n",
       "                       min_samples_leaf=1, min_samples_split=2,\n",
       "                       min_weight_fraction_leaf=0.0, n_estimators=375,\n",
       "                       n_jobs=None, oob_score=False, random_state=None,\n",
       "                       verbose=0, warm_start=False)"
      ]
     },
     "execution_count": 54,
     "metadata": {},
     "output_type": "execute_result"
    }
   ],
   "source": [
    "model3.fit(x_train, y_train)"
   ]
  },
  {
   "cell_type": "code",
   "execution_count": 55,
   "metadata": {},
   "outputs": [
    {
     "data": {
      "text/plain": [
       "0.9014285714285715"
      ]
     },
     "execution_count": 55,
     "metadata": {},
     "output_type": "execute_result"
    }
   ],
   "source": [
    "#with the training data increased to 90%, the r2 score increases to above 0.9\n",
    "#am generally happy with this, but want to see if this can be increased\n",
    "model3.score(x_test, y_test)"
   ]
  },
  {
   "cell_type": "code",
   "execution_count": 56,
   "metadata": {},
   "outputs": [
    {
     "data": {
      "text/plain": [
       "1.0"
      ]
     },
     "execution_count": 56,
     "metadata": {},
     "output_type": "execute_result"
    }
   ],
   "source": [
    "#the training data still returns a score of 1.0/perfect, and testing is barely above .9,\n",
    "#so there may still be an issue of overfitting\n",
    "model3.score(x_train, y_train)"
   ]
  },
  {
   "cell_type": "code",
   "execution_count": 59,
   "metadata": {},
   "outputs": [],
   "source": [
    "#try another grid search\n",
    "#will keep estimators the same, and will skew towards existing optimal params based on previous models\n",
    "max_depth = list(np.arange(20, 71, 10))\n",
    "max_features = list(np.arange(10, 31, 5)) #need to keep the max features to be no more than 30 (n_features)\n",
    "max_features.append('auto')\n",
    "max_features.append('log2')\n",
    "max_depth.append(None)\n",
    "param_grid = {\n",
    "    'bootstrap': [True], \n",
    "    'n_estimators': [375],\n",
    "    'max_features': max_features,\n",
    "    'max_depth': max_depth,\n",
    "    'n_jobs': [-1]\n",
    "}\n",
    "grid = GridSearchCV(model3, param_grid, verbose=3)\n",
    "\n"
   ]
  },
  {
   "cell_type": "code",
   "execution_count": 60,
   "metadata": {},
   "outputs": [
    {
     "name": "stdout",
     "output_type": "stream",
     "text": [
      "Fitting 3 folds for each of 49 candidates, totalling 147 fits\n",
      "[CV] bootstrap=True, max_depth=20, max_features=10, n_estimators=375, n_jobs=-1 \n"
     ]
    },
    {
     "name": "stderr",
     "output_type": "stream",
     "text": [
      "[Parallel(n_jobs=1)]: Using backend SequentialBackend with 1 concurrent workers.\n"
     ]
    },
    {
     "name": "stdout",
     "output_type": "stream",
     "text": [
      "[CV]  bootstrap=True, max_depth=20, max_features=10, n_estimators=375, n_jobs=-1, score=0.899, total=   3.3s\n",
      "[CV] bootstrap=True, max_depth=20, max_features=10, n_estimators=375, n_jobs=-1 \n"
     ]
    },
    {
     "name": "stderr",
     "output_type": "stream",
     "text": [
      "[Parallel(n_jobs=1)]: Done   1 out of   1 | elapsed:    3.3s remaining:    0.0s\n"
     ]
    },
    {
     "name": "stdout",
     "output_type": "stream",
     "text": [
      "[CV]  bootstrap=True, max_depth=20, max_features=10, n_estimators=375, n_jobs=-1, score=0.903, total=   1.6s\n",
      "[CV] bootstrap=True, max_depth=20, max_features=10, n_estimators=375, n_jobs=-1 \n"
     ]
    },
    {
     "name": "stderr",
     "output_type": "stream",
     "text": [
      "[Parallel(n_jobs=1)]: Done   2 out of   2 | elapsed:    4.8s remaining:    0.0s\n"
     ]
    },
    {
     "name": "stdout",
     "output_type": "stream",
     "text": [
      "[CV]  bootstrap=True, max_depth=20, max_features=10, n_estimators=375, n_jobs=-1, score=0.895, total=   1.7s\n",
      "[CV] bootstrap=True, max_depth=20, max_features=15, n_estimators=375, n_jobs=-1 \n",
      "[CV]  bootstrap=True, max_depth=20, max_features=15, n_estimators=375, n_jobs=-1, score=0.899, total=   2.2s\n",
      "[CV] bootstrap=True, max_depth=20, max_features=15, n_estimators=375, n_jobs=-1 \n",
      "[CV]  bootstrap=True, max_depth=20, max_features=15, n_estimators=375, n_jobs=-1, score=0.901, total=   2.3s\n",
      "[CV] bootstrap=True, max_depth=20, max_features=15, n_estimators=375, n_jobs=-1 \n",
      "[CV]  bootstrap=True, max_depth=20, max_features=15, n_estimators=375, n_jobs=-1, score=0.897, total=   2.3s\n",
      "[CV] bootstrap=True, max_depth=20, max_features=20, n_estimators=375, n_jobs=-1 \n",
      "[CV]  bootstrap=True, max_depth=20, max_features=20, n_estimators=375, n_jobs=-1, score=0.897, total=   2.8s\n",
      "[CV] bootstrap=True, max_depth=20, max_features=20, n_estimators=375, n_jobs=-1 \n",
      "[CV]  bootstrap=True, max_depth=20, max_features=20, n_estimators=375, n_jobs=-1, score=0.897, total=   2.8s\n",
      "[CV] bootstrap=True, max_depth=20, max_features=20, n_estimators=375, n_jobs=-1 \n",
      "[CV]  bootstrap=True, max_depth=20, max_features=20, n_estimators=375, n_jobs=-1, score=0.895, total=   3.0s\n",
      "[CV] bootstrap=True, max_depth=20, max_features=25, n_estimators=375, n_jobs=-1 \n",
      "[CV]  bootstrap=True, max_depth=20, max_features=25, n_estimators=375, n_jobs=-1, score=0.898, total=   3.6s\n",
      "[CV] bootstrap=True, max_depth=20, max_features=25, n_estimators=375, n_jobs=-1 \n",
      "[CV]  bootstrap=True, max_depth=20, max_features=25, n_estimators=375, n_jobs=-1, score=0.897, total=   3.7s\n",
      "[CV] bootstrap=True, max_depth=20, max_features=25, n_estimators=375, n_jobs=-1 \n",
      "[CV]  bootstrap=True, max_depth=20, max_features=25, n_estimators=375, n_jobs=-1, score=0.893, total=   4.1s\n",
      "[CV] bootstrap=True, max_depth=20, max_features=30, n_estimators=375, n_jobs=-1 \n",
      "[CV]  bootstrap=True, max_depth=20, max_features=30, n_estimators=375, n_jobs=-1, score=0.898, total=   4.3s\n",
      "[CV] bootstrap=True, max_depth=20, max_features=30, n_estimators=375, n_jobs=-1 \n",
      "[CV]  bootstrap=True, max_depth=20, max_features=30, n_estimators=375, n_jobs=-1, score=0.897, total=   4.3s\n",
      "[CV] bootstrap=True, max_depth=20, max_features=30, n_estimators=375, n_jobs=-1 \n",
      "[CV]  bootstrap=True, max_depth=20, max_features=30, n_estimators=375, n_jobs=-1, score=0.893, total=   4.6s\n",
      "[CV] bootstrap=True, max_depth=20, max_features=auto, n_estimators=375, n_jobs=-1 \n",
      "[CV]  bootstrap=True, max_depth=20, max_features=auto, n_estimators=375, n_jobs=-1, score=0.894, total=   1.2s\n",
      "[CV] bootstrap=True, max_depth=20, max_features=auto, n_estimators=375, n_jobs=-1 \n",
      "[CV]  bootstrap=True, max_depth=20, max_features=auto, n_estimators=375, n_jobs=-1, score=0.901, total=   1.2s\n",
      "[CV] bootstrap=True, max_depth=20, max_features=auto, n_estimators=375, n_jobs=-1 \n",
      "[CV]  bootstrap=True, max_depth=20, max_features=auto, n_estimators=375, n_jobs=-1, score=0.897, total=   1.2s\n",
      "[CV] bootstrap=True, max_depth=20, max_features=log2, n_estimators=375, n_jobs=-1 \n",
      "[CV]  bootstrap=True, max_depth=20, max_features=log2, n_estimators=375, n_jobs=-1, score=0.893, total=   1.0s\n",
      "[CV] bootstrap=True, max_depth=20, max_features=log2, n_estimators=375, n_jobs=-1 \n",
      "[CV]  bootstrap=True, max_depth=20, max_features=log2, n_estimators=375, n_jobs=-1, score=0.899, total=   1.0s\n",
      "[CV] bootstrap=True, max_depth=20, max_features=log2, n_estimators=375, n_jobs=-1 \n",
      "[CV]  bootstrap=True, max_depth=20, max_features=log2, n_estimators=375, n_jobs=-1, score=0.894, total=   1.0s\n",
      "[CV] bootstrap=True, max_depth=30, max_features=10, n_estimators=375, n_jobs=-1 \n",
      "[CV]  bootstrap=True, max_depth=30, max_features=10, n_estimators=375, n_jobs=-1, score=0.897, total=   1.9s\n",
      "[CV] bootstrap=True, max_depth=30, max_features=10, n_estimators=375, n_jobs=-1 \n",
      "[CV]  bootstrap=True, max_depth=30, max_features=10, n_estimators=375, n_jobs=-1, score=0.900, total=   1.9s\n",
      "[CV] bootstrap=True, max_depth=30, max_features=10, n_estimators=375, n_jobs=-1 \n",
      "[CV]  bootstrap=True, max_depth=30, max_features=10, n_estimators=375, n_jobs=-1, score=0.897, total=   2.0s\n",
      "[CV] bootstrap=True, max_depth=30, max_features=15, n_estimators=375, n_jobs=-1 \n",
      "[CV]  bootstrap=True, max_depth=30, max_features=15, n_estimators=375, n_jobs=-1, score=0.904, total=   2.4s\n",
      "[CV] bootstrap=True, max_depth=30, max_features=15, n_estimators=375, n_jobs=-1 \n",
      "[CV]  bootstrap=True, max_depth=30, max_features=15, n_estimators=375, n_jobs=-1, score=0.899, total=   2.4s\n",
      "[CV] bootstrap=True, max_depth=30, max_features=15, n_estimators=375, n_jobs=-1 \n",
      "[CV]  bootstrap=True, max_depth=30, max_features=15, n_estimators=375, n_jobs=-1, score=0.892, total=   2.5s\n",
      "[CV] bootstrap=True, max_depth=30, max_features=20, n_estimators=375, n_jobs=-1 \n",
      "[CV]  bootstrap=True, max_depth=30, max_features=20, n_estimators=375, n_jobs=-1, score=0.897, total=   3.2s\n",
      "[CV] bootstrap=True, max_depth=30, max_features=20, n_estimators=375, n_jobs=-1 \n",
      "[CV]  bootstrap=True, max_depth=30, max_features=20, n_estimators=375, n_jobs=-1, score=0.896, total=   3.1s\n",
      "[CV] bootstrap=True, max_depth=30, max_features=20, n_estimators=375, n_jobs=-1 \n",
      "[CV]  bootstrap=True, max_depth=30, max_features=20, n_estimators=375, n_jobs=-1, score=0.897, total=   3.2s\n",
      "[CV] bootstrap=True, max_depth=30, max_features=25, n_estimators=375, n_jobs=-1 \n",
      "[CV]  bootstrap=True, max_depth=30, max_features=25, n_estimators=375, n_jobs=-1, score=0.899, total=   4.4s\n",
      "[CV] bootstrap=True, max_depth=30, max_features=25, n_estimators=375, n_jobs=-1 \n",
      "[CV]  bootstrap=True, max_depth=30, max_features=25, n_estimators=375, n_jobs=-1, score=0.897, total=   4.0s\n",
      "[CV] bootstrap=True, max_depth=30, max_features=25, n_estimators=375, n_jobs=-1 \n",
      "[CV]  bootstrap=True, max_depth=30, max_features=25, n_estimators=375, n_jobs=-1, score=0.894, total=   4.1s\n",
      "[CV] bootstrap=True, max_depth=30, max_features=30, n_estimators=375, n_jobs=-1 \n",
      "[CV]  bootstrap=True, max_depth=30, max_features=30, n_estimators=375, n_jobs=-1, score=0.897, total=   5.2s\n",
      "[CV] bootstrap=True, max_depth=30, max_features=30, n_estimators=375, n_jobs=-1 \n",
      "[CV]  bootstrap=True, max_depth=30, max_features=30, n_estimators=375, n_jobs=-1, score=0.892, total=   4.6s\n",
      "[CV] bootstrap=True, max_depth=30, max_features=30, n_estimators=375, n_jobs=-1 \n",
      "[CV]  bootstrap=True, max_depth=30, max_features=30, n_estimators=375, n_jobs=-1, score=0.895, total=   5.3s\n",
      "[CV] bootstrap=True, max_depth=30, max_features=auto, n_estimators=375, n_jobs=-1 \n",
      "[CV]  bootstrap=True, max_depth=30, max_features=auto, n_estimators=375, n_jobs=-1, score=0.897, total=   1.1s\n",
      "[CV] bootstrap=True, max_depth=30, max_features=auto, n_estimators=375, n_jobs=-1 \n",
      "[CV]  bootstrap=True, max_depth=30, max_features=auto, n_estimators=375, n_jobs=-1, score=0.902, total=   1.2s\n",
      "[CV] bootstrap=True, max_depth=30, max_features=auto, n_estimators=375, n_jobs=-1 \n",
      "[CV]  bootstrap=True, max_depth=30, max_features=auto, n_estimators=375, n_jobs=-1, score=0.893, total=   1.1s\n",
      "[CV] bootstrap=True, max_depth=30, max_features=log2, n_estimators=375, n_jobs=-1 \n",
      "[CV]  bootstrap=True, max_depth=30, max_features=log2, n_estimators=375, n_jobs=-1, score=0.895, total=   1.0s\n",
      "[CV] bootstrap=True, max_depth=30, max_features=log2, n_estimators=375, n_jobs=-1 \n",
      "[CV]  bootstrap=True, max_depth=30, max_features=log2, n_estimators=375, n_jobs=-1, score=0.899, total=   1.0s\n",
      "[CV] bootstrap=True, max_depth=30, max_features=log2, n_estimators=375, n_jobs=-1 \n",
      "[CV]  bootstrap=True, max_depth=30, max_features=log2, n_estimators=375, n_jobs=-1, score=0.894, total=   1.0s\n",
      "[CV] bootstrap=True, max_depth=40, max_features=10, n_estimators=375, n_jobs=-1 \n",
      "[CV]  bootstrap=True, max_depth=40, max_features=10, n_estimators=375, n_jobs=-1, score=0.900, total=   1.8s\n",
      "[CV] bootstrap=True, max_depth=40, max_features=10, n_estimators=375, n_jobs=-1 \n",
      "[CV]  bootstrap=True, max_depth=40, max_features=10, n_estimators=375, n_jobs=-1, score=0.900, total=   1.7s\n",
      "[CV] bootstrap=True, max_depth=40, max_features=10, n_estimators=375, n_jobs=-1 \n",
      "[CV]  bootstrap=True, max_depth=40, max_features=10, n_estimators=375, n_jobs=-1, score=0.896, total=   1.9s\n",
      "[CV] bootstrap=True, max_depth=40, max_features=15, n_estimators=375, n_jobs=-1 \n"
     ]
    },
    {
     "name": "stdout",
     "output_type": "stream",
     "text": [
      "[CV]  bootstrap=True, max_depth=40, max_features=15, n_estimators=375, n_jobs=-1, score=0.899, total=   2.5s\n",
      "[CV] bootstrap=True, max_depth=40, max_features=15, n_estimators=375, n_jobs=-1 \n",
      "[CV]  bootstrap=True, max_depth=40, max_features=15, n_estimators=375, n_jobs=-1, score=0.899, total=   2.5s\n",
      "[CV] bootstrap=True, max_depth=40, max_features=15, n_estimators=375, n_jobs=-1 \n",
      "[CV]  bootstrap=True, max_depth=40, max_features=15, n_estimators=375, n_jobs=-1, score=0.893, total=   2.5s\n",
      "[CV] bootstrap=True, max_depth=40, max_features=20, n_estimators=375, n_jobs=-1 \n",
      "[CV]  bootstrap=True, max_depth=40, max_features=20, n_estimators=375, n_jobs=-1, score=0.899, total=   3.3s\n",
      "[CV] bootstrap=True, max_depth=40, max_features=20, n_estimators=375, n_jobs=-1 \n",
      "[CV]  bootstrap=True, max_depth=40, max_features=20, n_estimators=375, n_jobs=-1, score=0.900, total=   3.3s\n",
      "[CV] bootstrap=True, max_depth=40, max_features=20, n_estimators=375, n_jobs=-1 \n",
      "[CV]  bootstrap=True, max_depth=40, max_features=20, n_estimators=375, n_jobs=-1, score=0.894, total=   3.5s\n",
      "[CV] bootstrap=True, max_depth=40, max_features=25, n_estimators=375, n_jobs=-1 \n",
      "[CV]  bootstrap=True, max_depth=40, max_features=25, n_estimators=375, n_jobs=-1, score=0.894, total=   4.2s\n",
      "[CV] bootstrap=True, max_depth=40, max_features=25, n_estimators=375, n_jobs=-1 \n",
      "[CV]  bootstrap=True, max_depth=40, max_features=25, n_estimators=375, n_jobs=-1, score=0.896, total=   4.3s\n",
      "[CV] bootstrap=True, max_depth=40, max_features=25, n_estimators=375, n_jobs=-1 \n",
      "[CV]  bootstrap=True, max_depth=40, max_features=25, n_estimators=375, n_jobs=-1, score=0.892, total=   4.4s\n",
      "[CV] bootstrap=True, max_depth=40, max_features=30, n_estimators=375, n_jobs=-1 \n",
      "[CV]  bootstrap=True, max_depth=40, max_features=30, n_estimators=375, n_jobs=-1, score=0.896, total=   4.9s\n",
      "[CV] bootstrap=True, max_depth=40, max_features=30, n_estimators=375, n_jobs=-1 \n",
      "[CV]  bootstrap=True, max_depth=40, max_features=30, n_estimators=375, n_jobs=-1, score=0.896, total=   4.7s\n",
      "[CV] bootstrap=True, max_depth=40, max_features=30, n_estimators=375, n_jobs=-1 \n",
      "[CV]  bootstrap=True, max_depth=40, max_features=30, n_estimators=375, n_jobs=-1, score=0.893, total=   4.8s\n",
      "[CV] bootstrap=True, max_depth=40, max_features=auto, n_estimators=375, n_jobs=-1 \n",
      "[CV]  bootstrap=True, max_depth=40, max_features=auto, n_estimators=375, n_jobs=-1, score=0.894, total=   1.1s\n",
      "[CV] bootstrap=True, max_depth=40, max_features=auto, n_estimators=375, n_jobs=-1 \n",
      "[CV]  bootstrap=True, max_depth=40, max_features=auto, n_estimators=375, n_jobs=-1, score=0.901, total=   1.1s\n",
      "[CV] bootstrap=True, max_depth=40, max_features=auto, n_estimators=375, n_jobs=-1 \n",
      "[CV]  bootstrap=True, max_depth=40, max_features=auto, n_estimators=375, n_jobs=-1, score=0.898, total=   1.1s\n",
      "[CV] bootstrap=True, max_depth=40, max_features=log2, n_estimators=375, n_jobs=-1 \n",
      "[CV]  bootstrap=True, max_depth=40, max_features=log2, n_estimators=375, n_jobs=-1, score=0.895, total=   1.0s\n",
      "[CV] bootstrap=True, max_depth=40, max_features=log2, n_estimators=375, n_jobs=-1 \n",
      "[CV]  bootstrap=True, max_depth=40, max_features=log2, n_estimators=375, n_jobs=-1, score=0.899, total=   1.0s\n",
      "[CV] bootstrap=True, max_depth=40, max_features=log2, n_estimators=375, n_jobs=-1 \n",
      "[CV]  bootstrap=True, max_depth=40, max_features=log2, n_estimators=375, n_jobs=-1, score=0.891, total=   1.0s\n",
      "[CV] bootstrap=True, max_depth=50, max_features=10, n_estimators=375, n_jobs=-1 \n",
      "[CV]  bootstrap=True, max_depth=50, max_features=10, n_estimators=375, n_jobs=-1, score=0.898, total=   1.8s\n",
      "[CV] bootstrap=True, max_depth=50, max_features=10, n_estimators=375, n_jobs=-1 \n",
      "[CV]  bootstrap=True, max_depth=50, max_features=10, n_estimators=375, n_jobs=-1, score=0.901, total=   1.8s\n",
      "[CV] bootstrap=True, max_depth=50, max_features=10, n_estimators=375, n_jobs=-1 \n",
      "[CV]  bootstrap=True, max_depth=50, max_features=10, n_estimators=375, n_jobs=-1, score=0.897, total=   1.8s\n",
      "[CV] bootstrap=True, max_depth=50, max_features=15, n_estimators=375, n_jobs=-1 \n",
      "[CV]  bootstrap=True, max_depth=50, max_features=15, n_estimators=375, n_jobs=-1, score=0.899, total=   2.6s\n",
      "[CV] bootstrap=True, max_depth=50, max_features=15, n_estimators=375, n_jobs=-1 \n",
      "[CV]  bootstrap=True, max_depth=50, max_features=15, n_estimators=375, n_jobs=-1, score=0.897, total=   2.5s\n",
      "[CV] bootstrap=True, max_depth=50, max_features=15, n_estimators=375, n_jobs=-1 \n",
      "[CV]  bootstrap=True, max_depth=50, max_features=15, n_estimators=375, n_jobs=-1, score=0.896, total=   2.6s\n",
      "[CV] bootstrap=True, max_depth=50, max_features=20, n_estimators=375, n_jobs=-1 \n",
      "[CV]  bootstrap=True, max_depth=50, max_features=20, n_estimators=375, n_jobs=-1, score=0.897, total=   3.2s\n",
      "[CV] bootstrap=True, max_depth=50, max_features=20, n_estimators=375, n_jobs=-1 \n",
      "[CV]  bootstrap=True, max_depth=50, max_features=20, n_estimators=375, n_jobs=-1, score=0.899, total=   3.1s\n",
      "[CV] bootstrap=True, max_depth=50, max_features=20, n_estimators=375, n_jobs=-1 \n",
      "[CV]  bootstrap=True, max_depth=50, max_features=20, n_estimators=375, n_jobs=-1, score=0.895, total=   3.3s\n",
      "[CV] bootstrap=True, max_depth=50, max_features=25, n_estimators=375, n_jobs=-1 \n",
      "[CV]  bootstrap=True, max_depth=50, max_features=25, n_estimators=375, n_jobs=-1, score=0.897, total=   4.0s\n",
      "[CV] bootstrap=True, max_depth=50, max_features=25, n_estimators=375, n_jobs=-1 \n",
      "[CV]  bootstrap=True, max_depth=50, max_features=25, n_estimators=375, n_jobs=-1, score=0.896, total=   4.2s\n",
      "[CV] bootstrap=True, max_depth=50, max_features=25, n_estimators=375, n_jobs=-1 \n",
      "[CV]  bootstrap=True, max_depth=50, max_features=25, n_estimators=375, n_jobs=-1, score=0.894, total=   4.5s\n",
      "[CV] bootstrap=True, max_depth=50, max_features=30, n_estimators=375, n_jobs=-1 \n",
      "[CV]  bootstrap=True, max_depth=50, max_features=30, n_estimators=375, n_jobs=-1, score=0.890, total=   4.7s\n",
      "[CV] bootstrap=True, max_depth=50, max_features=30, n_estimators=375, n_jobs=-1 \n",
      "[CV]  bootstrap=True, max_depth=50, max_features=30, n_estimators=375, n_jobs=-1, score=0.897, total=   4.6s\n",
      "[CV] bootstrap=True, max_depth=50, max_features=30, n_estimators=375, n_jobs=-1 \n",
      "[CV]  bootstrap=True, max_depth=50, max_features=30, n_estimators=375, n_jobs=-1, score=0.892, total=   4.8s\n",
      "[CV] bootstrap=True, max_depth=50, max_features=auto, n_estimators=375, n_jobs=-1 \n",
      "[CV]  bootstrap=True, max_depth=50, max_features=auto, n_estimators=375, n_jobs=-1, score=0.895, total=   1.1s\n",
      "[CV] bootstrap=True, max_depth=50, max_features=auto, n_estimators=375, n_jobs=-1 \n",
      "[CV]  bootstrap=True, max_depth=50, max_features=auto, n_estimators=375, n_jobs=-1, score=0.898, total=   1.1s\n",
      "[CV] bootstrap=True, max_depth=50, max_features=auto, n_estimators=375, n_jobs=-1 \n",
      "[CV]  bootstrap=True, max_depth=50, max_features=auto, n_estimators=375, n_jobs=-1, score=0.897, total=   1.1s\n",
      "[CV] bootstrap=True, max_depth=50, max_features=log2, n_estimators=375, n_jobs=-1 \n",
      "[CV]  bootstrap=True, max_depth=50, max_features=log2, n_estimators=375, n_jobs=-1, score=0.891, total=   1.0s\n",
      "[CV] bootstrap=True, max_depth=50, max_features=log2, n_estimators=375, n_jobs=-1 \n",
      "[CV]  bootstrap=True, max_depth=50, max_features=log2, n_estimators=375, n_jobs=-1, score=0.898, total=   1.0s\n",
      "[CV] bootstrap=True, max_depth=50, max_features=log2, n_estimators=375, n_jobs=-1 \n",
      "[CV]  bootstrap=True, max_depth=50, max_features=log2, n_estimators=375, n_jobs=-1, score=0.893, total=   1.0s\n",
      "[CV] bootstrap=True, max_depth=60, max_features=10, n_estimators=375, n_jobs=-1 \n",
      "[CV]  bootstrap=True, max_depth=60, max_features=10, n_estimators=375, n_jobs=-1, score=0.900, total=   1.9s\n",
      "[CV] bootstrap=True, max_depth=60, max_features=10, n_estimators=375, n_jobs=-1 \n",
      "[CV]  bootstrap=True, max_depth=60, max_features=10, n_estimators=375, n_jobs=-1, score=0.900, total=   1.8s\n",
      "[CV] bootstrap=True, max_depth=60, max_features=10, n_estimators=375, n_jobs=-1 \n",
      "[CV]  bootstrap=True, max_depth=60, max_features=10, n_estimators=375, n_jobs=-1, score=0.897, total=   1.7s\n",
      "[CV] bootstrap=True, max_depth=60, max_features=15, n_estimators=375, n_jobs=-1 \n",
      "[CV]  bootstrap=True, max_depth=60, max_features=15, n_estimators=375, n_jobs=-1, score=0.899, total=   2.5s\n",
      "[CV] bootstrap=True, max_depth=60, max_features=15, n_estimators=375, n_jobs=-1 \n"
     ]
    },
    {
     "name": "stdout",
     "output_type": "stream",
     "text": [
      "[CV]  bootstrap=True, max_depth=60, max_features=15, n_estimators=375, n_jobs=-1, score=0.899, total=   2.5s\n",
      "[CV] bootstrap=True, max_depth=60, max_features=15, n_estimators=375, n_jobs=-1 \n",
      "[CV]  bootstrap=True, max_depth=60, max_features=15, n_estimators=375, n_jobs=-1, score=0.893, total=   2.5s\n",
      "[CV] bootstrap=True, max_depth=60, max_features=20, n_estimators=375, n_jobs=-1 \n",
      "[CV]  bootstrap=True, max_depth=60, max_features=20, n_estimators=375, n_jobs=-1, score=0.897, total=   3.2s\n",
      "[CV] bootstrap=True, max_depth=60, max_features=20, n_estimators=375, n_jobs=-1 \n",
      "[CV]  bootstrap=True, max_depth=60, max_features=20, n_estimators=375, n_jobs=-1, score=0.898, total=   3.2s\n",
      "[CV] bootstrap=True, max_depth=60, max_features=20, n_estimators=375, n_jobs=-1 \n",
      "[CV]  bootstrap=True, max_depth=60, max_features=20, n_estimators=375, n_jobs=-1, score=0.895, total=   3.5s\n",
      "[CV] bootstrap=True, max_depth=60, max_features=25, n_estimators=375, n_jobs=-1 \n",
      "[CV]  bootstrap=True, max_depth=60, max_features=25, n_estimators=375, n_jobs=-1, score=0.896, total=   4.5s\n",
      "[CV] bootstrap=True, max_depth=60, max_features=25, n_estimators=375, n_jobs=-1 \n",
      "[CV]  bootstrap=True, max_depth=60, max_features=25, n_estimators=375, n_jobs=-1, score=0.897, total=   4.2s\n",
      "[CV] bootstrap=True, max_depth=60, max_features=25, n_estimators=375, n_jobs=-1 \n",
      "[CV]  bootstrap=True, max_depth=60, max_features=25, n_estimators=375, n_jobs=-1, score=0.894, total=   4.6s\n",
      "[CV] bootstrap=True, max_depth=60, max_features=30, n_estimators=375, n_jobs=-1 \n",
      "[CV]  bootstrap=True, max_depth=60, max_features=30, n_estimators=375, n_jobs=-1, score=0.896, total=   5.3s\n",
      "[CV] bootstrap=True, max_depth=60, max_features=30, n_estimators=375, n_jobs=-1 \n",
      "[CV]  bootstrap=True, max_depth=60, max_features=30, n_estimators=375, n_jobs=-1, score=0.897, total=   4.6s\n",
      "[CV] bootstrap=True, max_depth=60, max_features=30, n_estimators=375, n_jobs=-1 \n",
      "[CV]  bootstrap=True, max_depth=60, max_features=30, n_estimators=375, n_jobs=-1, score=0.891, total=   4.9s\n",
      "[CV] bootstrap=True, max_depth=60, max_features=auto, n_estimators=375, n_jobs=-1 \n",
      "[CV]  bootstrap=True, max_depth=60, max_features=auto, n_estimators=375, n_jobs=-1, score=0.899, total=   1.3s\n",
      "[CV] bootstrap=True, max_depth=60, max_features=auto, n_estimators=375, n_jobs=-1 \n",
      "[CV]  bootstrap=True, max_depth=60, max_features=auto, n_estimators=375, n_jobs=-1, score=0.897, total=   1.2s\n",
      "[CV] bootstrap=True, max_depth=60, max_features=auto, n_estimators=375, n_jobs=-1 \n",
      "[CV]  bootstrap=True, max_depth=60, max_features=auto, n_estimators=375, n_jobs=-1, score=0.894, total=   1.1s\n",
      "[CV] bootstrap=True, max_depth=60, max_features=log2, n_estimators=375, n_jobs=-1 \n",
      "[CV]  bootstrap=True, max_depth=60, max_features=log2, n_estimators=375, n_jobs=-1, score=0.891, total=   1.0s\n",
      "[CV] bootstrap=True, max_depth=60, max_features=log2, n_estimators=375, n_jobs=-1 \n",
      "[CV]  bootstrap=True, max_depth=60, max_features=log2, n_estimators=375, n_jobs=-1, score=0.896, total=   1.0s\n",
      "[CV] bootstrap=True, max_depth=60, max_features=log2, n_estimators=375, n_jobs=-1 \n",
      "[CV]  bootstrap=True, max_depth=60, max_features=log2, n_estimators=375, n_jobs=-1, score=0.892, total=   1.0s\n",
      "[CV] bootstrap=True, max_depth=70, max_features=10, n_estimators=375, n_jobs=-1 \n",
      "[CV]  bootstrap=True, max_depth=70, max_features=10, n_estimators=375, n_jobs=-1, score=0.899, total=   1.8s\n",
      "[CV] bootstrap=True, max_depth=70, max_features=10, n_estimators=375, n_jobs=-1 \n",
      "[CV]  bootstrap=True, max_depth=70, max_features=10, n_estimators=375, n_jobs=-1, score=0.903, total=   2.1s\n",
      "[CV] bootstrap=True, max_depth=70, max_features=10, n_estimators=375, n_jobs=-1 \n",
      "[CV]  bootstrap=True, max_depth=70, max_features=10, n_estimators=375, n_jobs=-1, score=0.894, total=   2.0s\n",
      "[CV] bootstrap=True, max_depth=70, max_features=15, n_estimators=375, n_jobs=-1 \n",
      "[CV]  bootstrap=True, max_depth=70, max_features=15, n_estimators=375, n_jobs=-1, score=0.899, total=   2.6s\n",
      "[CV] bootstrap=True, max_depth=70, max_features=15, n_estimators=375, n_jobs=-1 \n",
      "[CV]  bootstrap=True, max_depth=70, max_features=15, n_estimators=375, n_jobs=-1, score=0.900, total=   2.4s\n",
      "[CV] bootstrap=True, max_depth=70, max_features=15, n_estimators=375, n_jobs=-1 \n",
      "[CV]  bootstrap=True, max_depth=70, max_features=15, n_estimators=375, n_jobs=-1, score=0.895, total=   2.4s\n",
      "[CV] bootstrap=True, max_depth=70, max_features=20, n_estimators=375, n_jobs=-1 \n",
      "[CV]  bootstrap=True, max_depth=70, max_features=20, n_estimators=375, n_jobs=-1, score=0.898, total=   3.5s\n",
      "[CV] bootstrap=True, max_depth=70, max_features=20, n_estimators=375, n_jobs=-1 \n",
      "[CV]  bootstrap=True, max_depth=70, max_features=20, n_estimators=375, n_jobs=-1, score=0.897, total=   3.4s\n",
      "[CV] bootstrap=True, max_depth=70, max_features=20, n_estimators=375, n_jobs=-1 \n",
      "[CV]  bootstrap=True, max_depth=70, max_features=20, n_estimators=375, n_jobs=-1, score=0.894, total=   3.3s\n",
      "[CV] bootstrap=True, max_depth=70, max_features=25, n_estimators=375, n_jobs=-1 \n",
      "[CV]  bootstrap=True, max_depth=70, max_features=25, n_estimators=375, n_jobs=-1, score=0.898, total=   4.0s\n",
      "[CV] bootstrap=True, max_depth=70, max_features=25, n_estimators=375, n_jobs=-1 \n",
      "[CV]  bootstrap=True, max_depth=70, max_features=25, n_estimators=375, n_jobs=-1, score=0.894, total=   4.1s\n",
      "[CV] bootstrap=True, max_depth=70, max_features=25, n_estimators=375, n_jobs=-1 \n",
      "[CV]  bootstrap=True, max_depth=70, max_features=25, n_estimators=375, n_jobs=-1, score=0.898, total=   4.2s\n",
      "[CV] bootstrap=True, max_depth=70, max_features=30, n_estimators=375, n_jobs=-1 \n",
      "[CV]  bootstrap=True, max_depth=70, max_features=30, n_estimators=375, n_jobs=-1, score=0.896, total=   4.9s\n",
      "[CV] bootstrap=True, max_depth=70, max_features=30, n_estimators=375, n_jobs=-1 \n",
      "[CV]  bootstrap=True, max_depth=70, max_features=30, n_estimators=375, n_jobs=-1, score=0.895, total=   4.8s\n",
      "[CV] bootstrap=True, max_depth=70, max_features=30, n_estimators=375, n_jobs=-1 \n",
      "[CV]  bootstrap=True, max_depth=70, max_features=30, n_estimators=375, n_jobs=-1, score=0.890, total=   4.9s\n",
      "[CV] bootstrap=True, max_depth=70, max_features=auto, n_estimators=375, n_jobs=-1 \n",
      "[CV]  bootstrap=True, max_depth=70, max_features=auto, n_estimators=375, n_jobs=-1, score=0.897, total=   1.2s\n",
      "[CV] bootstrap=True, max_depth=70, max_features=auto, n_estimators=375, n_jobs=-1 \n",
      "[CV]  bootstrap=True, max_depth=70, max_features=auto, n_estimators=375, n_jobs=-1, score=0.899, total=   1.3s\n",
      "[CV] bootstrap=True, max_depth=70, max_features=auto, n_estimators=375, n_jobs=-1 \n",
      "[CV]  bootstrap=True, max_depth=70, max_features=auto, n_estimators=375, n_jobs=-1, score=0.892, total=   1.3s\n",
      "[CV] bootstrap=True, max_depth=70, max_features=log2, n_estimators=375, n_jobs=-1 \n",
      "[CV]  bootstrap=True, max_depth=70, max_features=log2, n_estimators=375, n_jobs=-1, score=0.893, total=   1.1s\n",
      "[CV] bootstrap=True, max_depth=70, max_features=log2, n_estimators=375, n_jobs=-1 \n",
      "[CV]  bootstrap=True, max_depth=70, max_features=log2, n_estimators=375, n_jobs=-1, score=0.897, total=   1.1s\n",
      "[CV] bootstrap=True, max_depth=70, max_features=log2, n_estimators=375, n_jobs=-1 \n",
      "[CV]  bootstrap=True, max_depth=70, max_features=log2, n_estimators=375, n_jobs=-1, score=0.893, total=   1.1s\n",
      "[CV] bootstrap=True, max_depth=None, max_features=10, n_estimators=375, n_jobs=-1 \n",
      "[CV]  bootstrap=True, max_depth=None, max_features=10, n_estimators=375, n_jobs=-1, score=0.899, total=   2.0s\n",
      "[CV] bootstrap=True, max_depth=None, max_features=10, n_estimators=375, n_jobs=-1 \n",
      "[CV]  bootstrap=True, max_depth=None, max_features=10, n_estimators=375, n_jobs=-1, score=0.900, total=   2.0s\n",
      "[CV] bootstrap=True, max_depth=None, max_features=10, n_estimators=375, n_jobs=-1 \n",
      "[CV]  bootstrap=True, max_depth=None, max_features=10, n_estimators=375, n_jobs=-1, score=0.896, total=   1.8s\n",
      "[CV] bootstrap=True, max_depth=None, max_features=15, n_estimators=375, n_jobs=-1 \n",
      "[CV]  bootstrap=True, max_depth=None, max_features=15, n_estimators=375, n_jobs=-1, score=0.897, total=   2.5s\n",
      "[CV] bootstrap=True, max_depth=None, max_features=15, n_estimators=375, n_jobs=-1 \n",
      "[CV]  bootstrap=True, max_depth=None, max_features=15, n_estimators=375, n_jobs=-1, score=0.899, total=   2.4s\n",
      "[CV] bootstrap=True, max_depth=None, max_features=15, n_estimators=375, n_jobs=-1 \n"
     ]
    },
    {
     "name": "stdout",
     "output_type": "stream",
     "text": [
      "[CV]  bootstrap=True, max_depth=None, max_features=15, n_estimators=375, n_jobs=-1, score=0.895, total=   2.5s\n",
      "[CV] bootstrap=True, max_depth=None, max_features=20, n_estimators=375, n_jobs=-1 \n",
      "[CV]  bootstrap=True, max_depth=None, max_features=20, n_estimators=375, n_jobs=-1, score=0.899, total=   3.2s\n",
      "[CV] bootstrap=True, max_depth=None, max_features=20, n_estimators=375, n_jobs=-1 \n",
      "[CV]  bootstrap=True, max_depth=None, max_features=20, n_estimators=375, n_jobs=-1, score=0.898, total=   3.1s\n",
      "[CV] bootstrap=True, max_depth=None, max_features=20, n_estimators=375, n_jobs=-1 \n",
      "[CV]  bootstrap=True, max_depth=None, max_features=20, n_estimators=375, n_jobs=-1, score=0.896, total=   3.3s\n",
      "[CV] bootstrap=True, max_depth=None, max_features=25, n_estimators=375, n_jobs=-1 \n",
      "[CV]  bootstrap=True, max_depth=None, max_features=25, n_estimators=375, n_jobs=-1, score=0.895, total=   4.1s\n",
      "[CV] bootstrap=True, max_depth=None, max_features=25, n_estimators=375, n_jobs=-1 \n",
      "[CV]  bootstrap=True, max_depth=None, max_features=25, n_estimators=375, n_jobs=-1, score=0.895, total=   4.0s\n",
      "[CV] bootstrap=True, max_depth=None, max_features=25, n_estimators=375, n_jobs=-1 \n",
      "[CV]  bootstrap=True, max_depth=None, max_features=25, n_estimators=375, n_jobs=-1, score=0.893, total=   4.4s\n",
      "[CV] bootstrap=True, max_depth=None, max_features=30, n_estimators=375, n_jobs=-1 \n",
      "[CV]  bootstrap=True, max_depth=None, max_features=30, n_estimators=375, n_jobs=-1, score=0.896, total=   5.3s\n",
      "[CV] bootstrap=True, max_depth=None, max_features=30, n_estimators=375, n_jobs=-1 \n",
      "[CV]  bootstrap=True, max_depth=None, max_features=30, n_estimators=375, n_jobs=-1, score=0.894, total=   5.0s\n",
      "[CV] bootstrap=True, max_depth=None, max_features=30, n_estimators=375, n_jobs=-1 \n",
      "[CV]  bootstrap=True, max_depth=None, max_features=30, n_estimators=375, n_jobs=-1, score=0.891, total=   4.8s\n",
      "[CV] bootstrap=True, max_depth=None, max_features=auto, n_estimators=375, n_jobs=-1 \n",
      "[CV]  bootstrap=True, max_depth=None, max_features=auto, n_estimators=375, n_jobs=-1, score=0.895, total=   1.1s\n",
      "[CV] bootstrap=True, max_depth=None, max_features=auto, n_estimators=375, n_jobs=-1 \n",
      "[CV]  bootstrap=True, max_depth=None, max_features=auto, n_estimators=375, n_jobs=-1, score=0.897, total=   1.1s\n",
      "[CV] bootstrap=True, max_depth=None, max_features=auto, n_estimators=375, n_jobs=-1 \n",
      "[CV]  bootstrap=True, max_depth=None, max_features=auto, n_estimators=375, n_jobs=-1, score=0.894, total=   1.2s\n",
      "[CV] bootstrap=True, max_depth=None, max_features=log2, n_estimators=375, n_jobs=-1 \n",
      "[CV]  bootstrap=True, max_depth=None, max_features=log2, n_estimators=375, n_jobs=-1, score=0.896, total=   1.1s\n",
      "[CV] bootstrap=True, max_depth=None, max_features=log2, n_estimators=375, n_jobs=-1 \n",
      "[CV]  bootstrap=True, max_depth=None, max_features=log2, n_estimators=375, n_jobs=-1, score=0.900, total=   1.1s\n",
      "[CV] bootstrap=True, max_depth=None, max_features=log2, n_estimators=375, n_jobs=-1 \n",
      "[CV]  bootstrap=True, max_depth=None, max_features=log2, n_estimators=375, n_jobs=-1, score=0.893, total=   1.0s\n"
     ]
    },
    {
     "name": "stderr",
     "output_type": "stream",
     "text": [
      "[Parallel(n_jobs=1)]: Done 147 out of 147 | elapsed:  6.6min finished\n"
     ]
    },
    {
     "data": {
      "text/plain": [
       "GridSearchCV(cv='warn', error_score='raise-deprecating',\n",
       "             estimator=RandomForestClassifier(bootstrap=True, class_weight=None,\n",
       "                                              criterion='gini', max_depth=60,\n",
       "                                              max_features=25,\n",
       "                                              max_leaf_nodes=None,\n",
       "                                              min_impurity_decrease=0.0,\n",
       "                                              min_impurity_split=None,\n",
       "                                              min_samples_leaf=1,\n",
       "                                              min_samples_split=2,\n",
       "                                              min_weight_fraction_leaf=0.0,\n",
       "                                              n_estimators=375, n_jobs=None,\n",
       "                                              oob_score=False,\n",
       "                                              random_state=None, verbose=0,\n",
       "                                              warm_start=False),\n",
       "             iid='warn', n_jobs=None,\n",
       "             param_grid={'bootstrap': [True],\n",
       "                         'max_depth': [20, 30, 40, 50, 60, 70, None],\n",
       "                         'max_features': [10, 15, 20, 25, 30, 'auto', 'log2'],\n",
       "                         'n_estimators': [375], 'n_jobs': [-1]},\n",
       "             pre_dispatch='2*n_jobs', refit=True, return_train_score=False,\n",
       "             scoring=None, verbose=3)"
      ]
     },
     "execution_count": 60,
     "metadata": {},
     "output_type": "execute_result"
    }
   ],
   "source": [
    "grid.fit(x_train, y_train)"
   ]
  },
  {
   "cell_type": "code",
   "execution_count": 61,
   "metadata": {},
   "outputs": [
    {
     "data": {
      "text/plain": [
       "{'bootstrap': True,\n",
       " 'max_depth': 20,\n",
       " 'max_features': 10,\n",
       " 'n_estimators': 375,\n",
       " 'n_jobs': -1}"
      ]
     },
     "execution_count": 61,
     "metadata": {},
     "output_type": "execute_result"
    }
   ],
   "source": [
    "best_parameters2 = grid.best_params_\n",
    "best_parameters2"
   ]
  },
  {
   "cell_type": "code",
   "execution_count": 62,
   "metadata": {},
   "outputs": [],
   "source": [
    "model4 = RandomForestClassifier(bootstrap=True, max_depth=20, max_features=10, n_estimators=375)"
   ]
  },
  {
   "cell_type": "code",
   "execution_count": 63,
   "metadata": {},
   "outputs": [
    {
     "data": {
      "text/plain": [
       "RandomForestClassifier(bootstrap=True, class_weight=None, criterion='gini',\n",
       "                       max_depth=20, max_features=10, max_leaf_nodes=None,\n",
       "                       min_impurity_decrease=0.0, min_impurity_split=None,\n",
       "                       min_samples_leaf=1, min_samples_split=2,\n",
       "                       min_weight_fraction_leaf=0.0, n_estimators=375,\n",
       "                       n_jobs=None, oob_score=False, random_state=None,\n",
       "                       verbose=0, warm_start=False)"
      ]
     },
     "execution_count": 63,
     "metadata": {},
     "output_type": "execute_result"
    }
   ],
   "source": [
    "model4.fit(x_train, y_train)"
   ]
  },
  {
   "cell_type": "code",
   "execution_count": 64,
   "metadata": {},
   "outputs": [
    {
     "data": {
      "text/plain": [
       "0.9"
      ]
     },
     "execution_count": 64,
     "metadata": {},
     "output_type": "execute_result"
    }
   ],
   "source": [
    "#testing score went down by just under half percent (0.004)\n",
    "#don't see the score increasing from here\n",
    "model4.score(x_test, y_test)"
   ]
  },
  {
   "cell_type": "code",
   "execution_count": 65,
   "metadata": {},
   "outputs": [
    {
     "data": {
      "text/plain": [
       "0.9928469241773963"
      ]
     },
     "execution_count": 65,
     "metadata": {},
     "output_type": "execute_result"
    }
   ],
   "source": [
    "model4.score(x_train, y_train)"
   ]
  },
  {
   "cell_type": "code",
   "execution_count": 66,
   "metadata": {},
   "outputs": [
    {
     "data": {
      "text/plain": [
       "['random_forest.sav']"
      ]
     },
     "execution_count": 66,
     "metadata": {},
     "output_type": "execute_result"
    }
   ],
   "source": [
    "file = 'random_forest.sav'\n",
    "joblib.dump(model3, file)"
   ]
  },
  {
   "cell_type": "code",
   "execution_count": null,
   "metadata": {},
   "outputs": [],
   "source": []
  }
 ],
 "metadata": {
  "kernelspec": {
   "display_name": "Python 3",
   "language": "python",
   "name": "python3"
  },
  "language_info": {
   "codemirror_mode": {
    "name": "ipython",
    "version": 3
   },
   "file_extension": ".py",
   "mimetype": "text/x-python",
   "name": "python",
   "nbconvert_exporter": "python",
   "pygments_lexer": "ipython3",
   "version": "3.7.3"
  }
 },
 "nbformat": 4,
 "nbformat_minor": 2
}
