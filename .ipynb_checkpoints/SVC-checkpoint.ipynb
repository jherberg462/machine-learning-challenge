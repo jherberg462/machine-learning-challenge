{
 "cells": [
  {
   "cell_type": "code",
   "execution_count": 1,
   "metadata": {},
   "outputs": [],
   "source": [
    "import pandas as pd\n",
    "import numpy as np\n",
    "import joblib\n",
    "from sklearn.model_selection import train_test_split, GridSearchCV\n",
    "from sklearn.preprocessing import StandardScaler, LabelEncoder\n",
    "from sklearn.svm import SVC \n",
    "import warnings\n",
    "warnings.simplefilter('ignore')\n",
    "import joblib\n",
    "import matplotlib.pyplot as plt\n"
   ]
  },
  {
   "cell_type": "code",
   "execution_count": 2,
   "metadata": {},
   "outputs": [],
   "source": [
    "#read in csv file with cleaned data\n",
    "df = pd.read_csv('data_clean.csv')"
   ]
  },
  {
   "cell_type": "code",
   "execution_count": 3,
   "metadata": {},
   "outputs": [
    {
     "data": {
      "text/html": [
       "<div>\n",
       "<style scoped>\n",
       "    .dataframe tbody tr th:only-of-type {\n",
       "        vertical-align: middle;\n",
       "    }\n",
       "\n",
       "    .dataframe tbody tr th {\n",
       "        vertical-align: top;\n",
       "    }\n",
       "\n",
       "    .dataframe thead th {\n",
       "        text-align: right;\n",
       "    }\n",
       "</style>\n",
       "<table border=\"1\" class=\"dataframe\">\n",
       "  <thead>\n",
       "    <tr style=\"text-align: right;\">\n",
       "      <th></th>\n",
       "      <th>Unnamed: 0</th>\n",
       "      <th>koi_disposition</th>\n",
       "      <th>koi_fpflag_nt</th>\n",
       "      <th>koi_fpflag_ss</th>\n",
       "      <th>koi_fpflag_co</th>\n",
       "      <th>koi_fpflag_ec</th>\n",
       "      <th>koi_period</th>\n",
       "      <th>koi_period_err1</th>\n",
       "      <th>koi_period_err2</th>\n",
       "      <th>koi_time0bk</th>\n",
       "      <th>...</th>\n",
       "      <th>koi_steff_err2</th>\n",
       "      <th>koi_slogg</th>\n",
       "      <th>koi_slogg_err1</th>\n",
       "      <th>koi_slogg_err2</th>\n",
       "      <th>koi_srad</th>\n",
       "      <th>koi_srad_err1</th>\n",
       "      <th>koi_srad_err2</th>\n",
       "      <th>ra</th>\n",
       "      <th>dec</th>\n",
       "      <th>koi_kepmag</th>\n",
       "    </tr>\n",
       "  </thead>\n",
       "  <tbody>\n",
       "    <tr>\n",
       "      <th>0</th>\n",
       "      <td>0</td>\n",
       "      <td>CONFIRMED</td>\n",
       "      <td>0</td>\n",
       "      <td>0</td>\n",
       "      <td>0</td>\n",
       "      <td>0</td>\n",
       "      <td>54.418383</td>\n",
       "      <td>2.479000e-04</td>\n",
       "      <td>-2.479000e-04</td>\n",
       "      <td>162.513840</td>\n",
       "      <td>...</td>\n",
       "      <td>-81</td>\n",
       "      <td>4.467</td>\n",
       "      <td>0.064</td>\n",
       "      <td>-0.096</td>\n",
       "      <td>0.927</td>\n",
       "      <td>0.105</td>\n",
       "      <td>-0.061</td>\n",
       "      <td>291.93423</td>\n",
       "      <td>48.141651</td>\n",
       "      <td>15.347</td>\n",
       "    </tr>\n",
       "    <tr>\n",
       "      <th>1</th>\n",
       "      <td>1</td>\n",
       "      <td>FALSE POSITIVE</td>\n",
       "      <td>0</td>\n",
       "      <td>1</td>\n",
       "      <td>0</td>\n",
       "      <td>0</td>\n",
       "      <td>19.899140</td>\n",
       "      <td>1.490000e-05</td>\n",
       "      <td>-1.490000e-05</td>\n",
       "      <td>175.850252</td>\n",
       "      <td>...</td>\n",
       "      <td>-176</td>\n",
       "      <td>4.544</td>\n",
       "      <td>0.044</td>\n",
       "      <td>-0.176</td>\n",
       "      <td>0.868</td>\n",
       "      <td>0.233</td>\n",
       "      <td>-0.078</td>\n",
       "      <td>297.00482</td>\n",
       "      <td>48.134129</td>\n",
       "      <td>15.436</td>\n",
       "    </tr>\n",
       "    <tr>\n",
       "      <th>2</th>\n",
       "      <td>2</td>\n",
       "      <td>FALSE POSITIVE</td>\n",
       "      <td>0</td>\n",
       "      <td>1</td>\n",
       "      <td>0</td>\n",
       "      <td>0</td>\n",
       "      <td>1.736952</td>\n",
       "      <td>2.630000e-07</td>\n",
       "      <td>-2.630000e-07</td>\n",
       "      <td>170.307565</td>\n",
       "      <td>...</td>\n",
       "      <td>-174</td>\n",
       "      <td>4.564</td>\n",
       "      <td>0.053</td>\n",
       "      <td>-0.168</td>\n",
       "      <td>0.791</td>\n",
       "      <td>0.201</td>\n",
       "      <td>-0.067</td>\n",
       "      <td>285.53461</td>\n",
       "      <td>48.285210</td>\n",
       "      <td>15.597</td>\n",
       "    </tr>\n",
       "    <tr>\n",
       "      <th>3</th>\n",
       "      <td>3</td>\n",
       "      <td>CONFIRMED</td>\n",
       "      <td>0</td>\n",
       "      <td>0</td>\n",
       "      <td>0</td>\n",
       "      <td>0</td>\n",
       "      <td>2.525592</td>\n",
       "      <td>3.760000e-06</td>\n",
       "      <td>-3.760000e-06</td>\n",
       "      <td>171.595550</td>\n",
       "      <td>...</td>\n",
       "      <td>-211</td>\n",
       "      <td>4.438</td>\n",
       "      <td>0.070</td>\n",
       "      <td>-0.210</td>\n",
       "      <td>1.046</td>\n",
       "      <td>0.334</td>\n",
       "      <td>-0.133</td>\n",
       "      <td>288.75488</td>\n",
       "      <td>48.226200</td>\n",
       "      <td>15.509</td>\n",
       "    </tr>\n",
       "    <tr>\n",
       "      <th>4</th>\n",
       "      <td>4</td>\n",
       "      <td>CONFIRMED</td>\n",
       "      <td>0</td>\n",
       "      <td>0</td>\n",
       "      <td>0</td>\n",
       "      <td>0</td>\n",
       "      <td>4.134435</td>\n",
       "      <td>1.050000e-05</td>\n",
       "      <td>-1.050000e-05</td>\n",
       "      <td>172.979370</td>\n",
       "      <td>...</td>\n",
       "      <td>-232</td>\n",
       "      <td>4.486</td>\n",
       "      <td>0.054</td>\n",
       "      <td>-0.229</td>\n",
       "      <td>0.972</td>\n",
       "      <td>0.315</td>\n",
       "      <td>-0.105</td>\n",
       "      <td>296.28613</td>\n",
       "      <td>48.224670</td>\n",
       "      <td>15.714</td>\n",
       "    </tr>\n",
       "  </tbody>\n",
       "</table>\n",
       "<p>5 rows × 42 columns</p>\n",
       "</div>"
      ],
      "text/plain": [
       "   Unnamed: 0 koi_disposition  koi_fpflag_nt  koi_fpflag_ss  koi_fpflag_co  \\\n",
       "0           0       CONFIRMED              0              0              0   \n",
       "1           1  FALSE POSITIVE              0              1              0   \n",
       "2           2  FALSE POSITIVE              0              1              0   \n",
       "3           3       CONFIRMED              0              0              0   \n",
       "4           4       CONFIRMED              0              0              0   \n",
       "\n",
       "   koi_fpflag_ec  koi_period  koi_period_err1  koi_period_err2  koi_time0bk  \\\n",
       "0              0   54.418383     2.479000e-04    -2.479000e-04   162.513840   \n",
       "1              0   19.899140     1.490000e-05    -1.490000e-05   175.850252   \n",
       "2              0    1.736952     2.630000e-07    -2.630000e-07   170.307565   \n",
       "3              0    2.525592     3.760000e-06    -3.760000e-06   171.595550   \n",
       "4              0    4.134435     1.050000e-05    -1.050000e-05   172.979370   \n",
       "\n",
       "   ...  koi_steff_err2  koi_slogg  koi_slogg_err1  koi_slogg_err2  koi_srad  \\\n",
       "0  ...             -81      4.467           0.064          -0.096     0.927   \n",
       "1  ...            -176      4.544           0.044          -0.176     0.868   \n",
       "2  ...            -174      4.564           0.053          -0.168     0.791   \n",
       "3  ...            -211      4.438           0.070          -0.210     1.046   \n",
       "4  ...            -232      4.486           0.054          -0.229     0.972   \n",
       "\n",
       "   koi_srad_err1  koi_srad_err2         ra        dec  koi_kepmag  \n",
       "0          0.105         -0.061  291.93423  48.141651      15.347  \n",
       "1          0.233         -0.078  297.00482  48.134129      15.436  \n",
       "2          0.201         -0.067  285.53461  48.285210      15.597  \n",
       "3          0.334         -0.133  288.75488  48.226200      15.509  \n",
       "4          0.315         -0.105  296.28613  48.224670      15.714  \n",
       "\n",
       "[5 rows x 42 columns]"
      ]
     },
     "execution_count": 3,
     "metadata": {},
     "output_type": "execute_result"
    }
   ],
   "source": [
    "df.head()"
   ]
  },
  {
   "cell_type": "code",
   "execution_count": 4,
   "metadata": {},
   "outputs": [],
   "source": [
    "df = df.drop(columns=['Unnamed: 0'])\n",
    "#the index should not have been saved when saving the csv file"
   ]
  },
  {
   "cell_type": "code",
   "execution_count": 5,
   "metadata": {},
   "outputs": [],
   "source": [
    "#this is the y value\n",
    "dfy_ = df['koi_disposition']\n",
    "#reshape\n",
    "dfy_ = dfy_.values.reshape(-1, 1)\n",
    "label = LabelEncoder()\n",
    "#make y value the transformed dfy_ so it can be read by the model\n",
    "dfy = label.fit(dfy_).transform(dfy_)"
   ]
  },
  {
   "cell_type": "code",
   "execution_count": 6,
   "metadata": {},
   "outputs": [],
   "source": [
    "#drop the column with the y value\n",
    "dfx = df.drop(columns=['koi_disposition'])"
   ]
  },
  {
   "cell_type": "code",
   "execution_count": 7,
   "metadata": {},
   "outputs": [
    {
     "data": {
      "text/html": [
       "<div>\n",
       "<style scoped>\n",
       "    .dataframe tbody tr th:only-of-type {\n",
       "        vertical-align: middle;\n",
       "    }\n",
       "\n",
       "    .dataframe tbody tr th {\n",
       "        vertical-align: top;\n",
       "    }\n",
       "\n",
       "    .dataframe thead th {\n",
       "        text-align: right;\n",
       "    }\n",
       "</style>\n",
       "<table border=\"1\" class=\"dataframe\">\n",
       "  <thead>\n",
       "    <tr style=\"text-align: right;\">\n",
       "      <th></th>\n",
       "      <th>koi_fpflag_nt</th>\n",
       "      <th>koi_fpflag_ss</th>\n",
       "      <th>koi_fpflag_co</th>\n",
       "      <th>koi_fpflag_ec</th>\n",
       "      <th>koi_period</th>\n",
       "      <th>koi_period_err1</th>\n",
       "      <th>koi_period_err2</th>\n",
       "      <th>koi_time0bk</th>\n",
       "      <th>koi_time0bk_err1</th>\n",
       "      <th>koi_time0bk_err2</th>\n",
       "      <th>...</th>\n",
       "      <th>koi_steff_err2</th>\n",
       "      <th>koi_slogg</th>\n",
       "      <th>koi_slogg_err1</th>\n",
       "      <th>koi_slogg_err2</th>\n",
       "      <th>koi_srad</th>\n",
       "      <th>koi_srad_err1</th>\n",
       "      <th>koi_srad_err2</th>\n",
       "      <th>ra</th>\n",
       "      <th>dec</th>\n",
       "      <th>koi_kepmag</th>\n",
       "    </tr>\n",
       "  </thead>\n",
       "  <tbody>\n",
       "    <tr>\n",
       "      <th>0</th>\n",
       "      <td>0</td>\n",
       "      <td>0</td>\n",
       "      <td>0</td>\n",
       "      <td>0</td>\n",
       "      <td>54.418383</td>\n",
       "      <td>2.479000e-04</td>\n",
       "      <td>-2.479000e-04</td>\n",
       "      <td>162.513840</td>\n",
       "      <td>0.003520</td>\n",
       "      <td>-0.003520</td>\n",
       "      <td>...</td>\n",
       "      <td>-81</td>\n",
       "      <td>4.467</td>\n",
       "      <td>0.064</td>\n",
       "      <td>-0.096</td>\n",
       "      <td>0.927</td>\n",
       "      <td>0.105</td>\n",
       "      <td>-0.061</td>\n",
       "      <td>291.93423</td>\n",
       "      <td>48.141651</td>\n",
       "      <td>15.347</td>\n",
       "    </tr>\n",
       "    <tr>\n",
       "      <th>1</th>\n",
       "      <td>0</td>\n",
       "      <td>1</td>\n",
       "      <td>0</td>\n",
       "      <td>0</td>\n",
       "      <td>19.899140</td>\n",
       "      <td>1.490000e-05</td>\n",
       "      <td>-1.490000e-05</td>\n",
       "      <td>175.850252</td>\n",
       "      <td>0.000581</td>\n",
       "      <td>-0.000581</td>\n",
       "      <td>...</td>\n",
       "      <td>-176</td>\n",
       "      <td>4.544</td>\n",
       "      <td>0.044</td>\n",
       "      <td>-0.176</td>\n",
       "      <td>0.868</td>\n",
       "      <td>0.233</td>\n",
       "      <td>-0.078</td>\n",
       "      <td>297.00482</td>\n",
       "      <td>48.134129</td>\n",
       "      <td>15.436</td>\n",
       "    </tr>\n",
       "    <tr>\n",
       "      <th>2</th>\n",
       "      <td>0</td>\n",
       "      <td>1</td>\n",
       "      <td>0</td>\n",
       "      <td>0</td>\n",
       "      <td>1.736952</td>\n",
       "      <td>2.630000e-07</td>\n",
       "      <td>-2.630000e-07</td>\n",
       "      <td>170.307565</td>\n",
       "      <td>0.000115</td>\n",
       "      <td>-0.000115</td>\n",
       "      <td>...</td>\n",
       "      <td>-174</td>\n",
       "      <td>4.564</td>\n",
       "      <td>0.053</td>\n",
       "      <td>-0.168</td>\n",
       "      <td>0.791</td>\n",
       "      <td>0.201</td>\n",
       "      <td>-0.067</td>\n",
       "      <td>285.53461</td>\n",
       "      <td>48.285210</td>\n",
       "      <td>15.597</td>\n",
       "    </tr>\n",
       "    <tr>\n",
       "      <th>3</th>\n",
       "      <td>0</td>\n",
       "      <td>0</td>\n",
       "      <td>0</td>\n",
       "      <td>0</td>\n",
       "      <td>2.525592</td>\n",
       "      <td>3.760000e-06</td>\n",
       "      <td>-3.760000e-06</td>\n",
       "      <td>171.595550</td>\n",
       "      <td>0.001130</td>\n",
       "      <td>-0.001130</td>\n",
       "      <td>...</td>\n",
       "      <td>-211</td>\n",
       "      <td>4.438</td>\n",
       "      <td>0.070</td>\n",
       "      <td>-0.210</td>\n",
       "      <td>1.046</td>\n",
       "      <td>0.334</td>\n",
       "      <td>-0.133</td>\n",
       "      <td>288.75488</td>\n",
       "      <td>48.226200</td>\n",
       "      <td>15.509</td>\n",
       "    </tr>\n",
       "    <tr>\n",
       "      <th>4</th>\n",
       "      <td>0</td>\n",
       "      <td>0</td>\n",
       "      <td>0</td>\n",
       "      <td>0</td>\n",
       "      <td>4.134435</td>\n",
       "      <td>1.050000e-05</td>\n",
       "      <td>-1.050000e-05</td>\n",
       "      <td>172.979370</td>\n",
       "      <td>0.001900</td>\n",
       "      <td>-0.001900</td>\n",
       "      <td>...</td>\n",
       "      <td>-232</td>\n",
       "      <td>4.486</td>\n",
       "      <td>0.054</td>\n",
       "      <td>-0.229</td>\n",
       "      <td>0.972</td>\n",
       "      <td>0.315</td>\n",
       "      <td>-0.105</td>\n",
       "      <td>296.28613</td>\n",
       "      <td>48.224670</td>\n",
       "      <td>15.714</td>\n",
       "    </tr>\n",
       "  </tbody>\n",
       "</table>\n",
       "<p>5 rows × 40 columns</p>\n",
       "</div>"
      ],
      "text/plain": [
       "   koi_fpflag_nt  koi_fpflag_ss  koi_fpflag_co  koi_fpflag_ec  koi_period  \\\n",
       "0              0              0              0              0   54.418383   \n",
       "1              0              1              0              0   19.899140   \n",
       "2              0              1              0              0    1.736952   \n",
       "3              0              0              0              0    2.525592   \n",
       "4              0              0              0              0    4.134435   \n",
       "\n",
       "   koi_period_err1  koi_period_err2  koi_time0bk  koi_time0bk_err1  \\\n",
       "0     2.479000e-04    -2.479000e-04   162.513840          0.003520   \n",
       "1     1.490000e-05    -1.490000e-05   175.850252          0.000581   \n",
       "2     2.630000e-07    -2.630000e-07   170.307565          0.000115   \n",
       "3     3.760000e-06    -3.760000e-06   171.595550          0.001130   \n",
       "4     1.050000e-05    -1.050000e-05   172.979370          0.001900   \n",
       "\n",
       "   koi_time0bk_err2  ...  koi_steff_err2  koi_slogg  koi_slogg_err1  \\\n",
       "0         -0.003520  ...             -81      4.467           0.064   \n",
       "1         -0.000581  ...            -176      4.544           0.044   \n",
       "2         -0.000115  ...            -174      4.564           0.053   \n",
       "3         -0.001130  ...            -211      4.438           0.070   \n",
       "4         -0.001900  ...            -232      4.486           0.054   \n",
       "\n",
       "   koi_slogg_err2  koi_srad  koi_srad_err1  koi_srad_err2         ra  \\\n",
       "0          -0.096     0.927          0.105         -0.061  291.93423   \n",
       "1          -0.176     0.868          0.233         -0.078  297.00482   \n",
       "2          -0.168     0.791          0.201         -0.067  285.53461   \n",
       "3          -0.210     1.046          0.334         -0.133  288.75488   \n",
       "4          -0.229     0.972          0.315         -0.105  296.28613   \n",
       "\n",
       "         dec  koi_kepmag  \n",
       "0  48.141651      15.347  \n",
       "1  48.134129      15.436  \n",
       "2  48.285210      15.597  \n",
       "3  48.226200      15.509  \n",
       "4  48.224670      15.714  \n",
       "\n",
       "[5 rows x 40 columns]"
      ]
     },
     "execution_count": 7,
     "metadata": {},
     "output_type": "execute_result"
    }
   ],
   "source": [
    "dfx.head()"
   ]
  },
  {
   "cell_type": "code",
   "execution_count": 8,
   "metadata": {},
   "outputs": [
    {
     "name": "stdout",
     "output_type": "stream",
     "text": [
      "(6991, 40) (6991,)\n"
     ]
    }
   ],
   "source": [
    "print(dfx.shape, dfy.shape)"
   ]
  },
  {
   "cell_type": "code",
   "execution_count": 9,
   "metadata": {},
   "outputs": [],
   "source": [
    "#split data into training and testing data\n",
    "x_train, x_test, y_train, y_test = train_test_split(dfx, dfy, random_state=55)\n",
    "#scale x values\n",
    "x_scaler = StandardScaler().fit(x_train)\n",
    "x_train = x_scaler.transform(x_train)\n",
    "x_test = x_scaler.transform(x_test)"
   ]
  },
  {
   "cell_type": "code",
   "execution_count": 10,
   "metadata": {},
   "outputs": [],
   "source": [
    "#create model\n",
    "model = SVC(kernel='linear')"
   ]
  },
  {
   "cell_type": "code",
   "execution_count": 11,
   "metadata": {},
   "outputs": [
    {
     "data": {
      "text/plain": [
       "SVC(C=1.0, cache_size=200, class_weight=None, coef0=0.0,\n",
       "    decision_function_shape='ovr', degree=3, gamma='auto_deprecated',\n",
       "    kernel='linear', max_iter=-1, probability=False, random_state=None,\n",
       "    shrinking=True, tol=0.001, verbose=False)"
      ]
     },
     "execution_count": 11,
     "metadata": {},
     "output_type": "execute_result"
    }
   ],
   "source": [
    "model.fit(x_train, y_train)"
   ]
  },
  {
   "cell_type": "code",
   "execution_count": 12,
   "metadata": {},
   "outputs": [
    {
     "data": {
      "text/plain": [
       "0.8827231121281465"
      ]
     },
     "execution_count": 12,
     "metadata": {},
     "output_type": "execute_result"
    }
   ],
   "source": [
    "#this is the best model I am comfrotable with\n",
    "model.score(x_test, y_test)"
   ]
  },
  {
   "cell_type": "code",
   "execution_count": 13,
   "metadata": {},
   "outputs": [
    {
     "data": {
      "text/plain": [
       "0.8945260347129506"
      ]
     },
     "execution_count": 13,
     "metadata": {},
     "output_type": "execute_result"
    }
   ],
   "source": [
    "#check score of training data \n",
    "model.score(x_train, y_train)"
   ]
  },
  {
   "cell_type": "code",
   "execution_count": 14,
   "metadata": {},
   "outputs": [
    {
     "data": {
      "text/plain": [
       "koi_fpflag_ss     0.016370\n",
       "koi_slogg_err2    0.052535\n",
       "koi_steff_err1    0.093508\n",
       "koi_prad_err2     0.095478\n",
       "koi_insol         0.113769\n",
       "dec               0.120203\n",
       "ra                0.160894\n",
       "koi_model_snr     0.165949\n",
       "koi_time0bk       0.176092\n",
       "koi_kepmag        0.201436\n",
       "dtype: float64"
      ]
     },
     "execution_count": 14,
     "metadata": {},
     "output_type": "execute_result"
    }
   ],
   "source": [
    "#find features with low importance\n",
    "pd.Series(abs(model.coef_[0]), index=dfx.columns).nsmallest(10)"
   ]
  },
  {
   "cell_type": "code",
   "execution_count": 15,
   "metadata": {},
   "outputs": [],
   "source": [
    "#create a copy of dfx\n",
    "dfx_important_features = dfx.copy()\n",
    "#drop columns of features with low importance\n",
    "dfx_important_features = dfx_important_features.drop(columns=['koi_fpflag_ss'])"
   ]
  },
  {
   "cell_type": "code",
   "execution_count": 16,
   "metadata": {},
   "outputs": [],
   "source": [
    "#split data into training and testing data\n",
    "x_train, x_test, y_train, y_test = train_test_split(dfx_important_features, dfy, random_state=55)\n",
    "#scale x values\n",
    "x_scaler = StandardScaler().fit(x_train)\n",
    "x_train = x_scaler.transform(x_train)\n",
    "x_test = x_scaler.transform(x_test)"
   ]
  },
  {
   "cell_type": "code",
   "execution_count": 17,
   "metadata": {},
   "outputs": [],
   "source": [
    "#create model\n",
    "model2 = SVC(kernel='linear')"
   ]
  },
  {
   "cell_type": "code",
   "execution_count": 18,
   "metadata": {},
   "outputs": [
    {
     "data": {
      "text/plain": [
       "SVC(C=1.0, cache_size=200, class_weight=None, coef0=0.0,\n",
       "    decision_function_shape='ovr', degree=3, gamma='auto_deprecated',\n",
       "    kernel='linear', max_iter=-1, probability=False, random_state=None,\n",
       "    shrinking=True, tol=0.001, verbose=False)"
      ]
     },
     "execution_count": 18,
     "metadata": {},
     "output_type": "execute_result"
    }
   ],
   "source": [
    "model2.fit(x_train, y_train)"
   ]
  },
  {
   "cell_type": "code",
   "execution_count": 19,
   "metadata": {},
   "outputs": [
    {
     "data": {
      "text/plain": [
       "0.8575514874141876"
      ]
     },
     "execution_count": 19,
     "metadata": {},
     "output_type": "execute_result"
    }
   ],
   "source": [
    "#score went down by enough so that I don't want to drop important features\n",
    "model2.score(x_test, y_test)"
   ]
  },
  {
   "cell_type": "code",
   "execution_count": 20,
   "metadata": {},
   "outputs": [
    {
     "data": {
      "text/plain": [
       "0.8750715239366774"
      ]
     },
     "execution_count": 20,
     "metadata": {},
     "output_type": "execute_result"
    }
   ],
   "source": [
    "model2.score(x_train, y_train)"
   ]
  },
  {
   "cell_type": "code",
   "execution_count": 111,
   "metadata": {},
   "outputs": [],
   "source": [
    "#revert back to x values without dropping insignificient values\n",
    "#split data into training and testing data\n",
    "x_train, x_test, y_train, y_test = train_test_split(dfx, dfy, random_state=55)\n",
    "#scale x values\n",
    "x_scaler = StandardScaler().fit(x_train)\n",
    "x_train = x_scaler.transform(x_train)\n",
    "x_test = x_scaler.transform(x_test)"
   ]
  },
  {
   "cell_type": "code",
   "execution_count": 112,
   "metadata": {},
   "outputs": [],
   "source": [
    "param_grid = {\n",
    "    'C':[1,10,100,1000],\n",
    "    'gamma':[1,0.1,0.001,0.0001],\n",
    "    'kernel':['linear', 'poly','rbf', 'sigmoid'],\n",
    "    'probability':[False]} #look into probability being true on my own time"
   ]
  },
  {
   "cell_type": "code",
   "execution_count": 113,
   "metadata": {},
   "outputs": [],
   "source": [
    "grid = GridSearchCV(model, param_grid, verbose=3)"
   ]
  },
  {
   "cell_type": "code",
   "execution_count": 114,
   "metadata": {},
   "outputs": [
    {
     "name": "stdout",
     "output_type": "stream",
     "text": [
      "Fitting 3 folds for each of 64 candidates, totalling 192 fits\n",
      "[CV] C=1, gamma=1, kernel=linear, probability=False ..................\n"
     ]
    },
    {
     "name": "stderr",
     "output_type": "stream",
     "text": [
      "[Parallel(n_jobs=1)]: Using backend SequentialBackend with 1 concurrent workers.\n"
     ]
    },
    {
     "name": "stdout",
     "output_type": "stream",
     "text": [
      "[CV]  C=1, gamma=1, kernel=linear, probability=False, score=0.893, total=   0.4s\n",
      "[CV] C=1, gamma=1, kernel=linear, probability=False ..................\n"
     ]
    },
    {
     "name": "stderr",
     "output_type": "stream",
     "text": [
      "[Parallel(n_jobs=1)]: Done   1 out of   1 | elapsed:    0.4s remaining:    0.0s\n"
     ]
    },
    {
     "name": "stdout",
     "output_type": "stream",
     "text": [
      "[CV]  C=1, gamma=1, kernel=linear, probability=False, score=0.894, total=   0.4s\n",
      "[CV] C=1, gamma=1, kernel=linear, probability=False ..................\n"
     ]
    },
    {
     "name": "stderr",
     "output_type": "stream",
     "text": [
      "[Parallel(n_jobs=1)]: Done   2 out of   2 | elapsed:    0.8s remaining:    0.0s\n"
     ]
    },
    {
     "name": "stdout",
     "output_type": "stream",
     "text": [
      "[CV]  C=1, gamma=1, kernel=linear, probability=False, score=0.883, total=   0.3s\n",
      "[CV] C=1, gamma=1, kernel=poly, probability=False ....................\n",
      "[CV]  C=1, gamma=1, kernel=poly, probability=False, score=0.834, total=   2.7s\n",
      "[CV] C=1, gamma=1, kernel=poly, probability=False ....................\n",
      "[CV]  C=1, gamma=1, kernel=poly, probability=False, score=0.835, total=   2.6s\n",
      "[CV] C=1, gamma=1, kernel=poly, probability=False ....................\n",
      "[CV]  C=1, gamma=1, kernel=poly, probability=False, score=0.825, total=   2.4s\n",
      "[CV] C=1, gamma=1, kernel=rbf, probability=False .....................\n",
      "[CV]  C=1, gamma=1, kernel=rbf, probability=False, score=0.719, total=   1.3s\n",
      "[CV] C=1, gamma=1, kernel=rbf, probability=False .....................\n",
      "[CV]  C=1, gamma=1, kernel=rbf, probability=False, score=0.712, total=   1.3s\n",
      "[CV] C=1, gamma=1, kernel=rbf, probability=False .....................\n",
      "[CV]  C=1, gamma=1, kernel=rbf, probability=False, score=0.716, total=   1.3s\n",
      "[CV] C=1, gamma=1, kernel=sigmoid, probability=False .................\n",
      "[CV]  C=1, gamma=1, kernel=sigmoid, probability=False, score=0.593, total=   0.6s\n",
      "[CV] C=1, gamma=1, kernel=sigmoid, probability=False .................\n",
      "[CV]  C=1, gamma=1, kernel=sigmoid, probability=False, score=0.635, total=   0.6s\n",
      "[CV] C=1, gamma=1, kernel=sigmoid, probability=False .................\n",
      "[CV]  C=1, gamma=1, kernel=sigmoid, probability=False, score=0.608, total=   0.5s\n",
      "[CV] C=1, gamma=0.1, kernel=linear, probability=False ................\n",
      "[CV]  C=1, gamma=0.1, kernel=linear, probability=False, score=0.893, total=   0.4s\n",
      "[CV] C=1, gamma=0.1, kernel=linear, probability=False ................\n",
      "[CV]  C=1, gamma=0.1, kernel=linear, probability=False, score=0.894, total=   0.4s\n",
      "[CV] C=1, gamma=0.1, kernel=linear, probability=False ................\n",
      "[CV]  C=1, gamma=0.1, kernel=linear, probability=False, score=0.883, total=   0.3s\n",
      "[CV] C=1, gamma=0.1, kernel=poly, probability=False ..................\n",
      "[CV]  C=1, gamma=0.1, kernel=poly, probability=False, score=0.865, total=   0.3s\n",
      "[CV] C=1, gamma=0.1, kernel=poly, probability=False ..................\n",
      "[CV]  C=1, gamma=0.1, kernel=poly, probability=False, score=0.883, total=   0.3s\n",
      "[CV] C=1, gamma=0.1, kernel=poly, probability=False ..................\n",
      "[CV]  C=1, gamma=0.1, kernel=poly, probability=False, score=0.862, total=   0.3s\n",
      "[CV] C=1, gamma=0.1, kernel=rbf, probability=False ...................\n",
      "[CV]  C=1, gamma=0.1, kernel=rbf, probability=False, score=0.872, total=   0.5s\n",
      "[CV] C=1, gamma=0.1, kernel=rbf, probability=False ...................\n",
      "[CV]  C=1, gamma=0.1, kernel=rbf, probability=False, score=0.871, total=   0.5s\n",
      "[CV] C=1, gamma=0.1, kernel=rbf, probability=False ...................\n",
      "[CV]  C=1, gamma=0.1, kernel=rbf, probability=False, score=0.865, total=   0.5s\n",
      "[CV] C=1, gamma=0.1, kernel=sigmoid, probability=False ...............\n",
      "[CV]  C=1, gamma=0.1, kernel=sigmoid, probability=False, score=0.722, total=   0.4s\n",
      "[CV] C=1, gamma=0.1, kernel=sigmoid, probability=False ...............\n",
      "[CV]  C=1, gamma=0.1, kernel=sigmoid, probability=False, score=0.718, total=   0.3s\n",
      "[CV] C=1, gamma=0.1, kernel=sigmoid, probability=False ...............\n",
      "[CV]  C=1, gamma=0.1, kernel=sigmoid, probability=False, score=0.721, total=   0.3s\n",
      "[CV] C=1, gamma=0.001, kernel=linear, probability=False ..............\n",
      "[CV]  C=1, gamma=0.001, kernel=linear, probability=False, score=0.893, total=   0.4s\n",
      "[CV] C=1, gamma=0.001, kernel=linear, probability=False ..............\n",
      "[CV]  C=1, gamma=0.001, kernel=linear, probability=False, score=0.894, total=   0.4s\n",
      "[CV] C=1, gamma=0.001, kernel=linear, probability=False ..............\n",
      "[CV]  C=1, gamma=0.001, kernel=linear, probability=False, score=0.883, total=   0.3s\n",
      "[CV] C=1, gamma=0.001, kernel=poly, probability=False ................\n",
      "[CV]  C=1, gamma=0.001, kernel=poly, probability=False, score=0.505, total=   0.7s\n",
      "[CV] C=1, gamma=0.001, kernel=poly, probability=False ................\n",
      "[CV]  C=1, gamma=0.001, kernel=poly, probability=False, score=0.504, total=   0.8s\n",
      "[CV] C=1, gamma=0.001, kernel=poly, probability=False ................\n",
      "[CV]  C=1, gamma=0.001, kernel=poly, probability=False, score=0.505, total=   0.8s\n",
      "[CV] C=1, gamma=0.001, kernel=rbf, probability=False .................\n",
      "[CV]  C=1, gamma=0.001, kernel=rbf, probability=False, score=0.820, total=   0.7s\n",
      "[CV] C=1, gamma=0.001, kernel=rbf, probability=False .................\n",
      "[CV]  C=1, gamma=0.001, kernel=rbf, probability=False, score=0.844, total=   0.8s\n",
      "[CV] C=1, gamma=0.001, kernel=rbf, probability=False .................\n",
      "[CV]  C=1, gamma=0.001, kernel=rbf, probability=False, score=0.833, total=   0.7s\n",
      "[CV] C=1, gamma=0.001, kernel=sigmoid, probability=False .............\n",
      "[CV]  C=1, gamma=0.001, kernel=sigmoid, probability=False, score=0.808, total=   0.6s\n",
      "[CV] C=1, gamma=0.001, kernel=sigmoid, probability=False .............\n",
      "[CV]  C=1, gamma=0.001, kernel=sigmoid, probability=False, score=0.835, total=   0.7s\n",
      "[CV] C=1, gamma=0.001, kernel=sigmoid, probability=False .............\n",
      "[CV]  C=1, gamma=0.001, kernel=sigmoid, probability=False, score=0.828, total=   0.6s\n",
      "[CV] C=1, gamma=0.0001, kernel=linear, probability=False .............\n",
      "[CV]  C=1, gamma=0.0001, kernel=linear, probability=False, score=0.893, total=   0.4s\n",
      "[CV] C=1, gamma=0.0001, kernel=linear, probability=False .............\n",
      "[CV]  C=1, gamma=0.0001, kernel=linear, probability=False, score=0.894, total=   0.4s\n",
      "[CV] C=1, gamma=0.0001, kernel=linear, probability=False .............\n",
      "[CV]  C=1, gamma=0.0001, kernel=linear, probability=False, score=0.883, total=   0.3s\n",
      "[CV] C=1, gamma=0.0001, kernel=poly, probability=False ...............\n",
      "[CV]  C=1, gamma=0.0001, kernel=poly, probability=False, score=0.505, total=   0.7s\n",
      "[CV] C=1, gamma=0.0001, kernel=poly, probability=False ...............\n",
      "[CV]  C=1, gamma=0.0001, kernel=poly, probability=False, score=0.505, total=   0.7s\n",
      "[CV] C=1, gamma=0.0001, kernel=poly, probability=False ...............\n",
      "[CV]  C=1, gamma=0.0001, kernel=poly, probability=False, score=0.505, total=   0.7s\n",
      "[CV] C=1, gamma=0.0001, kernel=rbf, probability=False ................\n",
      "[CV]  C=1, gamma=0.0001, kernel=rbf, probability=False, score=0.616, total=   0.8s\n",
      "[CV] C=1, gamma=0.0001, kernel=rbf, probability=False ................\n",
      "[CV]  C=1, gamma=0.0001, kernel=rbf, probability=False, score=0.594, total=   0.9s\n",
      "[CV] C=1, gamma=0.0001, kernel=rbf, probability=False ................\n",
      "[CV]  C=1, gamma=0.0001, kernel=rbf, probability=False, score=0.624, total=   0.9s\n",
      "[CV] C=1, gamma=0.0001, kernel=sigmoid, probability=False ............\n",
      "[CV]  C=1, gamma=0.0001, kernel=sigmoid, probability=False, score=0.505, total=   0.8s\n",
      "[CV] C=1, gamma=0.0001, kernel=sigmoid, probability=False ............\n",
      "[CV]  C=1, gamma=0.0001, kernel=sigmoid, probability=False, score=0.505, total=   0.8s\n",
      "[CV] C=1, gamma=0.0001, kernel=sigmoid, probability=False ............\n",
      "[CV]  C=1, gamma=0.0001, kernel=sigmoid, probability=False, score=0.505, total=   0.8s\n",
      "[CV] C=10, gamma=1, kernel=linear, probability=False .................\n",
      "[CV]  C=10, gamma=1, kernel=linear, probability=False, score=0.895, total=   0.9s\n",
      "[CV] C=10, gamma=1, kernel=linear, probability=False .................\n",
      "[CV]  C=10, gamma=1, kernel=linear, probability=False, score=0.894, total=   1.5s\n",
      "[CV] C=10, gamma=1, kernel=linear, probability=False .................\n",
      "[CV]  C=10, gamma=1, kernel=linear, probability=False, score=0.883, total=   0.8s\n",
      "[CV] C=10, gamma=1, kernel=poly, probability=False ...................\n",
      "[CV]  C=10, gamma=1, kernel=poly, probability=False, score=0.824, total=   4.1s\n",
      "[CV] C=10, gamma=1, kernel=poly, probability=False ...................\n",
      "[CV]  C=10, gamma=1, kernel=poly, probability=False, score=0.818, total=   5.6s\n",
      "[CV] C=10, gamma=1, kernel=poly, probability=False ...................\n",
      "[CV]  C=10, gamma=1, kernel=poly, probability=False, score=0.817, total=   3.9s\n",
      "[CV] C=10, gamma=1, kernel=rbf, probability=False ....................\n",
      "[CV]  C=10, gamma=1, kernel=rbf, probability=False, score=0.721, total=   1.3s\n",
      "[CV] C=10, gamma=1, kernel=rbf, probability=False ....................\n",
      "[CV]  C=10, gamma=1, kernel=rbf, probability=False, score=0.713, total=   1.3s\n",
      "[CV] C=10, gamma=1, kernel=rbf, probability=False ....................\n"
     ]
    },
    {
     "name": "stdout",
     "output_type": "stream",
     "text": [
      "[CV]  C=10, gamma=1, kernel=rbf, probability=False, score=0.727, total=   1.3s\n",
      "[CV] C=10, gamma=1, kernel=sigmoid, probability=False ................\n",
      "[CV]  C=10, gamma=1, kernel=sigmoid, probability=False, score=0.593, total=   0.6s\n",
      "[CV] C=10, gamma=1, kernel=sigmoid, probability=False ................\n",
      "[CV]  C=10, gamma=1, kernel=sigmoid, probability=False, score=0.634, total=   0.6s\n",
      "[CV] C=10, gamma=1, kernel=sigmoid, probability=False ................\n",
      "[CV]  C=10, gamma=1, kernel=sigmoid, probability=False, score=0.605, total=   0.5s\n",
      "[CV] C=10, gamma=0.1, kernel=linear, probability=False ...............\n",
      "[CV]  C=10, gamma=0.1, kernel=linear, probability=False, score=0.895, total=   0.9s\n",
      "[CV] C=10, gamma=0.1, kernel=linear, probability=False ...............\n",
      "[CV]  C=10, gamma=0.1, kernel=linear, probability=False, score=0.894, total=   1.4s\n",
      "[CV] C=10, gamma=0.1, kernel=linear, probability=False ...............\n",
      "[CV]  C=10, gamma=0.1, kernel=linear, probability=False, score=0.883, total=   0.8s\n",
      "[CV] C=10, gamma=0.1, kernel=poly, probability=False .................\n",
      "[CV]  C=10, gamma=0.1, kernel=poly, probability=False, score=0.867, total=   0.4s\n",
      "[CV] C=10, gamma=0.1, kernel=poly, probability=False .................\n",
      "[CV]  C=10, gamma=0.1, kernel=poly, probability=False, score=0.867, total=   0.4s\n",
      "[CV] C=10, gamma=0.1, kernel=poly, probability=False .................\n",
      "[CV]  C=10, gamma=0.1, kernel=poly, probability=False, score=0.860, total=   0.3s\n",
      "[CV] C=10, gamma=0.1, kernel=rbf, probability=False ..................\n",
      "[CV]  C=10, gamma=0.1, kernel=rbf, probability=False, score=0.877, total=   0.5s\n",
      "[CV] C=10, gamma=0.1, kernel=rbf, probability=False ..................\n",
      "[CV]  C=10, gamma=0.1, kernel=rbf, probability=False, score=0.870, total=   0.5s\n",
      "[CV] C=10, gamma=0.1, kernel=rbf, probability=False ..................\n",
      "[CV]  C=10, gamma=0.1, kernel=rbf, probability=False, score=0.864, total=   0.5s\n",
      "[CV] C=10, gamma=0.1, kernel=sigmoid, probability=False ..............\n",
      "[CV]  C=10, gamma=0.1, kernel=sigmoid, probability=False, score=0.744, total=   0.3s\n",
      "[CV] C=10, gamma=0.1, kernel=sigmoid, probability=False ..............\n",
      "[CV]  C=10, gamma=0.1, kernel=sigmoid, probability=False, score=0.712, total=   0.3s\n",
      "[CV] C=10, gamma=0.1, kernel=sigmoid, probability=False ..............\n",
      "[CV]  C=10, gamma=0.1, kernel=sigmoid, probability=False, score=0.705, total=   0.3s\n",
      "[CV] C=10, gamma=0.001, kernel=linear, probability=False .............\n",
      "[CV]  C=10, gamma=0.001, kernel=linear, probability=False, score=0.895, total=   0.9s\n",
      "[CV] C=10, gamma=0.001, kernel=linear, probability=False .............\n",
      "[CV]  C=10, gamma=0.001, kernel=linear, probability=False, score=0.894, total=   1.4s\n",
      "[CV] C=10, gamma=0.001, kernel=linear, probability=False .............\n",
      "[CV]  C=10, gamma=0.001, kernel=linear, probability=False, score=0.883, total=   0.8s\n",
      "[CV] C=10, gamma=0.001, kernel=poly, probability=False ...............\n",
      "[CV]  C=10, gamma=0.001, kernel=poly, probability=False, score=0.505, total=   0.7s\n",
      "[CV] C=10, gamma=0.001, kernel=poly, probability=False ...............\n",
      "[CV]  C=10, gamma=0.001, kernel=poly, probability=False, score=0.506, total=   0.7s\n",
      "[CV] C=10, gamma=0.001, kernel=poly, probability=False ...............\n",
      "[CV]  C=10, gamma=0.001, kernel=poly, probability=False, score=0.505, total=   0.7s\n",
      "[CV] C=10, gamma=0.001, kernel=rbf, probability=False ................\n",
      "[CV]  C=10, gamma=0.001, kernel=rbf, probability=False, score=0.868, total=   0.4s\n",
      "[CV] C=10, gamma=0.001, kernel=rbf, probability=False ................\n",
      "[CV]  C=10, gamma=0.001, kernel=rbf, probability=False, score=0.882, total=   0.4s\n",
      "[CV] C=10, gamma=0.001, kernel=rbf, probability=False ................\n",
      "[CV]  C=10, gamma=0.001, kernel=rbf, probability=False, score=0.864, total=   0.3s\n",
      "[CV] C=10, gamma=0.001, kernel=sigmoid, probability=False ............\n",
      "[CV]  C=10, gamma=0.001, kernel=sigmoid, probability=False, score=0.862, total=   0.4s\n",
      "[CV] C=10, gamma=0.001, kernel=sigmoid, probability=False ............\n",
      "[CV]  C=10, gamma=0.001, kernel=sigmoid, probability=False, score=0.872, total=   0.4s\n",
      "[CV] C=10, gamma=0.001, kernel=sigmoid, probability=False ............\n",
      "[CV]  C=10, gamma=0.001, kernel=sigmoid, probability=False, score=0.862, total=   0.3s\n",
      "[CV] C=10, gamma=0.0001, kernel=linear, probability=False ............\n",
      "[CV]  C=10, gamma=0.0001, kernel=linear, probability=False, score=0.895, total=   0.9s\n",
      "[CV] C=10, gamma=0.0001, kernel=linear, probability=False ............\n",
      "[CV]  C=10, gamma=0.0001, kernel=linear, probability=False, score=0.894, total=   1.4s\n",
      "[CV] C=10, gamma=0.0001, kernel=linear, probability=False ............\n",
      "[CV]  C=10, gamma=0.0001, kernel=linear, probability=False, score=0.883, total=   0.9s\n",
      "[CV] C=10, gamma=0.0001, kernel=poly, probability=False ..............\n",
      "[CV]  C=10, gamma=0.0001, kernel=poly, probability=False, score=0.505, total=   0.7s\n",
      "[CV] C=10, gamma=0.0001, kernel=poly, probability=False ..............\n",
      "[CV]  C=10, gamma=0.0001, kernel=poly, probability=False, score=0.505, total=   0.7s\n",
      "[CV] C=10, gamma=0.0001, kernel=poly, probability=False ..............\n",
      "[CV]  C=10, gamma=0.0001, kernel=poly, probability=False, score=0.505, total=   0.7s\n",
      "[CV] C=10, gamma=0.0001, kernel=rbf, probability=False ...............\n",
      "[CV]  C=10, gamma=0.0001, kernel=rbf, probability=False, score=0.821, total=   0.6s\n",
      "[CV] C=10, gamma=0.0001, kernel=rbf, probability=False ...............\n",
      "[CV]  C=10, gamma=0.0001, kernel=rbf, probability=False, score=0.844, total=   0.6s\n",
      "[CV] C=10, gamma=0.0001, kernel=rbf, probability=False ...............\n",
      "[CV]  C=10, gamma=0.0001, kernel=rbf, probability=False, score=0.834, total=   0.6s\n",
      "[CV] C=10, gamma=0.0001, kernel=sigmoid, probability=False ...........\n",
      "[CV]  C=10, gamma=0.0001, kernel=sigmoid, probability=False, score=0.808, total=   0.6s\n",
      "[CV] C=10, gamma=0.0001, kernel=sigmoid, probability=False ...........\n",
      "[CV]  C=10, gamma=0.0001, kernel=sigmoid, probability=False, score=0.835, total=   0.7s\n",
      "[CV] C=10, gamma=0.0001, kernel=sigmoid, probability=False ...........\n",
      "[CV]  C=10, gamma=0.0001, kernel=sigmoid, probability=False, score=0.828, total=   0.6s\n",
      "[CV] C=100, gamma=1, kernel=linear, probability=False ................\n",
      "[CV]  C=100, gamma=1, kernel=linear, probability=False, score=0.895, total=   3.8s\n",
      "[CV] C=100, gamma=1, kernel=linear, probability=False ................\n",
      "[CV]  C=100, gamma=1, kernel=linear, probability=False, score=0.894, total=   5.8s\n",
      "[CV] C=100, gamma=1, kernel=linear, probability=False ................\n",
      "[CV]  C=100, gamma=1, kernel=linear, probability=False, score=0.880, total=   3.5s\n",
      "[CV] C=100, gamma=1, kernel=poly, probability=False ..................\n",
      "[CV]  C=100, gamma=1, kernel=poly, probability=False, score=0.822, total=   4.7s\n",
      "[CV] C=100, gamma=1, kernel=poly, probability=False ..................\n",
      "[CV]  C=100, gamma=1, kernel=poly, probability=False, score=0.816, total=   5.7s\n",
      "[CV] C=100, gamma=1, kernel=poly, probability=False ..................\n",
      "[CV]  C=100, gamma=1, kernel=poly, probability=False, score=0.817, total=   4.0s\n",
      "[CV] C=100, gamma=1, kernel=rbf, probability=False ...................\n",
      "[CV]  C=100, gamma=1, kernel=rbf, probability=False, score=0.721, total=   1.3s\n",
      "[CV] C=100, gamma=1, kernel=rbf, probability=False ...................\n",
      "[CV]  C=100, gamma=1, kernel=rbf, probability=False, score=0.713, total=   1.3s\n",
      "[CV] C=100, gamma=1, kernel=rbf, probability=False ...................\n",
      "[CV]  C=100, gamma=1, kernel=rbf, probability=False, score=0.727, total=   1.3s\n",
      "[CV] C=100, gamma=1, kernel=sigmoid, probability=False ...............\n",
      "[CV]  C=100, gamma=1, kernel=sigmoid, probability=False, score=0.611, total=   0.5s\n",
      "[CV] C=100, gamma=1, kernel=sigmoid, probability=False ...............\n",
      "[CV]  C=100, gamma=1, kernel=sigmoid, probability=False, score=0.636, total=   0.6s\n",
      "[CV] C=100, gamma=1, kernel=sigmoid, probability=False ...............\n",
      "[CV]  C=100, gamma=1, kernel=sigmoid, probability=False, score=0.607, total=   0.5s\n",
      "[CV] C=100, gamma=0.1, kernel=linear, probability=False ..............\n",
      "[CV]  C=100, gamma=0.1, kernel=linear, probability=False, score=0.895, total=   3.6s\n",
      "[CV] C=100, gamma=0.1, kernel=linear, probability=False ..............\n"
     ]
    },
    {
     "name": "stdout",
     "output_type": "stream",
     "text": [
      "[CV]  C=100, gamma=0.1, kernel=linear, probability=False, score=0.894, total=   5.7s\n",
      "[CV] C=100, gamma=0.1, kernel=linear, probability=False ..............\n",
      "[CV]  C=100, gamma=0.1, kernel=linear, probability=False, score=0.880, total=   3.4s\n",
      "[CV] C=100, gamma=0.1, kernel=poly, probability=False ................\n",
      "[CV]  C=100, gamma=0.1, kernel=poly, probability=False, score=0.842, total=   0.8s\n",
      "[CV] C=100, gamma=0.1, kernel=poly, probability=False ................\n",
      "[CV]  C=100, gamma=0.1, kernel=poly, probability=False, score=0.837, total=   0.9s\n",
      "[CV] C=100, gamma=0.1, kernel=poly, probability=False ................\n",
      "[CV]  C=100, gamma=0.1, kernel=poly, probability=False, score=0.842, total=   0.6s\n",
      "[CV] C=100, gamma=0.1, kernel=rbf, probability=False .................\n",
      "[CV]  C=100, gamma=0.1, kernel=rbf, probability=False, score=0.862, total=   0.6s\n",
      "[CV] C=100, gamma=0.1, kernel=rbf, probability=False .................\n",
      "[CV]  C=100, gamma=0.1, kernel=rbf, probability=False, score=0.849, total=   0.5s\n",
      "[CV] C=100, gamma=0.1, kernel=rbf, probability=False .................\n",
      "[CV]  C=100, gamma=0.1, kernel=rbf, probability=False, score=0.856, total=   0.5s\n",
      "[CV] C=100, gamma=0.1, kernel=sigmoid, probability=False .............\n",
      "[CV]  C=100, gamma=0.1, kernel=sigmoid, probability=False, score=0.715, total=   0.3s\n",
      "[CV] C=100, gamma=0.1, kernel=sigmoid, probability=False .............\n",
      "[CV]  C=100, gamma=0.1, kernel=sigmoid, probability=False, score=0.711, total=   0.3s\n",
      "[CV] C=100, gamma=0.1, kernel=sigmoid, probability=False .............\n",
      "[CV]  C=100, gamma=0.1, kernel=sigmoid, probability=False, score=0.722, total=   0.3s\n",
      "[CV] C=100, gamma=0.001, kernel=linear, probability=False ............\n",
      "[CV]  C=100, gamma=0.001, kernel=linear, probability=False, score=0.895, total=   3.7s\n",
      "[CV] C=100, gamma=0.001, kernel=linear, probability=False ............\n",
      "[CV]  C=100, gamma=0.001, kernel=linear, probability=False, score=0.894, total=   5.8s\n",
      "[CV] C=100, gamma=0.001, kernel=linear, probability=False ............\n",
      "[CV]  C=100, gamma=0.001, kernel=linear, probability=False, score=0.880, total=   3.6s\n",
      "[CV] C=100, gamma=0.001, kernel=poly, probability=False ..............\n",
      "[CV]  C=100, gamma=0.001, kernel=poly, probability=False, score=0.506, total=   0.7s\n",
      "[CV] C=100, gamma=0.001, kernel=poly, probability=False ..............\n",
      "[CV]  C=100, gamma=0.001, kernel=poly, probability=False, score=0.505, total=   0.7s\n",
      "[CV] C=100, gamma=0.001, kernel=poly, probability=False ..............\n",
      "[CV]  C=100, gamma=0.001, kernel=poly, probability=False, score=0.506, total=   0.7s\n",
      "[CV] C=100, gamma=0.001, kernel=rbf, probability=False ...............\n",
      "[CV]  C=100, gamma=0.001, kernel=rbf, probability=False, score=0.887, total=   0.3s\n",
      "[CV] C=100, gamma=0.001, kernel=rbf, probability=False ...............\n",
      "[CV]  C=100, gamma=0.001, kernel=rbf, probability=False, score=0.891, total=   0.3s\n",
      "[CV] C=100, gamma=0.001, kernel=rbf, probability=False ...............\n",
      "[CV]  C=100, gamma=0.001, kernel=rbf, probability=False, score=0.883, total=   0.3s\n",
      "[CV] C=100, gamma=0.001, kernel=sigmoid, probability=False ...........\n",
      "[CV]  C=100, gamma=0.001, kernel=sigmoid, probability=False, score=0.881, total=   0.2s\n",
      "[CV] C=100, gamma=0.001, kernel=sigmoid, probability=False ...........\n",
      "[CV]  C=100, gamma=0.001, kernel=sigmoid, probability=False, score=0.876, total=   0.2s\n",
      "[CV] C=100, gamma=0.001, kernel=sigmoid, probability=False ...........\n",
      "[CV]  C=100, gamma=0.001, kernel=sigmoid, probability=False, score=0.871, total=   0.2s\n",
      "[CV] C=100, gamma=0.0001, kernel=linear, probability=False ...........\n",
      "[CV]  C=100, gamma=0.0001, kernel=linear, probability=False, score=0.895, total=   3.6s\n",
      "[CV] C=100, gamma=0.0001, kernel=linear, probability=False ...........\n",
      "[CV]  C=100, gamma=0.0001, kernel=linear, probability=False, score=0.894, total=   5.6s\n",
      "[CV] C=100, gamma=0.0001, kernel=linear, probability=False ...........\n",
      "[CV]  C=100, gamma=0.0001, kernel=linear, probability=False, score=0.880, total=   3.4s\n",
      "[CV] C=100, gamma=0.0001, kernel=poly, probability=False .............\n",
      "[CV]  C=100, gamma=0.0001, kernel=poly, probability=False, score=0.505, total=   0.7s\n",
      "[CV] C=100, gamma=0.0001, kernel=poly, probability=False .............\n",
      "[CV]  C=100, gamma=0.0001, kernel=poly, probability=False, score=0.505, total=   0.7s\n",
      "[CV] C=100, gamma=0.0001, kernel=poly, probability=False .............\n",
      "[CV]  C=100, gamma=0.0001, kernel=poly, probability=False, score=0.505, total=   0.7s\n",
      "[CV] C=100, gamma=0.0001, kernel=rbf, probability=False ..............\n",
      "[CV]  C=100, gamma=0.0001, kernel=rbf, probability=False, score=0.871, total=   0.5s\n",
      "[CV] C=100, gamma=0.0001, kernel=rbf, probability=False ..............\n",
      "[CV]  C=100, gamma=0.0001, kernel=rbf, probability=False, score=0.882, total=   0.5s\n",
      "[CV] C=100, gamma=0.0001, kernel=rbf, probability=False ..............\n",
      "[CV]  C=100, gamma=0.0001, kernel=rbf, probability=False, score=0.866, total=   0.4s\n",
      "[CV] C=100, gamma=0.0001, kernel=sigmoid, probability=False ..........\n",
      "[CV]  C=100, gamma=0.0001, kernel=sigmoid, probability=False, score=0.862, total=   0.6s\n",
      "[CV] C=100, gamma=0.0001, kernel=sigmoid, probability=False ..........\n",
      "[CV]  C=100, gamma=0.0001, kernel=sigmoid, probability=False, score=0.872, total=   0.5s\n",
      "[CV] C=100, gamma=0.0001, kernel=sigmoid, probability=False ..........\n",
      "[CV]  C=100, gamma=0.0001, kernel=sigmoid, probability=False, score=0.862, total=   0.4s\n",
      "[CV] C=1000, gamma=1, kernel=linear, probability=False ...............\n",
      "[CV]  C=1000, gamma=1, kernel=linear, probability=False, score=0.894, total= 1.5min\n",
      "[CV] C=1000, gamma=1, kernel=linear, probability=False ...............\n",
      "[CV]  C=1000, gamma=1, kernel=linear, probability=False, score=0.892, total= 1.7min\n",
      "[CV] C=1000, gamma=1, kernel=linear, probability=False ...............\n",
      "[CV]  C=1000, gamma=1, kernel=linear, probability=False, score=0.879, total= 1.2min\n",
      "[CV] C=1000, gamma=1, kernel=poly, probability=False .................\n",
      "[CV]  C=1000, gamma=1, kernel=poly, probability=False, score=0.822, total=   4.8s\n",
      "[CV] C=1000, gamma=1, kernel=poly, probability=False .................\n",
      "[CV]  C=1000, gamma=1, kernel=poly, probability=False, score=0.816, total=   5.4s\n",
      "[CV] C=1000, gamma=1, kernel=poly, probability=False .................\n",
      "[CV]  C=1000, gamma=1, kernel=poly, probability=False, score=0.817, total=   4.0s\n",
      "[CV] C=1000, gamma=1, kernel=rbf, probability=False ..................\n",
      "[CV]  C=1000, gamma=1, kernel=rbf, probability=False, score=0.721, total=   1.3s\n",
      "[CV] C=1000, gamma=1, kernel=rbf, probability=False ..................\n",
      "[CV]  C=1000, gamma=1, kernel=rbf, probability=False, score=0.713, total=   1.3s\n",
      "[CV] C=1000, gamma=1, kernel=rbf, probability=False ..................\n",
      "[CV]  C=1000, gamma=1, kernel=rbf, probability=False, score=0.727, total=   1.3s\n",
      "[CV] C=1000, gamma=1, kernel=sigmoid, probability=False ..............\n",
      "[CV]  C=1000, gamma=1, kernel=sigmoid, probability=False, score=0.613, total=   0.5s\n",
      "[CV] C=1000, gamma=1, kernel=sigmoid, probability=False ..............\n",
      "[CV]  C=1000, gamma=1, kernel=sigmoid, probability=False, score=0.638, total=   0.6s\n",
      "[CV] C=1000, gamma=1, kernel=sigmoid, probability=False ..............\n",
      "[CV]  C=1000, gamma=1, kernel=sigmoid, probability=False, score=0.607, total=   0.5s\n",
      "[CV] C=1000, gamma=0.1, kernel=linear, probability=False .............\n",
      "[CV]  C=1000, gamma=0.1, kernel=linear, probability=False, score=0.894, total= 1.5min\n",
      "[CV] C=1000, gamma=0.1, kernel=linear, probability=False .............\n",
      "[CV]  C=1000, gamma=0.1, kernel=linear, probability=False, score=0.892, total= 1.7min\n",
      "[CV] C=1000, gamma=0.1, kernel=linear, probability=False .............\n",
      "[CV]  C=1000, gamma=0.1, kernel=linear, probability=False, score=0.879, total= 1.2min\n",
      "[CV] C=1000, gamma=0.1, kernel=poly, probability=False ...............\n",
      "[CV]  C=1000, gamma=0.1, kernel=poly, probability=False, score=0.834, total=   3.2s\n",
      "[CV] C=1000, gamma=0.1, kernel=poly, probability=False ...............\n",
      "[CV]  C=1000, gamma=0.1, kernel=poly, probability=False, score=0.835, total=   2.4s\n",
      "[CV] C=1000, gamma=0.1, kernel=poly, probability=False ...............\n",
      "[CV]  C=1000, gamma=0.1, kernel=poly, probability=False, score=0.825, total=   2.1s\n",
      "[CV] C=1000, gamma=0.1, kernel=rbf, probability=False ................\n"
     ]
    },
    {
     "name": "stdout",
     "output_type": "stream",
     "text": [
      "[CV]  C=1000, gamma=0.1, kernel=rbf, probability=False, score=0.850, total=   0.7s\n",
      "[CV] C=1000, gamma=0.1, kernel=rbf, probability=False ................\n",
      "[CV]  C=1000, gamma=0.1, kernel=rbf, probability=False, score=0.839, total=   0.8s\n",
      "[CV] C=1000, gamma=0.1, kernel=rbf, probability=False ................\n",
      "[CV]  C=1000, gamma=0.1, kernel=rbf, probability=False, score=0.834, total=   0.8s\n",
      "[CV] C=1000, gamma=0.1, kernel=sigmoid, probability=False ............\n",
      "[CV]  C=1000, gamma=0.1, kernel=sigmoid, probability=False, score=0.718, total=   0.4s\n",
      "[CV] C=1000, gamma=0.1, kernel=sigmoid, probability=False ............\n",
      "[CV]  C=1000, gamma=0.1, kernel=sigmoid, probability=False, score=0.733, total=   0.3s\n",
      "[CV] C=1000, gamma=0.1, kernel=sigmoid, probability=False ............\n",
      "[CV]  C=1000, gamma=0.1, kernel=sigmoid, probability=False, score=0.704, total=   0.3s\n",
      "[CV] C=1000, gamma=0.001, kernel=linear, probability=False ...........\n",
      "[CV]  C=1000, gamma=0.001, kernel=linear, probability=False, score=0.894, total= 1.5min\n",
      "[CV] C=1000, gamma=0.001, kernel=linear, probability=False ...........\n",
      "[CV]  C=1000, gamma=0.001, kernel=linear, probability=False, score=0.892, total= 1.7min\n",
      "[CV] C=1000, gamma=0.001, kernel=linear, probability=False ...........\n",
      "[CV]  C=1000, gamma=0.001, kernel=linear, probability=False, score=0.879, total= 1.2min\n",
      "[CV] C=1000, gamma=0.001, kernel=poly, probability=False .............\n",
      "[CV]  C=1000, gamma=0.001, kernel=poly, probability=False, score=0.520, total=   0.7s\n",
      "[CV] C=1000, gamma=0.001, kernel=poly, probability=False .............\n",
      "[CV]  C=1000, gamma=0.001, kernel=poly, probability=False, score=0.519, total=   0.7s\n",
      "[CV] C=1000, gamma=0.001, kernel=poly, probability=False .............\n",
      "[CV]  C=1000, gamma=0.001, kernel=poly, probability=False, score=0.519, total=   0.7s\n",
      "[CV] C=1000, gamma=0.001, kernel=rbf, probability=False ..............\n",
      "[CV]  C=1000, gamma=0.001, kernel=rbf, probability=False, score=0.901, total=   0.3s\n",
      "[CV] C=1000, gamma=0.001, kernel=rbf, probability=False ..............\n",
      "[CV]  C=1000, gamma=0.001, kernel=rbf, probability=False, score=0.894, total=   0.3s\n",
      "[CV] C=1000, gamma=0.001, kernel=rbf, probability=False ..............\n",
      "[CV]  C=1000, gamma=0.001, kernel=rbf, probability=False, score=0.885, total=   0.3s\n",
      "[CV] C=1000, gamma=0.001, kernel=sigmoid, probability=False ..........\n",
      "[CV]  C=1000, gamma=0.001, kernel=sigmoid, probability=False, score=0.882, total=   0.2s\n",
      "[CV] C=1000, gamma=0.001, kernel=sigmoid, probability=False ..........\n",
      "[CV]  C=1000, gamma=0.001, kernel=sigmoid, probability=False, score=0.862, total=   0.3s\n",
      "[CV] C=1000, gamma=0.001, kernel=sigmoid, probability=False ..........\n",
      "[CV]  C=1000, gamma=0.001, kernel=sigmoid, probability=False, score=0.868, total=   0.2s\n",
      "[CV] C=1000, gamma=0.0001, kernel=linear, probability=False ..........\n",
      "[CV]  C=1000, gamma=0.0001, kernel=linear, probability=False, score=0.894, total= 1.5min\n",
      "[CV] C=1000, gamma=0.0001, kernel=linear, probability=False ..........\n",
      "[CV]  C=1000, gamma=0.0001, kernel=linear, probability=False, score=0.892, total= 1.8min\n",
      "[CV] C=1000, gamma=0.0001, kernel=linear, probability=False ..........\n",
      "[CV]  C=1000, gamma=0.0001, kernel=linear, probability=False, score=0.879, total= 1.2min\n",
      "[CV] C=1000, gamma=0.0001, kernel=poly, probability=False ............\n",
      "[CV]  C=1000, gamma=0.0001, kernel=poly, probability=False, score=0.505, total=   0.7s\n",
      "[CV] C=1000, gamma=0.0001, kernel=poly, probability=False ............\n",
      "[CV]  C=1000, gamma=0.0001, kernel=poly, probability=False, score=0.504, total=   0.7s\n",
      "[CV] C=1000, gamma=0.0001, kernel=poly, probability=False ............\n",
      "[CV]  C=1000, gamma=0.0001, kernel=poly, probability=False, score=0.505, total=   0.7s\n",
      "[CV] C=1000, gamma=0.0001, kernel=rbf, probability=False .............\n",
      "[CV]  C=1000, gamma=0.0001, kernel=rbf, probability=False, score=0.889, total=   0.5s\n",
      "[CV] C=1000, gamma=0.0001, kernel=rbf, probability=False .............\n",
      "[CV]  C=1000, gamma=0.0001, kernel=rbf, probability=False, score=0.895, total=   0.5s\n",
      "[CV] C=1000, gamma=0.0001, kernel=rbf, probability=False .............\n",
      "[CV]  C=1000, gamma=0.0001, kernel=rbf, probability=False, score=0.880, total=   0.4s\n",
      "[CV] C=1000, gamma=0.0001, kernel=sigmoid, probability=False .........\n",
      "[CV]  C=1000, gamma=0.0001, kernel=sigmoid, probability=False, score=0.885, total=   0.4s\n",
      "[CV] C=1000, gamma=0.0001, kernel=sigmoid, probability=False .........\n",
      "[CV]  C=1000, gamma=0.0001, kernel=sigmoid, probability=False, score=0.887, total=   0.4s\n",
      "[CV] C=1000, gamma=0.0001, kernel=sigmoid, probability=False .........\n",
      "[CV]  C=1000, gamma=0.0001, kernel=sigmoid, probability=False, score=0.876, total=   0.2s\n"
     ]
    },
    {
     "name": "stderr",
     "output_type": "stream",
     "text": [
      "[Parallel(n_jobs=1)]: Done 192 out of 192 | elapsed: 21.2min finished\n"
     ]
    },
    {
     "data": {
      "text/plain": [
       "GridSearchCV(cv='warn', error_score='raise-deprecating',\n",
       "             estimator=SVC(C=1.0, cache_size=200, class_weight=None, coef0=0.0,\n",
       "                           decision_function_shape='ovr', degree=3,\n",
       "                           gamma='auto_deprecated', kernel='linear',\n",
       "                           max_iter=-1, probability=False, random_state=None,\n",
       "                           shrinking=True, tol=0.001, verbose=False),\n",
       "             iid='warn', n_jobs=None,\n",
       "             param_grid={'C': [1, 10, 100, 1000],\n",
       "                         'gamma': [1, 0.1, 0.001, 0.0001],\n",
       "                         'kernel': ['linear', 'poly', 'rbf', 'sigmoid'],\n",
       "                         'probability': [False]},\n",
       "             pre_dispatch='2*n_jobs', refit=True, return_train_score=False,\n",
       "             scoring=None, verbose=3)"
      ]
     },
     "execution_count": 114,
     "metadata": {},
     "output_type": "execute_result"
    }
   ],
   "source": [
    "grid.fit(x_train, y_train)\n"
   ]
  },
  {
   "cell_type": "code",
   "execution_count": 115,
   "metadata": {},
   "outputs": [
    {
     "data": {
      "text/plain": [
       "{'C': 1000, 'gamma': 0.001, 'kernel': 'rbf', 'probability': False}"
      ]
     },
     "execution_count": 115,
     "metadata": {},
     "output_type": "execute_result"
    }
   ],
   "source": [
    "best_parameters = grid.best_params_\n",
    "best_parameters\n",
    "#reviewed grid and the best score is under the best testing score of existing models"
   ]
  },
  {
   "cell_type": "code",
   "execution_count": 116,
   "metadata": {},
   "outputs": [],
   "source": [
    "model3 = SVC(C=1000, gamma=0.001, kernel='rbf', probability=False)"
   ]
  },
  {
   "cell_type": "code",
   "execution_count": 117,
   "metadata": {},
   "outputs": [
    {
     "data": {
      "text/plain": [
       "SVC(C=1000, cache_size=200, class_weight=None, coef0=0.0,\n",
       "    decision_function_shape='ovr', degree=3, gamma=0.001, kernel='rbf',\n",
       "    max_iter=-1, probability=False, random_state=None, shrinking=True,\n",
       "    tol=0.001, verbose=False)"
      ]
     },
     "execution_count": 117,
     "metadata": {},
     "output_type": "execute_result"
    }
   ],
   "source": [
    "model3.fit(x_train, y_train)"
   ]
  },
  {
   "cell_type": "code",
   "execution_count": 118,
   "metadata": {},
   "outputs": [
    {
     "data": {
      "text/plain": [
       "0.8872997711670481"
      ]
     },
     "execution_count": 118,
     "metadata": {},
     "output_type": "execute_result"
    }
   ],
   "source": [
    "#score did not improve\n",
    "model3.score(x_test, y_test)"
   ]
  },
  {
   "cell_type": "code",
   "execution_count": 119,
   "metadata": {},
   "outputs": [
    {
     "data": {
      "text/plain": [
       "0.906732786572573"
      ]
     },
     "execution_count": 119,
     "metadata": {},
     "output_type": "execute_result"
    }
   ],
   "source": [
    "model3.score(x_train, y_train)"
   ]
  },
  {
   "cell_type": "code",
   "execution_count": 120,
   "metadata": {},
   "outputs": [],
   "source": [
    "#trying with one of the top scoring models of the grid search\n",
    "#C=1000, gamma=0.0001, kernel=rbf, probability=False, score=0.895\n",
    "model4 = SVC(C=1000, gamma=0.0001, kernel='rbf', probability=False)"
   ]
  },
  {
   "cell_type": "code",
   "execution_count": 121,
   "metadata": {},
   "outputs": [
    {
     "data": {
      "text/plain": [
       "SVC(C=1000, cache_size=200, class_weight=None, coef0=0.0,\n",
       "    decision_function_shape='ovr', degree=3, gamma=0.0001, kernel='rbf',\n",
       "    max_iter=-1, probability=False, random_state=None, shrinking=True,\n",
       "    tol=0.001, verbose=False)"
      ]
     },
     "execution_count": 121,
     "metadata": {},
     "output_type": "execute_result"
    }
   ],
   "source": [
    "model4.fit(x_train, y_train)"
   ]
  },
  {
   "cell_type": "code",
   "execution_count": 122,
   "metadata": {},
   "outputs": [
    {
     "data": {
      "text/plain": [
       "0.8787185354691075"
      ]
     },
     "execution_count": 122,
     "metadata": {},
     "output_type": "execute_result"
    }
   ],
   "source": [
    "#still not improving\n",
    "model4.score(x_test, y_test)"
   ]
  },
  {
   "cell_type": "code",
   "execution_count": 123,
   "metadata": {},
   "outputs": [
    {
     "data": {
      "text/plain": [
       "0.8928094602326913"
      ]
     },
     "execution_count": 123,
     "metadata": {},
     "output_type": "execute_result"
    }
   ],
   "source": [
    "model4.score(x_train, y_train)"
   ]
  },
  {
   "cell_type": "code",
   "execution_count": 185,
   "metadata": {},
   "outputs": [],
   "source": [
    "#try to improve r^2 score with more training data \n",
    "#split data into training and testing data\n",
    "x_train, x_test, y_train, y_test = train_test_split(dfx, dfy, random_state=55, train_size=0.8)\n",
    "#scale x values\n",
    "x_scaler = StandardScaler().fit(x_train)\n",
    "x_train = x_scaler.transform(x_train)\n",
    "x_test = x_scaler.transform(x_test)"
   ]
  },
  {
   "cell_type": "code",
   "execution_count": 186,
   "metadata": {},
   "outputs": [],
   "source": [
    "model5 = SVC(kernel='linear')"
   ]
  },
  {
   "cell_type": "code",
   "execution_count": 187,
   "metadata": {},
   "outputs": [
    {
     "data": {
      "text/plain": [
       "SVC(C=1.0, cache_size=200, class_weight=None, coef0=0.0,\n",
       "    decision_function_shape='ovr', degree=3, gamma='auto_deprecated',\n",
       "    kernel='linear', max_iter=-1, probability=False, random_state=None,\n",
       "    shrinking=True, tol=0.001, verbose=False)"
      ]
     },
     "execution_count": 187,
     "metadata": {},
     "output_type": "execute_result"
    }
   ],
   "source": [
    "model5.fit(x_train, y_train)"
   ]
  },
  {
   "cell_type": "code",
   "execution_count": 188,
   "metadata": {},
   "outputs": [
    {
     "data": {
      "text/plain": [
       "0.873481057898499"
      ]
     },
     "execution_count": 188,
     "metadata": {},
     "output_type": "execute_result"
    }
   ],
   "source": [
    "model5.score(x_test, y_test)"
   ]
  },
  {
   "cell_type": "code",
   "execution_count": 189,
   "metadata": {},
   "outputs": [
    {
     "data": {
      "text/plain": [
       "0.8957439198855508"
      ]
     },
     "execution_count": 189,
     "metadata": {},
     "output_type": "execute_result"
    }
   ],
   "source": [
    "model5.score(x_train, y_train)"
   ]
  },
  {
   "cell_type": "code",
   "execution_count": 226,
   "metadata": {},
   "outputs": [
    {
     "data": {
      "text/plain": [
       "koi_fpflag_ss     0.002828\n",
       "koi_srad          0.047029\n",
       "koi_slogg_err2    0.064422\n",
       "koi_insol         0.080272\n",
       "koi_prad_err2     0.119443\n",
       "dec               0.132364\n",
       "ra                0.154280\n",
       "koi_steff_err1    0.165924\n",
       "koi_model_snr     0.168165\n",
       "koi_steff_err2    0.168686\n",
       "dtype: float64"
      ]
     },
     "execution_count": 226,
     "metadata": {},
     "output_type": "execute_result"
    }
   ],
   "source": [
    "#find features with low importance\n",
    "pd.Series(abs(model5.coef_[0]), index=dfx.columns).nsmallest(10)"
   ]
  },
  {
   "cell_type": "code",
   "execution_count": 227,
   "metadata": {},
   "outputs": [],
   "source": [
    "#create a copy of dfx\n",
    "dfx_important_features = dfx.copy()\n",
    "#drop columns of features with low importance\n",
    "dfx_important_features = dfx_important_features.drop(columns=['koi_fpflag_ss'])\n",
    "\n",
    "#split data into training and testing data\n",
    "x_train, x_test, y_train, y_test = train_test_split(dfx_important_features, dfy, random_state=55, train_size=0.8)\n",
    "#scale x values\n",
    "x_scaler = StandardScaler().fit(x_train)\n",
    "x_train = x_scaler.transform(x_train)\n",
    "x_test = x_scaler.transform(x_test)\n",
    "\n",
    "#this is the same column that we dropped (and later re-added upon performance decline) above"
   ]
  },
  {
   "cell_type": "code",
   "execution_count": 228,
   "metadata": {},
   "outputs": [],
   "source": [
    "model6 = SVC(kernel='linear')"
   ]
  },
  {
   "cell_type": "code",
   "execution_count": 229,
   "metadata": {},
   "outputs": [
    {
     "data": {
      "text/plain": [
       "SVC(C=1.0, cache_size=200, class_weight=None, coef0=0.0,\n",
       "    decision_function_shape='ovr', degree=3, gamma='auto_deprecated',\n",
       "    kernel='linear', max_iter=-1, probability=False, random_state=None,\n",
       "    shrinking=True, tol=0.001, verbose=False)"
      ]
     },
     "execution_count": 229,
     "metadata": {},
     "output_type": "execute_result"
    }
   ],
   "source": [
    "model6.fit(x_train, y_train)"
   ]
  },
  {
   "cell_type": "code",
   "execution_count": 230,
   "metadata": {},
   "outputs": [
    {
     "data": {
      "text/plain": [
       "0.8463187991422445"
      ]
     },
     "execution_count": 230,
     "metadata": {},
     "output_type": "execute_result"
    }
   ],
   "source": [
    "model6.score(x_test, y_test)"
   ]
  },
  {
   "cell_type": "code",
   "execution_count": 231,
   "metadata": {},
   "outputs": [
    {
     "data": {
      "text/plain": [
       "0.8758941344778255"
      ]
     },
     "execution_count": 231,
     "metadata": {},
     "output_type": "execute_result"
    }
   ],
   "source": [
    "model6.score(x_train, y_train)"
   ]
  },
  {
   "cell_type": "code",
   "execution_count": 220,
   "metadata": {},
   "outputs": [],
   "source": [
    "#experiment with less training data\n",
    "#split data into training and testing data\n",
    "x_train, x_test, y_train, y_test = train_test_split(dfx, dfy, random_state=55, train_size=0.6)\n",
    "#scale x values\n",
    "x_scaler = StandardScaler().fit(x_train)\n",
    "x_train = x_scaler.transform(x_train)\n",
    "x_test = x_scaler.transform(x_test)"
   ]
  },
  {
   "cell_type": "code",
   "execution_count": 221,
   "metadata": {},
   "outputs": [],
   "source": [
    "model6 = SVC(kernel='linear')"
   ]
  },
  {
   "cell_type": "code",
   "execution_count": 222,
   "metadata": {},
   "outputs": [
    {
     "data": {
      "text/plain": [
       "SVC(C=1.0, cache_size=200, class_weight=None, coef0=0.0,\n",
       "    decision_function_shape='ovr', degree=3, gamma='auto_deprecated',\n",
       "    kernel='linear', max_iter=-1, probability=False, random_state=None,\n",
       "    shrinking=True, tol=0.001, verbose=False)"
      ]
     },
     "execution_count": 222,
     "metadata": {},
     "output_type": "execute_result"
    }
   ],
   "source": [
    "model6.fit(x_train, y_train)"
   ]
  },
  {
   "cell_type": "code",
   "execution_count": 223,
   "metadata": {},
   "outputs": [
    {
     "data": {
      "text/plain": [
       "0.8895244905255631"
      ]
     },
     "execution_count": 223,
     "metadata": {},
     "output_type": "execute_result"
    }
   ],
   "source": [
    "model6.score(x_test, y_test)"
   ]
  },
  {
   "cell_type": "code",
   "execution_count": 224,
   "metadata": {},
   "outputs": [
    {
     "data": {
      "text/plain": [
       "0.894134477825465"
      ]
     },
     "execution_count": 224,
     "metadata": {},
     "output_type": "execute_result"
    }
   ],
   "source": [
    "model6.score(x_train, y_train)"
   ]
  },
  {
   "cell_type": "code",
   "execution_count": 225,
   "metadata": {},
   "outputs": [
    {
     "data": {
      "text/plain": [
       "['SVC.sav']"
      ]
     },
     "execution_count": 225,
     "metadata": {},
     "output_type": "execute_result"
    }
   ],
   "source": [
    "import joblib\n",
    "file = 'SVC.sav'\n",
    "joblib.dump(model, file)"
   ]
  },
  {
   "cell_type": "code",
   "execution_count": null,
   "metadata": {},
   "outputs": [],
   "source": []
  }
 ],
 "metadata": {
  "kernelspec": {
   "display_name": "Python 3",
   "language": "python",
   "name": "python3"
  },
  "language_info": {
   "codemirror_mode": {
    "name": "ipython",
    "version": 3
   },
   "file_extension": ".py",
   "mimetype": "text/x-python",
   "name": "python",
   "nbconvert_exporter": "python",
   "pygments_lexer": "ipython3",
   "version": "3.7.3"
  }
 },
 "nbformat": 4,
 "nbformat_minor": 2
}
